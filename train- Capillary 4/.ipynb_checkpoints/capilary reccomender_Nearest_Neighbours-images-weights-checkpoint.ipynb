{
 "cells": [
  {
   "cell_type": "code",
   "execution_count": 1,
   "metadata": {},
   "outputs": [],
   "source": [
    "import pandas as pd\n",
    "from surprise import Reader, Dataset\n",
    "from surprise import SVD, evaluate\n",
    "from surprise import NMF\n",
    "import matplotlib.pyplot as plt\n",
    "import math\n",
    "import numpy as np\n"
   ]
  },
  {
   "cell_type": "code",
   "execution_count": 2,
   "metadata": {},
   "outputs": [],
   "source": [
    "from sklearn.neighbors import NearestNeighbors\n",
    "from sklearn.preprocessing import StandardScaler  \n"
   ]
  },
  {
   "cell_type": "code",
   "execution_count": 3,
   "metadata": {},
   "outputs": [
    {
     "name": "stderr",
     "output_type": "stream",
     "text": [
      "Using TensorFlow backend.\n",
      "/anaconda3/lib/python3.7/importlib/_bootstrap.py:219: RuntimeWarning: compiletime version 3.6 of module 'tensorflow.python.framework.fast_tensor_util' does not match runtime version 3.7\n",
      "  return f(*args, **kwds)\n"
     ]
    }
   ],
   "source": [
    "from keras.models import Model\n",
    "from keras.applications.inception_v3 import InceptionV3\n",
    "from keras.models import Model\n",
    "\n",
    "from os import listdir\n",
    "from keras.preprocessing.image import load_img\n",
    "from keras.preprocessing.image import img_to_array"
   ]
  },
  {
   "cell_type": "code",
   "execution_count": 4,
   "metadata": {},
   "outputs": [],
   "source": [
    "from sklearn.preprocessing import OneHotEncoder"
   ]
  },
  {
   "cell_type": "code",
   "execution_count": 5,
   "metadata": {},
   "outputs": [],
   "source": [
    "train = pd.read_csv('train.csv')"
   ]
  },
  {
   "cell_type": "code",
   "execution_count": 6,
   "metadata": {},
   "outputs": [],
   "source": [
    "product = pd.read_csv('product_attributes.csv')"
   ]
  },
  {
   "cell_type": "code",
   "execution_count": 7,
   "metadata": {},
   "outputs": [],
   "source": [
    "test = pd.read_csv('../test_nFNPSyV.csv')"
   ]
  },
  {
   "cell_type": "code",
   "execution_count": 8,
   "metadata": {},
   "outputs": [],
   "source": [
    "sample = pd.read_csv('../sample_submission_qfCnaKZ.csv')"
   ]
  },
  {
   "cell_type": "code",
   "execution_count": 9,
   "metadata": {},
   "outputs": [
    {
     "data": {
      "text/html": [
       "<div>\n",
       "<style scoped>\n",
       "    .dataframe tbody tr th:only-of-type {\n",
       "        vertical-align: middle;\n",
       "    }\n",
       "\n",
       "    .dataframe tbody tr th {\n",
       "        vertical-align: top;\n",
       "    }\n",
       "\n",
       "    .dataframe thead th {\n",
       "        text-align: right;\n",
       "    }\n",
       "</style>\n",
       "<table border=\"1\" class=\"dataframe\">\n",
       "  <thead>\n",
       "    <tr style=\"text-align: right;\">\n",
       "      <th></th>\n",
       "      <th>UserId</th>\n",
       "      <th>productid</th>\n",
       "      <th>Quantity</th>\n",
       "      <th>OrderDate</th>\n",
       "    </tr>\n",
       "  </thead>\n",
       "  <tbody>\n",
       "    <tr>\n",
       "      <th>0</th>\n",
       "      <td>18075</td>\n",
       "      <td>12322648</td>\n",
       "      <td>1</td>\n",
       "      <td>01/04/18</td>\n",
       "    </tr>\n",
       "    <tr>\n",
       "      <th>1</th>\n",
       "      <td>6820</td>\n",
       "      <td>12371370</td>\n",
       "      <td>1</td>\n",
       "      <td>01/04/18</td>\n",
       "    </tr>\n",
       "    <tr>\n",
       "      <th>2</th>\n",
       "      <td>6820</td>\n",
       "      <td>12973004</td>\n",
       "      <td>1</td>\n",
       "      <td>01/04/18</td>\n",
       "    </tr>\n",
       "    <tr>\n",
       "      <th>3</th>\n",
       "      <td>6820</td>\n",
       "      <td>12657560</td>\n",
       "      <td>1</td>\n",
       "      <td>01/04/18</td>\n",
       "    </tr>\n",
       "    <tr>\n",
       "      <th>4</th>\n",
       "      <td>6820</td>\n",
       "      <td>11659914</td>\n",
       "      <td>1</td>\n",
       "      <td>01/04/18</td>\n",
       "    </tr>\n",
       "  </tbody>\n",
       "</table>\n",
       "</div>"
      ],
      "text/plain": [
       "   UserId  productid  Quantity OrderDate\n",
       "0   18075   12322648         1  01/04/18\n",
       "1    6820   12371370         1  01/04/18\n",
       "2    6820   12973004         1  01/04/18\n",
       "3    6820   12657560         1  01/04/18\n",
       "4    6820   11659914         1  01/04/18"
      ]
     },
     "execution_count": 9,
     "metadata": {},
     "output_type": "execute_result"
    }
   ],
   "source": [
    "train.head()"
   ]
  },
  {
   "cell_type": "code",
   "execution_count": 10,
   "metadata": {},
   "outputs": [],
   "source": [
    "products = list(product['productid'].unique())"
   ]
  },
  {
   "cell_type": "code",
   "execution_count": 15,
   "metadata": {},
   "outputs": [],
   "source": [
    "total_quantity = train['Quantity'].sum()"
   ]
  },
  {
   "cell_type": "code",
   "execution_count": 17,
   "metadata": {},
   "outputs": [
    {
     "data": {
      "text/plain": [
       "134363"
      ]
     },
     "execution_count": 17,
     "metadata": {},
     "output_type": "execute_result"
    }
   ],
   "source": [
    "total_quantity"
   ]
  },
  {
   "cell_type": "code",
   "execution_count": 21,
   "metadata": {},
   "outputs": [
    {
     "data": {
      "text/plain": [
       "(3015,)"
      ]
     },
     "execution_count": 21,
     "metadata": {},
     "output_type": "execute_result"
    }
   ],
   "source": [
    "product['productid'].unique().shape"
   ]
  },
  {
   "cell_type": "code",
   "execution_count": 22,
   "metadata": {},
   "outputs": [],
   "source": [
    "product_sold = train.groupby('productid')['Quantity'].sum().reset_index()"
   ]
  },
  {
   "cell_type": "code",
   "execution_count": 23,
   "metadata": {},
   "outputs": [],
   "source": [
    "product_sold['weight'] = product_sold['Quantity']/total_quantity"
   ]
  },
  {
   "cell_type": "code",
   "execution_count": 27,
   "metadata": {},
   "outputs": [],
   "source": [
    "product_sold = product_sold.drop('Quantity', axis=1)"
   ]
  },
  {
   "cell_type": "code",
   "execution_count": 29,
   "metadata": {},
   "outputs": [],
   "source": [
    "#selectedlayer = \"...\"\n",
    "#base_modelv3 = InceptionV3(weights='imagenet')\n",
    "#model= Model(inputs=base_modelv3.input,  outputs=base_modelv3.get_layer(selectedlayer).output)"
   ]
  },
  {
   "cell_type": "code",
   "execution_count": 30,
   "metadata": {},
   "outputs": [],
   "source": [
    "images = []\n",
    "\n",
    "def preprocess_input(x):\n",
    "    x /= 255.\n",
    "    x -= 0.5\n",
    "    x *= 2.\n",
    "    return x\n",
    "\n",
    "for i in products:\n",
    "    image = load_img('./images/{}.jpg'.format(i), target_size=(8, 8))\n",
    "    # convert the image pixels to a numpy array\n",
    "    image = img_to_array(image)\n",
    "    # reshape data for the model\n",
    "    image = np.expand_dims(image, axis=0)\n",
    "    # prepare the image for the  model\n",
    "    image = preprocess_input(image)\n",
    "    image = image.reshape(64,3).mean(axis=0)\n",
    "    images.append(image)"
   ]
  },
  {
   "cell_type": "code",
   "execution_count": 31,
   "metadata": {},
   "outputs": [
    {
     "data": {
      "text/plain": [
       "3015"
      ]
     },
     "execution_count": 31,
     "metadata": {},
     "output_type": "execute_result"
    }
   ],
   "source": [
    "len(products)"
   ]
  },
  {
   "cell_type": "code",
   "execution_count": 32,
   "metadata": {},
   "outputs": [
    {
     "data": {
      "text/plain": [
       "3015"
      ]
     },
     "execution_count": 32,
     "metadata": {},
     "output_type": "execute_result"
    }
   ],
   "source": [
    "len(images)"
   ]
  },
  {
   "cell_type": "code",
   "execution_count": 33,
   "metadata": {},
   "outputs": [],
   "source": [
    "image_features = pd.DataFrame(images)"
   ]
  },
  {
   "cell_type": "code",
   "execution_count": 34,
   "metadata": {},
   "outputs": [],
   "source": [
    "image_features['productid'] = products"
   ]
  },
  {
   "cell_type": "code",
   "execution_count": null,
   "metadata": {},
   "outputs": [],
   "source": []
  },
  {
   "cell_type": "code",
   "execution_count": null,
   "metadata": {},
   "outputs": [],
   "source": []
  },
  {
   "cell_type": "code",
   "execution_count": null,
   "metadata": {},
   "outputs": [],
   "source": []
  },
  {
   "cell_type": "code",
   "execution_count": null,
   "metadata": {},
   "outputs": [],
   "source": []
  },
  {
   "cell_type": "code",
   "execution_count": null,
   "metadata": {},
   "outputs": [],
   "source": []
  },
  {
   "cell_type": "code",
   "execution_count": null,
   "metadata": {},
   "outputs": [],
   "source": []
  },
  {
   "cell_type": "code",
   "execution_count": null,
   "metadata": {},
   "outputs": [],
   "source": []
  },
  {
   "cell_type": "code",
   "execution_count": null,
   "metadata": {},
   "outputs": [],
   "source": []
  },
  {
   "cell_type": "code",
   "execution_count": 35,
   "metadata": {},
   "outputs": [],
   "source": [
    "baseline = train.groupby('productid')['UserId'].count().reset_index().sort_values('UserId',ascending=False).head(10)"
   ]
  },
  {
   "cell_type": "code",
   "execution_count": 36,
   "metadata": {},
   "outputs": [],
   "source": [
    "top10 =  baseline['productid'].tolist()"
   ]
  },
  {
   "cell_type": "code",
   "execution_count": 37,
   "metadata": {},
   "outputs": [],
   "source": [
    "chh = train.groupby('UserId').count().reset_index()"
   ]
  },
  {
   "cell_type": "code",
   "execution_count": 38,
   "metadata": {},
   "outputs": [
    {
     "data": {
      "text/html": [
       "<div>\n",
       "<style scoped>\n",
       "    .dataframe tbody tr th:only-of-type {\n",
       "        vertical-align: middle;\n",
       "    }\n",
       "\n",
       "    .dataframe tbody tr th {\n",
       "        vertical-align: top;\n",
       "    }\n",
       "\n",
       "    .dataframe thead th {\n",
       "        text-align: right;\n",
       "    }\n",
       "</style>\n",
       "<table border=\"1\" class=\"dataframe\">\n",
       "  <thead>\n",
       "    <tr style=\"text-align: right;\">\n",
       "      <th></th>\n",
       "      <th>UserId</th>\n",
       "      <th>productid</th>\n",
       "      <th>Quantity</th>\n",
       "      <th>OrderDate</th>\n",
       "    </tr>\n",
       "  </thead>\n",
       "  <tbody>\n",
       "    <tr>\n",
       "      <th>0</th>\n",
       "      <td>18075</td>\n",
       "      <td>12322648</td>\n",
       "      <td>1</td>\n",
       "      <td>01/04/18</td>\n",
       "    </tr>\n",
       "    <tr>\n",
       "      <th>1</th>\n",
       "      <td>6820</td>\n",
       "      <td>12371370</td>\n",
       "      <td>1</td>\n",
       "      <td>01/04/18</td>\n",
       "    </tr>\n",
       "    <tr>\n",
       "      <th>2</th>\n",
       "      <td>6820</td>\n",
       "      <td>12973004</td>\n",
       "      <td>1</td>\n",
       "      <td>01/04/18</td>\n",
       "    </tr>\n",
       "    <tr>\n",
       "      <th>3</th>\n",
       "      <td>6820</td>\n",
       "      <td>12657560</td>\n",
       "      <td>1</td>\n",
       "      <td>01/04/18</td>\n",
       "    </tr>\n",
       "    <tr>\n",
       "      <th>4</th>\n",
       "      <td>6820</td>\n",
       "      <td>11659914</td>\n",
       "      <td>1</td>\n",
       "      <td>01/04/18</td>\n",
       "    </tr>\n",
       "  </tbody>\n",
       "</table>\n",
       "</div>"
      ],
      "text/plain": [
       "   UserId  productid  Quantity OrderDate\n",
       "0   18075   12322648         1  01/04/18\n",
       "1    6820   12371370         1  01/04/18\n",
       "2    6820   12973004         1  01/04/18\n",
       "3    6820   12657560         1  01/04/18\n",
       "4    6820   11659914         1  01/04/18"
      ]
     },
     "execution_count": 38,
     "metadata": {},
     "output_type": "execute_result"
    }
   ],
   "source": [
    "train.head()"
   ]
  },
  {
   "cell_type": "code",
   "execution_count": 39,
   "metadata": {},
   "outputs": [
    {
     "data": {
      "text/html": [
       "<div>\n",
       "<style scoped>\n",
       "    .dataframe tbody tr th:only-of-type {\n",
       "        vertical-align: middle;\n",
       "    }\n",
       "\n",
       "    .dataframe tbody tr th {\n",
       "        vertical-align: top;\n",
       "    }\n",
       "\n",
       "    .dataframe thead th {\n",
       "        text-align: right;\n",
       "    }\n",
       "</style>\n",
       "<table border=\"1\" class=\"dataframe\">\n",
       "  <thead>\n",
       "    <tr style=\"text-align: right;\">\n",
       "      <th></th>\n",
       "      <th>productid</th>\n",
       "      <th>attribute_name</th>\n",
       "      <th>attributevalue</th>\n",
       "    </tr>\n",
       "  </thead>\n",
       "  <tbody>\n",
       "    <tr>\n",
       "      <th>0</th>\n",
       "      <td>11145600</td>\n",
       "      <td>Fit</td>\n",
       "      <td>37</td>\n",
       "    </tr>\n",
       "    <tr>\n",
       "      <th>1</th>\n",
       "      <td>11145600</td>\n",
       "      <td>Sleeve Length</td>\n",
       "      <td>23</td>\n",
       "    </tr>\n",
       "    <tr>\n",
       "      <th>2</th>\n",
       "      <td>11145600</td>\n",
       "      <td>Fabric</td>\n",
       "      <td>16</td>\n",
       "    </tr>\n",
       "    <tr>\n",
       "      <th>3</th>\n",
       "      <td>11145600</td>\n",
       "      <td>Color</td>\n",
       "      <td>25</td>\n",
       "    </tr>\n",
       "    <tr>\n",
       "      <th>4</th>\n",
       "      <td>11145600</td>\n",
       "      <td>Neckline</td>\n",
       "      <td>51</td>\n",
       "    </tr>\n",
       "  </tbody>\n",
       "</table>\n",
       "</div>"
      ],
      "text/plain": [
       "   productid attribute_name  attributevalue\n",
       "0   11145600            Fit              37\n",
       "1   11145600  Sleeve Length              23\n",
       "2   11145600         Fabric              16\n",
       "3   11145600          Color              25\n",
       "4   11145600       Neckline              51"
      ]
     },
     "execution_count": 39,
     "metadata": {},
     "output_type": "execute_result"
    }
   ],
   "source": [
    "product.head()"
   ]
  },
  {
   "cell_type": "code",
   "execution_count": 40,
   "metadata": {},
   "outputs": [],
   "source": [
    "product_wide = product.pivot_table(index='productid',columns='attribute_name',values='attributevalue').reset_index()"
   ]
  },
  {
   "cell_type": "code",
   "execution_count": 41,
   "metadata": {},
   "outputs": [
    {
     "data": {
      "text/html": [
       "<div>\n",
       "<style scoped>\n",
       "    .dataframe tbody tr th:only-of-type {\n",
       "        vertical-align: middle;\n",
       "    }\n",
       "\n",
       "    .dataframe tbody tr th {\n",
       "        vertical-align: top;\n",
       "    }\n",
       "\n",
       "    .dataframe thead th {\n",
       "        text-align: right;\n",
       "    }\n",
       "</style>\n",
       "<table border=\"1\" class=\"dataframe\">\n",
       "  <thead>\n",
       "    <tr style=\"text-align: right;\">\n",
       "      <th></th>\n",
       "      <th>0</th>\n",
       "      <th>1</th>\n",
       "      <th>2</th>\n",
       "      <th>productid</th>\n",
       "    </tr>\n",
       "  </thead>\n",
       "  <tbody>\n",
       "    <tr>\n",
       "      <th>0</th>\n",
       "      <td>0.750490</td>\n",
       "      <td>0.772549</td>\n",
       "      <td>0.842892</td>\n",
       "      <td>11145600</td>\n",
       "    </tr>\n",
       "    <tr>\n",
       "      <th>1</th>\n",
       "      <td>0.934069</td>\n",
       "      <td>0.854657</td>\n",
       "      <td>0.852696</td>\n",
       "      <td>11145602</td>\n",
       "    </tr>\n",
       "    <tr>\n",
       "      <th>2</th>\n",
       "      <td>0.925490</td>\n",
       "      <td>0.804779</td>\n",
       "      <td>0.798039</td>\n",
       "      <td>11145612</td>\n",
       "    </tr>\n",
       "    <tr>\n",
       "      <th>3</th>\n",
       "      <td>0.920711</td>\n",
       "      <td>0.869730</td>\n",
       "      <td>0.789216</td>\n",
       "      <td>11145614</td>\n",
       "    </tr>\n",
       "    <tr>\n",
       "      <th>4</th>\n",
       "      <td>0.721691</td>\n",
       "      <td>0.744976</td>\n",
       "      <td>0.723529</td>\n",
       "      <td>11145620</td>\n",
       "    </tr>\n",
       "  </tbody>\n",
       "</table>\n",
       "</div>"
      ],
      "text/plain": [
       "          0         1         2  productid\n",
       "0  0.750490  0.772549  0.842892   11145600\n",
       "1  0.934069  0.854657  0.852696   11145602\n",
       "2  0.925490  0.804779  0.798039   11145612\n",
       "3  0.920711  0.869730  0.789216   11145614\n",
       "4  0.721691  0.744976  0.723529   11145620"
      ]
     },
     "execution_count": 41,
     "metadata": {},
     "output_type": "execute_result"
    }
   ],
   "source": [
    "image_features.head()"
   ]
  },
  {
   "cell_type": "code",
   "execution_count": 42,
   "metadata": {},
   "outputs": [
    {
     "data": {
      "text/html": [
       "<div>\n",
       "<style scoped>\n",
       "    .dataframe tbody tr th:only-of-type {\n",
       "        vertical-align: middle;\n",
       "    }\n",
       "\n",
       "    .dataframe tbody tr th {\n",
       "        vertical-align: top;\n",
       "    }\n",
       "\n",
       "    .dataframe thead th {\n",
       "        text-align: right;\n",
       "    }\n",
       "</style>\n",
       "<table border=\"1\" class=\"dataframe\">\n",
       "  <thead>\n",
       "    <tr style=\"text-align: right;\">\n",
       "      <th></th>\n",
       "      <th>0</th>\n",
       "      <th>1</th>\n",
       "      <th>2</th>\n",
       "      <th>productid</th>\n",
       "    </tr>\n",
       "  </thead>\n",
       "  <tbody>\n",
       "    <tr>\n",
       "      <th>0</th>\n",
       "      <td>0.750490</td>\n",
       "      <td>0.772549</td>\n",
       "      <td>0.842892</td>\n",
       "      <td>11145600</td>\n",
       "    </tr>\n",
       "    <tr>\n",
       "      <th>1</th>\n",
       "      <td>0.934069</td>\n",
       "      <td>0.854657</td>\n",
       "      <td>0.852696</td>\n",
       "      <td>11145602</td>\n",
       "    </tr>\n",
       "    <tr>\n",
       "      <th>2</th>\n",
       "      <td>0.925490</td>\n",
       "      <td>0.804779</td>\n",
       "      <td>0.798039</td>\n",
       "      <td>11145612</td>\n",
       "    </tr>\n",
       "    <tr>\n",
       "      <th>3</th>\n",
       "      <td>0.920711</td>\n",
       "      <td>0.869730</td>\n",
       "      <td>0.789216</td>\n",
       "      <td>11145614</td>\n",
       "    </tr>\n",
       "    <tr>\n",
       "      <th>4</th>\n",
       "      <td>0.721691</td>\n",
       "      <td>0.744976</td>\n",
       "      <td>0.723529</td>\n",
       "      <td>11145620</td>\n",
       "    </tr>\n",
       "  </tbody>\n",
       "</table>\n",
       "</div>"
      ],
      "text/plain": [
       "          0         1         2  productid\n",
       "0  0.750490  0.772549  0.842892   11145600\n",
       "1  0.934069  0.854657  0.852696   11145602\n",
       "2  0.925490  0.804779  0.798039   11145612\n",
       "3  0.920711  0.869730  0.789216   11145614\n",
       "4  0.721691  0.744976  0.723529   11145620"
      ]
     },
     "execution_count": 42,
     "metadata": {},
     "output_type": "execute_result"
    }
   ],
   "source": [
    "image_features.head()"
   ]
  },
  {
   "cell_type": "code",
   "execution_count": 43,
   "metadata": {},
   "outputs": [],
   "source": [
    "product_wide = product_wide.merge(image_features, on='productid')"
   ]
  },
  {
   "cell_type": "code",
   "execution_count": 44,
   "metadata": {},
   "outputs": [],
   "source": [
    "train_agg = train.groupby(['UserId','productid'])['Quantity'].sum().reset_index()"
   ]
  },
  {
   "cell_type": "code",
   "execution_count": 45,
   "metadata": {},
   "outputs": [
    {
     "data": {
      "text/html": [
       "<div>\n",
       "<style scoped>\n",
       "    .dataframe tbody tr th:only-of-type {\n",
       "        vertical-align: middle;\n",
       "    }\n",
       "\n",
       "    .dataframe tbody tr th {\n",
       "        vertical-align: top;\n",
       "    }\n",
       "\n",
       "    .dataframe thead th {\n",
       "        text-align: right;\n",
       "    }\n",
       "</style>\n",
       "<table border=\"1\" class=\"dataframe\">\n",
       "  <thead>\n",
       "    <tr style=\"text-align: right;\">\n",
       "      <th></th>\n",
       "      <th>UserId</th>\n",
       "      <th>productid</th>\n",
       "      <th>Quantity</th>\n",
       "    </tr>\n",
       "  </thead>\n",
       "  <tbody>\n",
       "    <tr>\n",
       "      <th>count</th>\n",
       "      <td>74915.000000</td>\n",
       "      <td>7.491500e+04</td>\n",
       "      <td>74915.000000</td>\n",
       "    </tr>\n",
       "    <tr>\n",
       "      <th>mean</th>\n",
       "      <td>14493.035173</td>\n",
       "      <td>1.232877e+07</td>\n",
       "      <td>1.793539</td>\n",
       "    </tr>\n",
       "    <tr>\n",
       "      <th>std</th>\n",
       "      <td>8248.096978</td>\n",
       "      <td>5.583793e+05</td>\n",
       "      <td>4.705072</td>\n",
       "    </tr>\n",
       "    <tr>\n",
       "      <th>min</th>\n",
       "      <td>0.000000</td>\n",
       "      <td>1.113919e+07</td>\n",
       "      <td>1.000000</td>\n",
       "    </tr>\n",
       "    <tr>\n",
       "      <th>25%</th>\n",
       "      <td>7354.500000</td>\n",
       "      <td>1.165994e+07</td>\n",
       "      <td>1.000000</td>\n",
       "    </tr>\n",
       "    <tr>\n",
       "      <th>50%</th>\n",
       "      <td>14580.000000</td>\n",
       "      <td>1.240746e+07</td>\n",
       "      <td>1.000000</td>\n",
       "    </tr>\n",
       "    <tr>\n",
       "      <th>75%</th>\n",
       "      <td>21813.500000</td>\n",
       "      <td>1.265833e+07</td>\n",
       "      <td>1.000000</td>\n",
       "    </tr>\n",
       "    <tr>\n",
       "      <th>max</th>\n",
       "      <td>27777.000000</td>\n",
       "      <td>1.412948e+07</td>\n",
       "      <td>275.000000</td>\n",
       "    </tr>\n",
       "  </tbody>\n",
       "</table>\n",
       "</div>"
      ],
      "text/plain": [
       "             UserId     productid      Quantity\n",
       "count  74915.000000  7.491500e+04  74915.000000\n",
       "mean   14493.035173  1.232877e+07      1.793539\n",
       "std     8248.096978  5.583793e+05      4.705072\n",
       "min        0.000000  1.113919e+07      1.000000\n",
       "25%     7354.500000  1.165994e+07      1.000000\n",
       "50%    14580.000000  1.240746e+07      1.000000\n",
       "75%    21813.500000  1.265833e+07      1.000000\n",
       "max    27777.000000  1.412948e+07    275.000000"
      ]
     },
     "execution_count": 45,
     "metadata": {},
     "output_type": "execute_result"
    }
   ],
   "source": [
    "train_agg.describe()"
   ]
  },
  {
   "cell_type": "code",
   "execution_count": 46,
   "metadata": {},
   "outputs": [
    {
     "data": {
      "text/html": [
       "<div>\n",
       "<style scoped>\n",
       "    .dataframe tbody tr th:only-of-type {\n",
       "        vertical-align: middle;\n",
       "    }\n",
       "\n",
       "    .dataframe tbody tr th {\n",
       "        vertical-align: top;\n",
       "    }\n",
       "\n",
       "    .dataframe thead th {\n",
       "        text-align: right;\n",
       "    }\n",
       "</style>\n",
       "<table border=\"1\" class=\"dataframe\">\n",
       "  <thead>\n",
       "    <tr style=\"text-align: right;\">\n",
       "      <th></th>\n",
       "      <th>UserId</th>\n",
       "      <th>productid</th>\n",
       "      <th>Quantity</th>\n",
       "    </tr>\n",
       "  </thead>\n",
       "  <tbody>\n",
       "    <tr>\n",
       "      <th>0</th>\n",
       "      <td>0</td>\n",
       "      <td>11659624</td>\n",
       "      <td>1</td>\n",
       "    </tr>\n",
       "    <tr>\n",
       "      <th>1</th>\n",
       "      <td>1</td>\n",
       "      <td>12406904</td>\n",
       "      <td>1</td>\n",
       "    </tr>\n",
       "    <tr>\n",
       "      <th>2</th>\n",
       "      <td>2</td>\n",
       "      <td>11660064</td>\n",
       "      <td>1</td>\n",
       "    </tr>\n",
       "    <tr>\n",
       "      <th>3</th>\n",
       "      <td>3</td>\n",
       "      <td>12360440</td>\n",
       "      <td>3</td>\n",
       "    </tr>\n",
       "    <tr>\n",
       "      <th>4</th>\n",
       "      <td>3</td>\n",
       "      <td>12371354</td>\n",
       "      <td>3</td>\n",
       "    </tr>\n",
       "  </tbody>\n",
       "</table>\n",
       "</div>"
      ],
      "text/plain": [
       "   UserId  productid  Quantity\n",
       "0       0   11659624         1\n",
       "1       1   12406904         1\n",
       "2       2   11660064         1\n",
       "3       3   12360440         3\n",
       "4       3   12371354         3"
      ]
     },
     "execution_count": 46,
     "metadata": {},
     "output_type": "execute_result"
    }
   ],
   "source": [
    "train_agg.head()"
   ]
  },
  {
   "cell_type": "code",
   "execution_count": 47,
   "metadata": {},
   "outputs": [
    {
     "data": {
      "text/html": [
       "<div>\n",
       "<style scoped>\n",
       "    .dataframe tbody tr th:only-of-type {\n",
       "        vertical-align: middle;\n",
       "    }\n",
       "\n",
       "    .dataframe tbody tr th {\n",
       "        vertical-align: top;\n",
       "    }\n",
       "\n",
       "    .dataframe thead th {\n",
       "        text-align: right;\n",
       "    }\n",
       "</style>\n",
       "<table border=\"1\" class=\"dataframe\">\n",
       "  <thead>\n",
       "    <tr style=\"text-align: right;\">\n",
       "      <th></th>\n",
       "      <th>productid</th>\n",
       "      <th>Category</th>\n",
       "      <th>Collection</th>\n",
       "      <th>Color</th>\n",
       "      <th>Fabric</th>\n",
       "      <th>Fit</th>\n",
       "      <th>Material</th>\n",
       "      <th>Neckline</th>\n",
       "      <th>Season</th>\n",
       "      <th>Sleeve Length</th>\n",
       "      <th>0</th>\n",
       "      <th>1</th>\n",
       "      <th>2</th>\n",
       "    </tr>\n",
       "  </thead>\n",
       "  <tbody>\n",
       "    <tr>\n",
       "      <th>0</th>\n",
       "      <td>11139192</td>\n",
       "      <td>1.0</td>\n",
       "      <td>NaN</td>\n",
       "      <td>41.0</td>\n",
       "      <td>2.0</td>\n",
       "      <td>0.0</td>\n",
       "      <td>NaN</td>\n",
       "      <td>NaN</td>\n",
       "      <td>42.0</td>\n",
       "      <td>NaN</td>\n",
       "      <td>0.793995</td>\n",
       "      <td>0.790441</td>\n",
       "      <td>0.810907</td>\n",
       "    </tr>\n",
       "    <tr>\n",
       "      <th>1</th>\n",
       "      <td>11139194</td>\n",
       "      <td>1.0</td>\n",
       "      <td>NaN</td>\n",
       "      <td>25.0</td>\n",
       "      <td>2.0</td>\n",
       "      <td>0.0</td>\n",
       "      <td>NaN</td>\n",
       "      <td>NaN</td>\n",
       "      <td>42.0</td>\n",
       "      <td>NaN</td>\n",
       "      <td>0.254412</td>\n",
       "      <td>0.287623</td>\n",
       "      <td>0.456740</td>\n",
       "    </tr>\n",
       "    <tr>\n",
       "      <th>2</th>\n",
       "      <td>11139524</td>\n",
       "      <td>1.0</td>\n",
       "      <td>NaN</td>\n",
       "      <td>95.0</td>\n",
       "      <td>16.0</td>\n",
       "      <td>14.0</td>\n",
       "      <td>NaN</td>\n",
       "      <td>4.0</td>\n",
       "      <td>42.0</td>\n",
       "      <td>23.0</td>\n",
       "      <td>0.902941</td>\n",
       "      <td>0.730024</td>\n",
       "      <td>0.730024</td>\n",
       "    </tr>\n",
       "    <tr>\n",
       "      <th>3</th>\n",
       "      <td>11139560</td>\n",
       "      <td>1.0</td>\n",
       "      <td>NaN</td>\n",
       "      <td>41.0</td>\n",
       "      <td>2.0</td>\n",
       "      <td>14.0</td>\n",
       "      <td>NaN</td>\n",
       "      <td>4.0</td>\n",
       "      <td>42.0</td>\n",
       "      <td>127.0</td>\n",
       "      <td>0.897917</td>\n",
       "      <td>0.845956</td>\n",
       "      <td>0.827573</td>\n",
       "    </tr>\n",
       "    <tr>\n",
       "      <th>4</th>\n",
       "      <td>11139588</td>\n",
       "      <td>1.0</td>\n",
       "      <td>NaN</td>\n",
       "      <td>25.0</td>\n",
       "      <td>58.0</td>\n",
       "      <td>0.0</td>\n",
       "      <td>NaN</td>\n",
       "      <td>NaN</td>\n",
       "      <td>42.0</td>\n",
       "      <td>NaN</td>\n",
       "      <td>0.636765</td>\n",
       "      <td>0.639216</td>\n",
       "      <td>0.696078</td>\n",
       "    </tr>\n",
       "  </tbody>\n",
       "</table>\n",
       "</div>"
      ],
      "text/plain": [
       "   productid  Category  Collection  Color  Fabric   Fit  Material  Neckline  \\\n",
       "0   11139192       1.0         NaN   41.0     2.0   0.0       NaN       NaN   \n",
       "1   11139194       1.0         NaN   25.0     2.0   0.0       NaN       NaN   \n",
       "2   11139524       1.0         NaN   95.0    16.0  14.0       NaN       4.0   \n",
       "3   11139560       1.0         NaN   41.0     2.0  14.0       NaN       4.0   \n",
       "4   11139588       1.0         NaN   25.0    58.0   0.0       NaN       NaN   \n",
       "\n",
       "   Season  Sleeve Length         0         1         2  \n",
       "0    42.0            NaN  0.793995  0.790441  0.810907  \n",
       "1    42.0            NaN  0.254412  0.287623  0.456740  \n",
       "2    42.0           23.0  0.902941  0.730024  0.730024  \n",
       "3    42.0          127.0  0.897917  0.845956  0.827573  \n",
       "4    42.0            NaN  0.636765  0.639216  0.696078  "
      ]
     },
     "execution_count": 47,
     "metadata": {},
     "output_type": "execute_result"
    }
   ],
   "source": [
    "product_wide.head()"
   ]
  },
  {
   "cell_type": "code",
   "execution_count": 48,
   "metadata": {},
   "outputs": [],
   "source": [
    "final_train = train_agg.merge(product_wide, on='productid', how='left').fillna(-1)"
   ]
  },
  {
   "cell_type": "code",
   "execution_count": 49,
   "metadata": {},
   "outputs": [
    {
     "data": {
      "text/plain": [
       "27778"
      ]
     },
     "execution_count": 49,
     "metadata": {},
     "output_type": "execute_result"
    }
   ],
   "source": [
    "final_train['UserId'].nunique()"
   ]
  },
  {
   "cell_type": "code",
   "execution_count": 50,
   "metadata": {},
   "outputs": [
    {
     "name": "stdout",
     "output_type": "stream",
     "text": [
      "UserId 27778\n",
      "productid 3026\n",
      "Quantity 108\n",
      "Category 6\n",
      "Collection 22\n",
      "Color 134\n",
      "Fabric 35\n",
      "Fit 8\n",
      "Material 5\n",
      "Neckline 14\n",
      "Season 9\n",
      "Sleeve Length 16\n",
      "0 2712\n",
      "1 2715\n",
      "2 2724\n"
     ]
    }
   ],
   "source": [
    "for i in final_train.columns:\n",
    "    print(i,final_train[i].nunique())"
   ]
  },
  {
   "cell_type": "code",
   "execution_count": 51,
   "metadata": {},
   "outputs": [],
   "source": [
    "final_train = pd.get_dummies(final_train,columns = ['Category','Fit','Material','Season','Collection'])"
   ]
  },
  {
   "cell_type": "code",
   "execution_count": 52,
   "metadata": {},
   "outputs": [],
   "source": [
    "final_user_mean = final_train.groupby('UserId').mean().reset_index()\n"
   ]
  },
  {
   "cell_type": "code",
   "execution_count": 53,
   "metadata": {},
   "outputs": [],
   "source": [
    "final_user_mean = final_user_mean.drop('productid',axis=1)"
   ]
  },
  {
   "cell_type": "code",
   "execution_count": 54,
   "metadata": {},
   "outputs": [
    {
     "data": {
      "text/html": [
       "<div>\n",
       "<style scoped>\n",
       "    .dataframe tbody tr th:only-of-type {\n",
       "        vertical-align: middle;\n",
       "    }\n",
       "\n",
       "    .dataframe tbody tr th {\n",
       "        vertical-align: top;\n",
       "    }\n",
       "\n",
       "    .dataframe thead th {\n",
       "        text-align: right;\n",
       "    }\n",
       "</style>\n",
       "<table border=\"1\" class=\"dataframe\">\n",
       "  <thead>\n",
       "    <tr style=\"text-align: right;\">\n",
       "      <th></th>\n",
       "      <th>UserId</th>\n",
       "      <th>Quantity</th>\n",
       "      <th>Color</th>\n",
       "      <th>Fabric</th>\n",
       "      <th>Neckline</th>\n",
       "      <th>Sleeve Length</th>\n",
       "      <th>0</th>\n",
       "      <th>1</th>\n",
       "      <th>2</th>\n",
       "      <th>Category_-1.0</th>\n",
       "      <th>...</th>\n",
       "      <th>Collection_97.0</th>\n",
       "      <th>Collection_101.0</th>\n",
       "      <th>Collection_105.0</th>\n",
       "      <th>Collection_109.0</th>\n",
       "      <th>Collection_110.0</th>\n",
       "      <th>Collection_135.0</th>\n",
       "      <th>Collection_143.0</th>\n",
       "      <th>Collection_168.0</th>\n",
       "      <th>Collection_178.0</th>\n",
       "      <th>Collection_212.0</th>\n",
       "    </tr>\n",
       "  </thead>\n",
       "  <tbody>\n",
       "    <tr>\n",
       "      <th>0</th>\n",
       "      <td>0</td>\n",
       "      <td>1.0</td>\n",
       "      <td>32.000000</td>\n",
       "      <td>27.000000</td>\n",
       "      <td>8.0</td>\n",
       "      <td>3.000000</td>\n",
       "      <td>0.870221</td>\n",
       "      <td>0.738113</td>\n",
       "      <td>0.671324</td>\n",
       "      <td>0.0</td>\n",
       "      <td>...</td>\n",
       "      <td>0.0</td>\n",
       "      <td>0.0</td>\n",
       "      <td>0.0</td>\n",
       "      <td>0.0</td>\n",
       "      <td>0.0</td>\n",
       "      <td>0.0</td>\n",
       "      <td>0.0</td>\n",
       "      <td>0.0</td>\n",
       "      <td>0.0</td>\n",
       "      <td>0.0</td>\n",
       "    </tr>\n",
       "    <tr>\n",
       "      <th>1</th>\n",
       "      <td>1</td>\n",
       "      <td>1.0</td>\n",
       "      <td>18.000000</td>\n",
       "      <td>2.000000</td>\n",
       "      <td>8.0</td>\n",
       "      <td>3.000000</td>\n",
       "      <td>0.434314</td>\n",
       "      <td>0.414338</td>\n",
       "      <td>0.418260</td>\n",
       "      <td>0.0</td>\n",
       "      <td>...</td>\n",
       "      <td>0.0</td>\n",
       "      <td>0.0</td>\n",
       "      <td>0.0</td>\n",
       "      <td>0.0</td>\n",
       "      <td>0.0</td>\n",
       "      <td>0.0</td>\n",
       "      <td>0.0</td>\n",
       "      <td>0.0</td>\n",
       "      <td>0.0</td>\n",
       "      <td>0.0</td>\n",
       "    </tr>\n",
       "    <tr>\n",
       "      <th>2</th>\n",
       "      <td>2</td>\n",
       "      <td>1.0</td>\n",
       "      <td>84.000000</td>\n",
       "      <td>55.000000</td>\n",
       "      <td>4.0</td>\n",
       "      <td>23.000000</td>\n",
       "      <td>0.866667</td>\n",
       "      <td>0.884191</td>\n",
       "      <td>0.763603</td>\n",
       "      <td>0.0</td>\n",
       "      <td>...</td>\n",
       "      <td>0.0</td>\n",
       "      <td>0.0</td>\n",
       "      <td>0.0</td>\n",
       "      <td>0.0</td>\n",
       "      <td>0.0</td>\n",
       "      <td>0.0</td>\n",
       "      <td>0.0</td>\n",
       "      <td>0.0</td>\n",
       "      <td>0.0</td>\n",
       "      <td>0.0</td>\n",
       "    </tr>\n",
       "    <tr>\n",
       "      <th>3</th>\n",
       "      <td>3</td>\n",
       "      <td>3.0</td>\n",
       "      <td>36.833333</td>\n",
       "      <td>29.333333</td>\n",
       "      <td>3.0</td>\n",
       "      <td>1.666667</td>\n",
       "      <td>0.868015</td>\n",
       "      <td>0.691932</td>\n",
       "      <td>0.649837</td>\n",
       "      <td>0.0</td>\n",
       "      <td>...</td>\n",
       "      <td>0.0</td>\n",
       "      <td>0.0</td>\n",
       "      <td>0.0</td>\n",
       "      <td>0.0</td>\n",
       "      <td>0.0</td>\n",
       "      <td>0.0</td>\n",
       "      <td>0.0</td>\n",
       "      <td>0.0</td>\n",
       "      <td>0.0</td>\n",
       "      <td>0.0</td>\n",
       "    </tr>\n",
       "    <tr>\n",
       "      <th>4</th>\n",
       "      <td>4</td>\n",
       "      <td>1.0</td>\n",
       "      <td>31.500000</td>\n",
       "      <td>69.000000</td>\n",
       "      <td>1.5</td>\n",
       "      <td>1.000000</td>\n",
       "      <td>0.765257</td>\n",
       "      <td>0.647365</td>\n",
       "      <td>0.583149</td>\n",
       "      <td>0.0</td>\n",
       "      <td>...</td>\n",
       "      <td>0.0</td>\n",
       "      <td>0.0</td>\n",
       "      <td>0.0</td>\n",
       "      <td>0.0</td>\n",
       "      <td>0.0</td>\n",
       "      <td>0.0</td>\n",
       "      <td>0.0</td>\n",
       "      <td>0.0</td>\n",
       "      <td>0.0</td>\n",
       "      <td>0.0</td>\n",
       "    </tr>\n",
       "  </tbody>\n",
       "</table>\n",
       "<p>5 rows × 59 columns</p>\n",
       "</div>"
      ],
      "text/plain": [
       "   UserId  Quantity      Color     Fabric  Neckline  Sleeve Length         0  \\\n",
       "0       0       1.0  32.000000  27.000000       8.0       3.000000  0.870221   \n",
       "1       1       1.0  18.000000   2.000000       8.0       3.000000  0.434314   \n",
       "2       2       1.0  84.000000  55.000000       4.0      23.000000  0.866667   \n",
       "3       3       3.0  36.833333  29.333333       3.0       1.666667  0.868015   \n",
       "4       4       1.0  31.500000  69.000000       1.5       1.000000  0.765257   \n",
       "\n",
       "          1         2  Category_-1.0        ...         Collection_97.0  \\\n",
       "0  0.738113  0.671324            0.0        ...                     0.0   \n",
       "1  0.414338  0.418260            0.0        ...                     0.0   \n",
       "2  0.884191  0.763603            0.0        ...                     0.0   \n",
       "3  0.691932  0.649837            0.0        ...                     0.0   \n",
       "4  0.647365  0.583149            0.0        ...                     0.0   \n",
       "\n",
       "   Collection_101.0  Collection_105.0  Collection_109.0  Collection_110.0  \\\n",
       "0               0.0               0.0               0.0               0.0   \n",
       "1               0.0               0.0               0.0               0.0   \n",
       "2               0.0               0.0               0.0               0.0   \n",
       "3               0.0               0.0               0.0               0.0   \n",
       "4               0.0               0.0               0.0               0.0   \n",
       "\n",
       "   Collection_135.0  Collection_143.0  Collection_168.0  Collection_178.0  \\\n",
       "0               0.0               0.0               0.0               0.0   \n",
       "1               0.0               0.0               0.0               0.0   \n",
       "2               0.0               0.0               0.0               0.0   \n",
       "3               0.0               0.0               0.0               0.0   \n",
       "4               0.0               0.0               0.0               0.0   \n",
       "\n",
       "   Collection_212.0  \n",
       "0               0.0  \n",
       "1               0.0  \n",
       "2               0.0  \n",
       "3               0.0  \n",
       "4               0.0  \n",
       "\n",
       "[5 rows x 59 columns]"
      ]
     },
     "execution_count": 54,
     "metadata": {},
     "output_type": "execute_result"
    }
   ],
   "source": [
    "final_user_mean.head()"
   ]
  },
  {
   "cell_type": "code",
   "execution_count": 55,
   "metadata": {},
   "outputs": [
    {
     "data": {
      "text/plain": [
       "(27778, 59)"
      ]
     },
     "execution_count": 55,
     "metadata": {},
     "output_type": "execute_result"
    }
   ],
   "source": [
    "final_user_mean.shape"
   ]
  },
  {
   "cell_type": "code",
   "execution_count": 56,
   "metadata": {},
   "outputs": [],
   "source": [
    "scaler = StandardScaler()  "
   ]
  },
  {
   "cell_type": "code",
   "execution_count": 57,
   "metadata": {},
   "outputs": [],
   "source": [
    "#scaler.fit_transform(final_user_mean.iloc[:,1:])"
   ]
  },
  {
   "cell_type": "code",
   "execution_count": 58,
   "metadata": {},
   "outputs": [
    {
     "data": {
      "text/plain": [
       "(27778, 59)"
      ]
     },
     "execution_count": 58,
     "metadata": {},
     "output_type": "execute_result"
    }
   ],
   "source": [
    "final_user_mean.shape"
   ]
  },
  {
   "cell_type": "code",
   "execution_count": 59,
   "metadata": {},
   "outputs": [],
   "source": [
    "#collab_pred = total_df.apply(lambda x: algo.predict(x[0],x[1]),axis=1)"
   ]
  },
  {
   "cell_type": "code",
   "execution_count": 60,
   "metadata": {},
   "outputs": [],
   "source": [
    "nbrs = NearestNeighbors(n_neighbors=30, algorithm='auto').fit(scaler.fit_transform(final_user_mean.iloc[:,1:]))"
   ]
  },
  {
   "cell_type": "code",
   "execution_count": 61,
   "metadata": {},
   "outputs": [],
   "source": [
    "distances, indices = nbrs.kneighbors(scaler.fit_transform(final_user_mean.iloc[:,1:]))"
   ]
  },
  {
   "cell_type": "code",
   "execution_count": 62,
   "metadata": {},
   "outputs": [],
   "source": [
    "#distances"
   ]
  },
  {
   "cell_type": "code",
   "execution_count": 63,
   "metadata": {},
   "outputs": [
    {
     "data": {
      "text/plain": [
       "(27778, 30)"
      ]
     },
     "execution_count": 63,
     "metadata": {},
     "output_type": "execute_result"
    }
   ],
   "source": [
    "indices.shape"
   ]
  },
  {
   "cell_type": "code",
   "execution_count": 64,
   "metadata": {},
   "outputs": [],
   "source": [
    "nearest_n = pd.DataFrame(indices)"
   ]
  },
  {
   "cell_type": "code",
   "execution_count": 65,
   "metadata": {},
   "outputs": [],
   "source": [
    "nearest_n['UserId'] = nearest_n.index"
   ]
  },
  {
   "cell_type": "code",
   "execution_count": 66,
   "metadata": {},
   "outputs": [
    {
     "data": {
      "text/html": [
       "<div>\n",
       "<style scoped>\n",
       "    .dataframe tbody tr th:only-of-type {\n",
       "        vertical-align: middle;\n",
       "    }\n",
       "\n",
       "    .dataframe tbody tr th {\n",
       "        vertical-align: top;\n",
       "    }\n",
       "\n",
       "    .dataframe thead th {\n",
       "        text-align: right;\n",
       "    }\n",
       "</style>\n",
       "<table border=\"1\" class=\"dataframe\">\n",
       "  <thead>\n",
       "    <tr style=\"text-align: right;\">\n",
       "      <th></th>\n",
       "      <th>0</th>\n",
       "      <th>1</th>\n",
       "      <th>2</th>\n",
       "      <th>3</th>\n",
       "      <th>4</th>\n",
       "      <th>5</th>\n",
       "      <th>6</th>\n",
       "      <th>7</th>\n",
       "      <th>8</th>\n",
       "      <th>9</th>\n",
       "      <th>...</th>\n",
       "      <th>21</th>\n",
       "      <th>22</th>\n",
       "      <th>23</th>\n",
       "      <th>24</th>\n",
       "      <th>25</th>\n",
       "      <th>26</th>\n",
       "      <th>27</th>\n",
       "      <th>28</th>\n",
       "      <th>29</th>\n",
       "      <th>UserId</th>\n",
       "    </tr>\n",
       "  </thead>\n",
       "  <tbody>\n",
       "    <tr>\n",
       "      <th>0</th>\n",
       "      <td>1015</td>\n",
       "      <td>23480</td>\n",
       "      <td>21339</td>\n",
       "      <td>22549</td>\n",
       "      <td>10420</td>\n",
       "      <td>20486</td>\n",
       "      <td>22179</td>\n",
       "      <td>21695</td>\n",
       "      <td>10085</td>\n",
       "      <td>2393</td>\n",
       "      <td>...</td>\n",
       "      <td>0</td>\n",
       "      <td>11328</td>\n",
       "      <td>10809</td>\n",
       "      <td>2342</td>\n",
       "      <td>2585</td>\n",
       "      <td>17813</td>\n",
       "      <td>6752</td>\n",
       "      <td>7117</td>\n",
       "      <td>3382</td>\n",
       "      <td>0</td>\n",
       "    </tr>\n",
       "    <tr>\n",
       "      <th>1</th>\n",
       "      <td>6502</td>\n",
       "      <td>15159</td>\n",
       "      <td>14689</td>\n",
       "      <td>13968</td>\n",
       "      <td>11106</td>\n",
       "      <td>13085</td>\n",
       "      <td>10928</td>\n",
       "      <td>12046</td>\n",
       "      <td>10189</td>\n",
       "      <td>6692</td>\n",
       "      <td>...</td>\n",
       "      <td>11825</td>\n",
       "      <td>1</td>\n",
       "      <td>10594</td>\n",
       "      <td>4205</td>\n",
       "      <td>2146</td>\n",
       "      <td>30</td>\n",
       "      <td>2868</td>\n",
       "      <td>2714</td>\n",
       "      <td>2223</td>\n",
       "      <td>1</td>\n",
       "    </tr>\n",
       "    <tr>\n",
       "      <th>2</th>\n",
       "      <td>2819</td>\n",
       "      <td>13554</td>\n",
       "      <td>3057</td>\n",
       "      <td>14575</td>\n",
       "      <td>5577</td>\n",
       "      <td>7661</td>\n",
       "      <td>27499</td>\n",
       "      <td>16608</td>\n",
       "      <td>10630</td>\n",
       "      <td>12420</td>\n",
       "      <td>...</td>\n",
       "      <td>10605</td>\n",
       "      <td>9256</td>\n",
       "      <td>12589</td>\n",
       "      <td>4608</td>\n",
       "      <td>19120</td>\n",
       "      <td>11694</td>\n",
       "      <td>2872</td>\n",
       "      <td>16609</td>\n",
       "      <td>12021</td>\n",
       "      <td>2</td>\n",
       "    </tr>\n",
       "    <tr>\n",
       "      <th>3</th>\n",
       "      <td>3</td>\n",
       "      <td>11480</td>\n",
       "      <td>16844</td>\n",
       "      <td>768</td>\n",
       "      <td>2878</td>\n",
       "      <td>7548</td>\n",
       "      <td>20601</td>\n",
       "      <td>679</td>\n",
       "      <td>8817</td>\n",
       "      <td>16526</td>\n",
       "      <td>...</td>\n",
       "      <td>17313</td>\n",
       "      <td>24599</td>\n",
       "      <td>11623</td>\n",
       "      <td>7070</td>\n",
       "      <td>9365</td>\n",
       "      <td>618</td>\n",
       "      <td>25287</td>\n",
       "      <td>10088</td>\n",
       "      <td>21506</td>\n",
       "      <td>3</td>\n",
       "    </tr>\n",
       "    <tr>\n",
       "      <th>4</th>\n",
       "      <td>4</td>\n",
       "      <td>13641</td>\n",
       "      <td>19833</td>\n",
       "      <td>8010</td>\n",
       "      <td>10560</td>\n",
       "      <td>15783</td>\n",
       "      <td>3185</td>\n",
       "      <td>17001</td>\n",
       "      <td>15672</td>\n",
       "      <td>26861</td>\n",
       "      <td>...</td>\n",
       "      <td>9701</td>\n",
       "      <td>22499</td>\n",
       "      <td>15621</td>\n",
       "      <td>7936</td>\n",
       "      <td>22483</td>\n",
       "      <td>22305</td>\n",
       "      <td>9523</td>\n",
       "      <td>17798</td>\n",
       "      <td>7725</td>\n",
       "      <td>4</td>\n",
       "    </tr>\n",
       "  </tbody>\n",
       "</table>\n",
       "<p>5 rows × 31 columns</p>\n",
       "</div>"
      ],
      "text/plain": [
       "      0      1      2      3      4      5      6      7      8      9  \\\n",
       "0  1015  23480  21339  22549  10420  20486  22179  21695  10085   2393   \n",
       "1  6502  15159  14689  13968  11106  13085  10928  12046  10189   6692   \n",
       "2  2819  13554   3057  14575   5577   7661  27499  16608  10630  12420   \n",
       "3     3  11480  16844    768   2878   7548  20601    679   8817  16526   \n",
       "4     4  13641  19833   8010  10560  15783   3185  17001  15672  26861   \n",
       "\n",
       "    ...       21     22     23    24     25     26     27     28     29  \\\n",
       "0   ...        0  11328  10809  2342   2585  17813   6752   7117   3382   \n",
       "1   ...    11825      1  10594  4205   2146     30   2868   2714   2223   \n",
       "2   ...    10605   9256  12589  4608  19120  11694   2872  16609  12021   \n",
       "3   ...    17313  24599  11623  7070   9365    618  25287  10088  21506   \n",
       "4   ...     9701  22499  15621  7936  22483  22305   9523  17798   7725   \n",
       "\n",
       "   UserId  \n",
       "0       0  \n",
       "1       1  \n",
       "2       2  \n",
       "3       3  \n",
       "4       4  \n",
       "\n",
       "[5 rows x 31 columns]"
      ]
     },
     "execution_count": 66,
     "metadata": {},
     "output_type": "execute_result"
    }
   ],
   "source": [
    "nearest_n.head()"
   ]
  },
  {
   "cell_type": "code",
   "execution_count": 67,
   "metadata": {},
   "outputs": [],
   "source": [
    "nearest_n_long = nearest_n.melt(id_vars='UserId').sort_values(['UserId','variable'])"
   ]
  },
  {
   "cell_type": "code",
   "execution_count": 91,
   "metadata": {},
   "outputs": [],
   "source": [
    "final_merged = nearest_n_long.merge(train_agg,left_on=['value'], right_on='UserId').sort_values(['UserId_x','variable'])\n",
    "\n"
   ]
  },
  {
   "cell_type": "code",
   "execution_count": 92,
   "metadata": {},
   "outputs": [],
   "source": [
    "check = final_merged.groupby('UserId_x')['productid'].nunique().reset_index()"
   ]
  },
  {
   "cell_type": "code",
   "execution_count": 93,
   "metadata": {},
   "outputs": [
    {
     "data": {
      "text/plain": [
       "[12658512,\n",
       " 12407154,\n",
       " 12407730,\n",
       " 12371378,\n",
       " 11659624,\n",
       " 12407400,\n",
       " 12406904,\n",
       " 12407742,\n",
       " 12407398,\n",
       " 12360424]"
      ]
     },
     "execution_count": 93,
     "metadata": {},
     "output_type": "execute_result"
    }
   ],
   "source": [
    "top10"
   ]
  },
  {
   "cell_type": "code",
   "execution_count": 94,
   "metadata": {},
   "outputs": [
    {
     "data": {
      "text/html": [
       "<div>\n",
       "<style scoped>\n",
       "    .dataframe tbody tr th:only-of-type {\n",
       "        vertical-align: middle;\n",
       "    }\n",
       "\n",
       "    .dataframe tbody tr th {\n",
       "        vertical-align: top;\n",
       "    }\n",
       "\n",
       "    .dataframe thead th {\n",
       "        text-align: right;\n",
       "    }\n",
       "</style>\n",
       "<table border=\"1\" class=\"dataframe\">\n",
       "  <thead>\n",
       "    <tr style=\"text-align: right;\">\n",
       "      <th></th>\n",
       "      <th>UserId_x</th>\n",
       "      <th>variable</th>\n",
       "      <th>value</th>\n",
       "      <th>UserId_y</th>\n",
       "      <th>productid</th>\n",
       "      <th>Quantity</th>\n",
       "    </tr>\n",
       "  </thead>\n",
       "  <tbody>\n",
       "    <tr>\n",
       "      <th>0</th>\n",
       "      <td>0</td>\n",
       "      <td>0</td>\n",
       "      <td>1015</td>\n",
       "      <td>1015</td>\n",
       "      <td>11659624</td>\n",
       "      <td>1</td>\n",
       "    </tr>\n",
       "    <tr>\n",
       "      <th>52</th>\n",
       "      <td>0</td>\n",
       "      <td>1</td>\n",
       "      <td>23480</td>\n",
       "      <td>23480</td>\n",
       "      <td>11659624</td>\n",
       "      <td>1</td>\n",
       "    </tr>\n",
       "    <tr>\n",
       "      <th>86</th>\n",
       "      <td>0</td>\n",
       "      <td>2</td>\n",
       "      <td>21339</td>\n",
       "      <td>21339</td>\n",
       "      <td>11659624</td>\n",
       "      <td>1</td>\n",
       "    </tr>\n",
       "    <tr>\n",
       "      <th>124</th>\n",
       "      <td>0</td>\n",
       "      <td>3</td>\n",
       "      <td>22549</td>\n",
       "      <td>22549</td>\n",
       "      <td>11659624</td>\n",
       "      <td>1</td>\n",
       "    </tr>\n",
       "    <tr>\n",
       "      <th>158</th>\n",
       "      <td>0</td>\n",
       "      <td>4</td>\n",
       "      <td>10420</td>\n",
       "      <td>10420</td>\n",
       "      <td>11659624</td>\n",
       "      <td>1</td>\n",
       "    </tr>\n",
       "  </tbody>\n",
       "</table>\n",
       "</div>"
      ],
      "text/plain": [
       "     UserId_x variable  value  UserId_y  productid  Quantity\n",
       "0           0        0   1015      1015   11659624         1\n",
       "52          0        1  23480     23480   11659624         1\n",
       "86          0        2  21339     21339   11659624         1\n",
       "124         0        3  22549     22549   11659624         1\n",
       "158         0        4  10420     10420   11659624         1"
      ]
     },
     "execution_count": 94,
     "metadata": {},
     "output_type": "execute_result"
    }
   ],
   "source": [
    "final_merged.head()"
   ]
  },
  {
   "cell_type": "code",
   "execution_count": 95,
   "metadata": {},
   "outputs": [
    {
     "data": {
      "text/plain": [
       "(3026, 2)"
      ]
     },
     "execution_count": 95,
     "metadata": {},
     "output_type": "execute_result"
    }
   ],
   "source": [
    "product_sold.shape"
   ]
  },
  {
   "cell_type": "code",
   "execution_count": 96,
   "metadata": {},
   "outputs": [
    {
     "data": {
      "text/plain": [
       "(2450970, 6)"
      ]
     },
     "execution_count": 96,
     "metadata": {},
     "output_type": "execute_result"
    }
   ],
   "source": [
    "final_merged.shape"
   ]
  },
  {
   "cell_type": "code",
   "execution_count": 98,
   "metadata": {},
   "outputs": [],
   "source": [
    "final_merged= final_merged.merge(product_sold,on='productid', how='inner')"
   ]
  },
  {
   "cell_type": "code",
   "execution_count": 131,
   "metadata": {},
   "outputs": [
    {
     "data": {
      "text/html": [
       "<div>\n",
       "<style scoped>\n",
       "    .dataframe tbody tr th:only-of-type {\n",
       "        vertical-align: middle;\n",
       "    }\n",
       "\n",
       "    .dataframe tbody tr th {\n",
       "        vertical-align: top;\n",
       "    }\n",
       "\n",
       "    .dataframe thead th {\n",
       "        text-align: right;\n",
       "    }\n",
       "</style>\n",
       "<table border=\"1\" class=\"dataframe\">\n",
       "  <thead>\n",
       "    <tr style=\"text-align: right;\">\n",
       "      <th></th>\n",
       "      <th>UserId_x</th>\n",
       "      <th>variable</th>\n",
       "      <th>value</th>\n",
       "      <th>UserId_y</th>\n",
       "      <th>productid</th>\n",
       "      <th>Quantity</th>\n",
       "      <th>weight</th>\n",
       "    </tr>\n",
       "  </thead>\n",
       "  <tbody>\n",
       "    <tr>\n",
       "      <th>16518</th>\n",
       "      <td>2</td>\n",
       "      <td>0</td>\n",
       "      <td>2819</td>\n",
       "      <td>2819</td>\n",
       "      <td>11660064</td>\n",
       "      <td>1</td>\n",
       "      <td>0.000640</td>\n",
       "    </tr>\n",
       "    <tr>\n",
       "      <th>16519</th>\n",
       "      <td>2</td>\n",
       "      <td>1</td>\n",
       "      <td>13554</td>\n",
       "      <td>13554</td>\n",
       "      <td>11660064</td>\n",
       "      <td>1</td>\n",
       "      <td>0.000640</td>\n",
       "    </tr>\n",
       "    <tr>\n",
       "      <th>16520</th>\n",
       "      <td>2</td>\n",
       "      <td>2</td>\n",
       "      <td>3057</td>\n",
       "      <td>3057</td>\n",
       "      <td>11660064</td>\n",
       "      <td>1</td>\n",
       "      <td>0.000640</td>\n",
       "    </tr>\n",
       "    <tr>\n",
       "      <th>16521</th>\n",
       "      <td>2</td>\n",
       "      <td>3</td>\n",
       "      <td>14575</td>\n",
       "      <td>14575</td>\n",
       "      <td>11660064</td>\n",
       "      <td>1</td>\n",
       "      <td>0.000640</td>\n",
       "    </tr>\n",
       "    <tr>\n",
       "      <th>16522</th>\n",
       "      <td>2</td>\n",
       "      <td>4</td>\n",
       "      <td>5577</td>\n",
       "      <td>5577</td>\n",
       "      <td>11660064</td>\n",
       "      <td>1</td>\n",
       "      <td>0.000640</td>\n",
       "    </tr>\n",
       "    <tr>\n",
       "      <th>16523</th>\n",
       "      <td>2</td>\n",
       "      <td>5</td>\n",
       "      <td>7661</td>\n",
       "      <td>7661</td>\n",
       "      <td>11660064</td>\n",
       "      <td>1</td>\n",
       "      <td>0.000640</td>\n",
       "    </tr>\n",
       "    <tr>\n",
       "      <th>16524</th>\n",
       "      <td>2</td>\n",
       "      <td>6</td>\n",
       "      <td>27499</td>\n",
       "      <td>27499</td>\n",
       "      <td>11660064</td>\n",
       "      <td>1</td>\n",
       "      <td>0.000640</td>\n",
       "    </tr>\n",
       "    <tr>\n",
       "      <th>16525</th>\n",
       "      <td>2</td>\n",
       "      <td>7</td>\n",
       "      <td>16608</td>\n",
       "      <td>16608</td>\n",
       "      <td>11660064</td>\n",
       "      <td>1</td>\n",
       "      <td>0.000640</td>\n",
       "    </tr>\n",
       "    <tr>\n",
       "      <th>16526</th>\n",
       "      <td>2</td>\n",
       "      <td>8</td>\n",
       "      <td>10630</td>\n",
       "      <td>10630</td>\n",
       "      <td>11660064</td>\n",
       "      <td>1</td>\n",
       "      <td>0.000640</td>\n",
       "    </tr>\n",
       "    <tr>\n",
       "      <th>16527</th>\n",
       "      <td>2</td>\n",
       "      <td>9</td>\n",
       "      <td>12420</td>\n",
       "      <td>12420</td>\n",
       "      <td>11660064</td>\n",
       "      <td>1</td>\n",
       "      <td>0.000640</td>\n",
       "    </tr>\n",
       "    <tr>\n",
       "      <th>16528</th>\n",
       "      <td>2</td>\n",
       "      <td>10</td>\n",
       "      <td>17556</td>\n",
       "      <td>17556</td>\n",
       "      <td>11660064</td>\n",
       "      <td>1</td>\n",
       "      <td>0.000640</td>\n",
       "    </tr>\n",
       "    <tr>\n",
       "      <th>16529</th>\n",
       "      <td>2</td>\n",
       "      <td>11</td>\n",
       "      <td>2</td>\n",
       "      <td>2</td>\n",
       "      <td>11660064</td>\n",
       "      <td>1</td>\n",
       "      <td>0.000640</td>\n",
       "    </tr>\n",
       "    <tr>\n",
       "      <th>16530</th>\n",
       "      <td>2</td>\n",
       "      <td>12</td>\n",
       "      <td>21067</td>\n",
       "      <td>21067</td>\n",
       "      <td>11660064</td>\n",
       "      <td>2</td>\n",
       "      <td>0.000640</td>\n",
       "    </tr>\n",
       "    <tr>\n",
       "      <th>16531</th>\n",
       "      <td>2</td>\n",
       "      <td>13</td>\n",
       "      <td>7181</td>\n",
       "      <td>7181</td>\n",
       "      <td>11660064</td>\n",
       "      <td>2</td>\n",
       "      <td>0.000640</td>\n",
       "    </tr>\n",
       "    <tr>\n",
       "      <th>16532</th>\n",
       "      <td>2</td>\n",
       "      <td>14</td>\n",
       "      <td>12179</td>\n",
       "      <td>12179</td>\n",
       "      <td>11660064</td>\n",
       "      <td>1</td>\n",
       "      <td>0.000640</td>\n",
       "    </tr>\n",
       "    <tr>\n",
       "      <th>16533</th>\n",
       "      <td>2</td>\n",
       "      <td>15</td>\n",
       "      <td>18243</td>\n",
       "      <td>18243</td>\n",
       "      <td>11660064</td>\n",
       "      <td>1</td>\n",
       "      <td>0.000640</td>\n",
       "    </tr>\n",
       "    <tr>\n",
       "      <th>16534</th>\n",
       "      <td>2</td>\n",
       "      <td>18</td>\n",
       "      <td>9088</td>\n",
       "      <td>9088</td>\n",
       "      <td>11660064</td>\n",
       "      <td>1</td>\n",
       "      <td>0.000640</td>\n",
       "    </tr>\n",
       "    <tr>\n",
       "      <th>16535</th>\n",
       "      <td>2</td>\n",
       "      <td>19</td>\n",
       "      <td>668</td>\n",
       "      <td>668</td>\n",
       "      <td>11660064</td>\n",
       "      <td>1</td>\n",
       "      <td>0.000640</td>\n",
       "    </tr>\n",
       "    <tr>\n",
       "      <th>16536</th>\n",
       "      <td>2</td>\n",
       "      <td>20</td>\n",
       "      <td>6992</td>\n",
       "      <td>6992</td>\n",
       "      <td>11660064</td>\n",
       "      <td>1</td>\n",
       "      <td>0.000640</td>\n",
       "    </tr>\n",
       "    <tr>\n",
       "      <th>16537</th>\n",
       "      <td>2</td>\n",
       "      <td>21</td>\n",
       "      <td>10605</td>\n",
       "      <td>10605</td>\n",
       "      <td>11660064</td>\n",
       "      <td>1</td>\n",
       "      <td>0.000640</td>\n",
       "    </tr>\n",
       "    <tr>\n",
       "      <th>16538</th>\n",
       "      <td>2</td>\n",
       "      <td>22</td>\n",
       "      <td>9256</td>\n",
       "      <td>9256</td>\n",
       "      <td>11660064</td>\n",
       "      <td>1</td>\n",
       "      <td>0.000640</td>\n",
       "    </tr>\n",
       "    <tr>\n",
       "      <th>16539</th>\n",
       "      <td>2</td>\n",
       "      <td>29</td>\n",
       "      <td>12021</td>\n",
       "      <td>12021</td>\n",
       "      <td>11660064</td>\n",
       "      <td>2</td>\n",
       "      <td>0.000640</td>\n",
       "    </tr>\n",
       "    <tr>\n",
       "      <th>17821</th>\n",
       "      <td>2</td>\n",
       "      <td>14</td>\n",
       "      <td>12179</td>\n",
       "      <td>12179</td>\n",
       "      <td>11714456</td>\n",
       "      <td>1</td>\n",
       "      <td>0.000060</td>\n",
       "    </tr>\n",
       "    <tr>\n",
       "      <th>18098</th>\n",
       "      <td>2</td>\n",
       "      <td>15</td>\n",
       "      <td>18243</td>\n",
       "      <td>18243</td>\n",
       "      <td>12407198</td>\n",
       "      <td>1</td>\n",
       "      <td>0.000149</td>\n",
       "    </tr>\n",
       "    <tr>\n",
       "      <th>18431</th>\n",
       "      <td>2</td>\n",
       "      <td>16</td>\n",
       "      <td>6165</td>\n",
       "      <td>6165</td>\n",
       "      <td>11660024</td>\n",
       "      <td>1</td>\n",
       "      <td>0.000141</td>\n",
       "    </tr>\n",
       "    <tr>\n",
       "      <th>18432</th>\n",
       "      <td>2</td>\n",
       "      <td>17</td>\n",
       "      <td>27599</td>\n",
       "      <td>27599</td>\n",
       "      <td>11660024</td>\n",
       "      <td>1</td>\n",
       "      <td>0.000141</td>\n",
       "    </tr>\n",
       "    <tr>\n",
       "      <th>18689</th>\n",
       "      <td>2</td>\n",
       "      <td>18</td>\n",
       "      <td>9088</td>\n",
       "      <td>9088</td>\n",
       "      <td>11660068</td>\n",
       "      <td>1</td>\n",
       "      <td>0.000246</td>\n",
       "    </tr>\n",
       "    <tr>\n",
       "      <th>19257</th>\n",
       "      <td>2</td>\n",
       "      <td>19</td>\n",
       "      <td>668</td>\n",
       "      <td>668</td>\n",
       "      <td>11481104</td>\n",
       "      <td>1</td>\n",
       "      <td>0.000127</td>\n",
       "    </tr>\n",
       "    <tr>\n",
       "      <th>19560</th>\n",
       "      <td>2</td>\n",
       "      <td>20</td>\n",
       "      <td>6992</td>\n",
       "      <td>6992</td>\n",
       "      <td>12407154</td>\n",
       "      <td>1</td>\n",
       "      <td>0.004867</td>\n",
       "    </tr>\n",
       "    <tr>\n",
       "      <th>19561</th>\n",
       "      <td>2</td>\n",
       "      <td>21</td>\n",
       "      <td>10605</td>\n",
       "      <td>10605</td>\n",
       "      <td>12407154</td>\n",
       "      <td>1</td>\n",
       "      <td>0.004867</td>\n",
       "    </tr>\n",
       "    <tr>\n",
       "      <th>31535</th>\n",
       "      <td>2</td>\n",
       "      <td>22</td>\n",
       "      <td>9256</td>\n",
       "      <td>9256</td>\n",
       "      <td>12371374</td>\n",
       "      <td>1</td>\n",
       "      <td>0.001615</td>\n",
       "    </tr>\n",
       "    <tr>\n",
       "      <th>36415</th>\n",
       "      <td>2</td>\n",
       "      <td>22</td>\n",
       "      <td>9256</td>\n",
       "      <td>9256</td>\n",
       "      <td>12657954</td>\n",
       "      <td>1</td>\n",
       "      <td>0.000164</td>\n",
       "    </tr>\n",
       "    <tr>\n",
       "      <th>36918</th>\n",
       "      <td>2</td>\n",
       "      <td>23</td>\n",
       "      <td>12589</td>\n",
       "      <td>12589</td>\n",
       "      <td>11660226</td>\n",
       "      <td>1</td>\n",
       "      <td>0.000484</td>\n",
       "    </tr>\n",
       "    <tr>\n",
       "      <th>36919</th>\n",
       "      <td>2</td>\n",
       "      <td>24</td>\n",
       "      <td>4608</td>\n",
       "      <td>4608</td>\n",
       "      <td>11660226</td>\n",
       "      <td>1</td>\n",
       "      <td>0.000484</td>\n",
       "    </tr>\n",
       "    <tr>\n",
       "      <th>36920</th>\n",
       "      <td>2</td>\n",
       "      <td>25</td>\n",
       "      <td>19120</td>\n",
       "      <td>19120</td>\n",
       "      <td>11660226</td>\n",
       "      <td>1</td>\n",
       "      <td>0.000484</td>\n",
       "    </tr>\n",
       "    <tr>\n",
       "      <th>36921</th>\n",
       "      <td>2</td>\n",
       "      <td>26</td>\n",
       "      <td>11694</td>\n",
       "      <td>11694</td>\n",
       "      <td>11660226</td>\n",
       "      <td>1</td>\n",
       "      <td>0.000484</td>\n",
       "    </tr>\n",
       "    <tr>\n",
       "      <th>38117</th>\n",
       "      <td>2</td>\n",
       "      <td>27</td>\n",
       "      <td>2872</td>\n",
       "      <td>2872</td>\n",
       "      <td>11660236</td>\n",
       "      <td>1</td>\n",
       "      <td>0.000089</td>\n",
       "    </tr>\n",
       "    <tr>\n",
       "      <th>38118</th>\n",
       "      <td>2</td>\n",
       "      <td>28</td>\n",
       "      <td>16609</td>\n",
       "      <td>16609</td>\n",
       "      <td>11660236</td>\n",
       "      <td>1</td>\n",
       "      <td>0.000089</td>\n",
       "    </tr>\n",
       "    <tr>\n",
       "      <th>38554</th>\n",
       "      <td>2</td>\n",
       "      <td>29</td>\n",
       "      <td>12021</td>\n",
       "      <td>12021</td>\n",
       "      <td>12407134</td>\n",
       "      <td>2</td>\n",
       "      <td>0.000305</td>\n",
       "    </tr>\n",
       "  </tbody>\n",
       "</table>\n",
       "</div>"
      ],
      "text/plain": [
       "       UserId_x variable  value  UserId_y  productid  Quantity    weight\n",
       "16518         2        0   2819      2819   11660064         1  0.000640\n",
       "16519         2        1  13554     13554   11660064         1  0.000640\n",
       "16520         2        2   3057      3057   11660064         1  0.000640\n",
       "16521         2        3  14575     14575   11660064         1  0.000640\n",
       "16522         2        4   5577      5577   11660064         1  0.000640\n",
       "16523         2        5   7661      7661   11660064         1  0.000640\n",
       "16524         2        6  27499     27499   11660064         1  0.000640\n",
       "16525         2        7  16608     16608   11660064         1  0.000640\n",
       "16526         2        8  10630     10630   11660064         1  0.000640\n",
       "16527         2        9  12420     12420   11660064         1  0.000640\n",
       "16528         2       10  17556     17556   11660064         1  0.000640\n",
       "16529         2       11      2         2   11660064         1  0.000640\n",
       "16530         2       12  21067     21067   11660064         2  0.000640\n",
       "16531         2       13   7181      7181   11660064         2  0.000640\n",
       "16532         2       14  12179     12179   11660064         1  0.000640\n",
       "16533         2       15  18243     18243   11660064         1  0.000640\n",
       "16534         2       18   9088      9088   11660064         1  0.000640\n",
       "16535         2       19    668       668   11660064         1  0.000640\n",
       "16536         2       20   6992      6992   11660064         1  0.000640\n",
       "16537         2       21  10605     10605   11660064         1  0.000640\n",
       "16538         2       22   9256      9256   11660064         1  0.000640\n",
       "16539         2       29  12021     12021   11660064         2  0.000640\n",
       "17821         2       14  12179     12179   11714456         1  0.000060\n",
       "18098         2       15  18243     18243   12407198         1  0.000149\n",
       "18431         2       16   6165      6165   11660024         1  0.000141\n",
       "18432         2       17  27599     27599   11660024         1  0.000141\n",
       "18689         2       18   9088      9088   11660068         1  0.000246\n",
       "19257         2       19    668       668   11481104         1  0.000127\n",
       "19560         2       20   6992      6992   12407154         1  0.004867\n",
       "19561         2       21  10605     10605   12407154         1  0.004867\n",
       "31535         2       22   9256      9256   12371374         1  0.001615\n",
       "36415         2       22   9256      9256   12657954         1  0.000164\n",
       "36918         2       23  12589     12589   11660226         1  0.000484\n",
       "36919         2       24   4608      4608   11660226         1  0.000484\n",
       "36920         2       25  19120     19120   11660226         1  0.000484\n",
       "36921         2       26  11694     11694   11660226         1  0.000484\n",
       "38117         2       27   2872      2872   11660236         1  0.000089\n",
       "38118         2       28  16609     16609   11660236         1  0.000089\n",
       "38554         2       29  12021     12021   12407134         2  0.000305"
      ]
     },
     "execution_count": 131,
     "metadata": {},
     "output_type": "execute_result"
    }
   ],
   "source": [
    "final_merged[final_merged['UserId_x']==2]"
   ]
  },
  {
   "cell_type": "code",
   "execution_count": 101,
   "metadata": {},
   "outputs": [],
   "source": [
    "#final_merged.groupby('UserId_x')['weight'].nlargest(10)"
   ]
  },
  {
   "cell_type": "code",
   "execution_count": 136,
   "metadata": {},
   "outputs": [],
   "source": [
    "final_pred = final_merged.groupby('UserId_x')['productid'].unique().reset_index()"
   ]
  },
  {
   "cell_type": "code",
   "execution_count": 137,
   "metadata": {},
   "outputs": [],
   "source": [
    "weight_hash = product_sold.groupby('productid')['weight'].agg(list).to_dict()"
   ]
  },
  {
   "cell_type": "code",
   "execution_count": 120,
   "metadata": {},
   "outputs": [
    {
     "data": {
      "text/plain": [
       "<map at 0x1a292e2780>"
      ]
     },
     "execution_count": 120,
     "metadata": {},
     "output_type": "execute_result"
    }
   ],
   "source": [
    "map(weight_hash.get,final_pred['productid'][3])\n",
    "    "
   ]
  },
  {
   "cell_type": "code",
   "execution_count": 140,
   "metadata": {},
   "outputs": [
    {
     "data": {
      "text/html": [
       "<div>\n",
       "<style scoped>\n",
       "    .dataframe tbody tr th:only-of-type {\n",
       "        vertical-align: middle;\n",
       "    }\n",
       "\n",
       "    .dataframe tbody tr th {\n",
       "        vertical-align: top;\n",
       "    }\n",
       "\n",
       "    .dataframe thead th {\n",
       "        text-align: right;\n",
       "    }\n",
       "</style>\n",
       "<table border=\"1\" class=\"dataframe\">\n",
       "  <thead>\n",
       "    <tr style=\"text-align: right;\">\n",
       "      <th></th>\n",
       "      <th>UserId_x</th>\n",
       "      <th>productid</th>\n",
       "    </tr>\n",
       "  </thead>\n",
       "  <tbody>\n",
       "    <tr>\n",
       "      <th>0</th>\n",
       "      <td>0</td>\n",
       "      <td>[11659624]</td>\n",
       "    </tr>\n",
       "    <tr>\n",
       "      <th>1</th>\n",
       "      <td>1</td>\n",
       "      <td>[12406904]</td>\n",
       "    </tr>\n",
       "    <tr>\n",
       "      <th>2</th>\n",
       "      <td>2</td>\n",
       "      <td>[11660064, 11714456, 12407198, 11660024, 11660...</td>\n",
       "    </tr>\n",
       "    <tr>\n",
       "      <th>3</th>\n",
       "      <td>3</td>\n",
       "      <td>[11659624, 12371374, 12360440, 12371354, 12407...</td>\n",
       "    </tr>\n",
       "    <tr>\n",
       "      <th>4</th>\n",
       "      <td>4</td>\n",
       "      <td>[12407446, 12658360, 12407742, 13039516, 12657...</td>\n",
       "    </tr>\n",
       "  </tbody>\n",
       "</table>\n",
       "</div>"
      ],
      "text/plain": [
       "   UserId_x                                          productid\n",
       "0         0                                         [11659624]\n",
       "1         1                                         [12406904]\n",
       "2         2  [11660064, 11714456, 12407198, 11660024, 11660...\n",
       "3         3  [11659624, 12371374, 12360440, 12371354, 12407...\n",
       "4         4  [12407446, 12658360, 12407742, 13039516, 12657..."
      ]
     },
     "execution_count": 140,
     "metadata": {},
     "output_type": "execute_result"
    }
   ],
   "source": [
    "final_pred.head()"
   ]
  },
  {
   "cell_type": "code",
   "execution_count": 146,
   "metadata": {},
   "outputs": [],
   "source": [
    "list_ch = [(k,weight_hash[k][0]) for k in row]"
   ]
  },
  {
   "cell_type": "code",
   "execution_count": 156,
   "metadata": {},
   "outputs": [],
   "source": [
    "dum = sorted(list_ch,key=lambda x: x[1],reverse=True)[:10]"
   ]
  },
  {
   "cell_type": "code",
   "execution_count": 160,
   "metadata": {},
   "outputs": [
    {
     "name": "stdout",
     "output_type": "stream",
     "text": [
      "12371378\n",
      "11659624\n",
      "12407742\n",
      "12407382\n",
      "12360424\n",
      "11659236\n",
      "12407132\n",
      "12371376\n",
      "12973004\n",
      "12696914\n"
     ]
    }
   ],
   "source": [
    "for i in dum:\n",
    "    print(i[0])"
   ]
  },
  {
   "cell_type": "code",
   "execution_count": 119,
   "metadata": {},
   "outputs": [
    {
     "data": {
      "text/plain": [
       "<map at 0x1a292e2198>"
      ]
     },
     "execution_count": 119,
     "metadata": {},
     "output_type": "execute_result"
    }
   ],
   "source": [
    "final_pred['productid'][3]\n",
    "    "
   ]
  },
  {
   "cell_type": "code",
   "execution_count": 114,
   "metadata": {},
   "outputs": [
    {
     "data": {
      "text/plain": [
       "[12658512, 12407154]"
      ]
     },
     "execution_count": 114,
     "metadata": {},
     "output_type": "execute_result"
    }
   ],
   "source": [
    "top10[:2]\n",
    "     "
   ]
  },
  {
   "cell_type": "code",
   "execution_count": 314,
   "metadata": {},
   "outputs": [],
   "source": [
    "def append_list(row):\n",
    "    ct=0\n",
    "    row = list(row)\n",
    "    if len(row) < 10:\n",
    "        while(len(row)<10):\n",
    "            row.append(top10[ct])\n",
    "            ct = ct + 1\n",
    "        return row\n",
    "    else:\n",
    "        L = []\n",
    "        get_weights = [(k,weight_hash[k][0]) for k in row]\n",
    "        sorted_weights = sorted(get_weights,key=lambda x: x[1],reverse=True)[:10]\n",
    "        for k in sorted_weights:\n",
    "            L.append(k[0])\n",
    "        return L\n",
    "        "
   ]
  },
  {
   "cell_type": "code",
   "execution_count": 315,
   "metadata": {},
   "outputs": [],
   "source": [
    "final_pred['productid'] = final_pred['productid'].apply(append_list)"
   ]
  },
  {
   "cell_type": "code",
   "execution_count": 316,
   "metadata": {},
   "outputs": [
    {
     "data": {
      "text/html": [
       "<div>\n",
       "<style scoped>\n",
       "    .dataframe tbody tr th:only-of-type {\n",
       "        vertical-align: middle;\n",
       "    }\n",
       "\n",
       "    .dataframe tbody tr th {\n",
       "        vertical-align: top;\n",
       "    }\n",
       "\n",
       "    .dataframe thead th {\n",
       "        text-align: right;\n",
       "    }\n",
       "</style>\n",
       "<table border=\"1\" class=\"dataframe\">\n",
       "  <thead>\n",
       "    <tr style=\"text-align: right;\">\n",
       "      <th></th>\n",
       "      <th>UserId_x</th>\n",
       "      <th>productid</th>\n",
       "    </tr>\n",
       "  </thead>\n",
       "  <tbody>\n",
       "    <tr>\n",
       "      <th>0</th>\n",
       "      <td>0</td>\n",
       "      <td>[11659624, 12658512, 12407154, 12407730, 12371...</td>\n",
       "    </tr>\n",
       "    <tr>\n",
       "      <th>1</th>\n",
       "      <td>1</td>\n",
       "      <td>[12406904, 12658512, 12407154, 12407730, 12371...</td>\n",
       "    </tr>\n",
       "    <tr>\n",
       "      <th>2</th>\n",
       "      <td>2</td>\n",
       "      <td>[11660064, 11714456, 12407198, 11660024, 11660...</td>\n",
       "    </tr>\n",
       "    <tr>\n",
       "      <th>3</th>\n",
       "      <td>3</td>\n",
       "      <td>[12360440, 12371354, 12407298, 12407522, 12407...</td>\n",
       "    </tr>\n",
       "    <tr>\n",
       "      <th>4</th>\n",
       "      <td>4</td>\n",
       "      <td>[11659934, 12437468, 12437168, 12657448, 12407...</td>\n",
       "    </tr>\n",
       "  </tbody>\n",
       "</table>\n",
       "</div>"
      ],
      "text/plain": [
       "   UserId_x                                          productid\n",
       "0         0  [11659624, 12658512, 12407154, 12407730, 12371...\n",
       "1         1  [12406904, 12658512, 12407154, 12407730, 12371...\n",
       "2         2  [11660064, 11714456, 12407198, 11660024, 11660...\n",
       "3         3  [12360440, 12371354, 12407298, 12407522, 12407...\n",
       "4         4  [11659934, 12437468, 12437168, 12657448, 12407..."
      ]
     },
     "execution_count": 316,
     "metadata": {},
     "output_type": "execute_result"
    }
   ],
   "source": [
    "final_pred.head()"
   ]
  },
  {
   "cell_type": "code",
   "execution_count": 246,
   "metadata": {},
   "outputs": [
    {
     "data": {
      "text/html": [
       "<div>\n",
       "<style scoped>\n",
       "    .dataframe tbody tr th:only-of-type {\n",
       "        vertical-align: middle;\n",
       "    }\n",
       "\n",
       "    .dataframe tbody tr th {\n",
       "        vertical-align: top;\n",
       "    }\n",
       "\n",
       "    .dataframe thead th {\n",
       "        text-align: right;\n",
       "    }\n",
       "</style>\n",
       "<table border=\"1\" class=\"dataframe\">\n",
       "  <thead>\n",
       "    <tr style=\"text-align: right;\">\n",
       "      <th></th>\n",
       "      <th>UserId_x</th>\n",
       "      <th>productid</th>\n",
       "    </tr>\n",
       "  </thead>\n",
       "  <tbody>\n",
       "    <tr>\n",
       "      <th>0</th>\n",
       "      <td>0</td>\n",
       "      <td>[11659624, 12658512, 12407154, 12407730, 12371...</td>\n",
       "    </tr>\n",
       "    <tr>\n",
       "      <th>1</th>\n",
       "      <td>1</td>\n",
       "      <td>[12406904, 12658512, 12407154, 12407730, 12371...</td>\n",
       "    </tr>\n",
       "    <tr>\n",
       "      <th>2</th>\n",
       "      <td>2</td>\n",
       "      <td>[11660064, 11714456, 12407198, 11660024, 11660...</td>\n",
       "    </tr>\n",
       "    <tr>\n",
       "      <th>3</th>\n",
       "      <td>3</td>\n",
       "      <td>[12360440, 12371354, 12407298, 12407522, 12407...</td>\n",
       "    </tr>\n",
       "    <tr>\n",
       "      <th>4</th>\n",
       "      <td>4</td>\n",
       "      <td>[11659934, 12437468, 12437168, 12657448, 12407...</td>\n",
       "    </tr>\n",
       "  </tbody>\n",
       "</table>\n",
       "</div>"
      ],
      "text/plain": [
       "   UserId_x                                          productid\n",
       "0         0  [11659624, 12658512, 12407154, 12407730, 12371...\n",
       "1         1  [12406904, 12658512, 12407154, 12407730, 12371...\n",
       "2         2  [11660064, 11714456, 12407198, 11660024, 11660...\n",
       "3         3  [12360440, 12371354, 12407298, 12407522, 12407...\n",
       "4         4  [11659934, 12437468, 12437168, 12657448, 12407..."
      ]
     },
     "execution_count": 246,
     "metadata": {},
     "output_type": "execute_result"
    }
   ],
   "source": [
    "final_pred.head()"
   ]
  },
  {
   "cell_type": "code",
   "execution_count": null,
   "metadata": {},
   "outputs": [],
   "source": []
  },
  {
   "cell_type": "code",
   "execution_count": 247,
   "metadata": {},
   "outputs": [
    {
     "data": {
      "text/plain": [
       "[12658512,\n",
       " 12407154,\n",
       " 12407730,\n",
       " 12371378,\n",
       " 11659624,\n",
       " 12407400,\n",
       " 12406904,\n",
       " 12407742,\n",
       " 12407398,\n",
       " 12360424]"
      ]
     },
     "execution_count": 247,
     "metadata": {},
     "output_type": "execute_result"
    }
   ],
   "source": [
    "top10"
   ]
  },
  {
   "cell_type": "code",
   "execution_count": 248,
   "metadata": {},
   "outputs": [
    {
     "data": {
      "text/html": [
       "<div>\n",
       "<style scoped>\n",
       "    .dataframe tbody tr th:only-of-type {\n",
       "        vertical-align: middle;\n",
       "    }\n",
       "\n",
       "    .dataframe tbody tr th {\n",
       "        vertical-align: top;\n",
       "    }\n",
       "\n",
       "    .dataframe thead th {\n",
       "        text-align: right;\n",
       "    }\n",
       "</style>\n",
       "<table border=\"1\" class=\"dataframe\">\n",
       "  <thead>\n",
       "    <tr style=\"text-align: right;\">\n",
       "      <th></th>\n",
       "      <th>UserId</th>\n",
       "      <th>product_list</th>\n",
       "    </tr>\n",
       "  </thead>\n",
       "  <tbody>\n",
       "    <tr>\n",
       "      <th>0</th>\n",
       "      <td>2</td>\n",
       "      <td>[11660064, 13653526, 13653524, 12658512, 12407...</td>\n",
       "    </tr>\n",
       "    <tr>\n",
       "      <th>1</th>\n",
       "      <td>28</td>\n",
       "      <td>[11659838, 12360404, 12407652, 12407706, 13039...</td>\n",
       "    </tr>\n",
       "    <tr>\n",
       "      <th>2</th>\n",
       "      <td>36</td>\n",
       "      <td>[11460916, 12360448, 12407648, 11360860, 11480...</td>\n",
       "    </tr>\n",
       "    <tr>\n",
       "      <th>3</th>\n",
       "      <td>38</td>\n",
       "      <td>[11659712, 11659798, 12406972, 11659808, 12407...</td>\n",
       "    </tr>\n",
       "    <tr>\n",
       "      <th>4</th>\n",
       "      <td>41</td>\n",
       "      <td>[11659236, 11659232, 12658512, 12407154, 12407...</td>\n",
       "    </tr>\n",
       "  </tbody>\n",
       "</table>\n",
       "</div>"
      ],
      "text/plain": [
       "   UserId                                       product_list\n",
       "0       2  [11660064, 13653526, 13653524, 12658512, 12407...\n",
       "1      28  [11659838, 12360404, 12407652, 12407706, 13039...\n",
       "2      36  [11460916, 12360448, 12407648, 11360860, 11480...\n",
       "3      38  [11659712, 11659798, 12406972, 11659808, 12407...\n",
       "4      41  [11659236, 11659232, 12658512, 12407154, 12407..."
      ]
     },
     "execution_count": 248,
     "metadata": {},
     "output_type": "execute_result"
    }
   ],
   "source": [
    "pd.read_csv('capillary_nearest_neighbour.csv').head()"
   ]
  },
  {
   "cell_type": "code",
   "execution_count": 317,
   "metadata": {},
   "outputs": [],
   "source": [
    "final_pred = final_pred.rename({'UserId_x':'UserId','productid':'product_list'},axis=1)"
   ]
  },
  {
   "cell_type": "code",
   "execution_count": 318,
   "metadata": {},
   "outputs": [],
   "source": [
    "final_pred.merge(test, on= 'UserId', how='inner').to_csv('capillary_nearest_neighbour_image_add_feat.csv',index=False)"
   ]
  },
  {
   "cell_type": "code",
   "execution_count": 251,
   "metadata": {},
   "outputs": [],
   "source": [
    "#final_pred.to_csv('capillary_nearest_neighbour.csv',index=False)"
   ]
  },
  {
   "cell_type": "code",
   "execution_count": 252,
   "metadata": {},
   "outputs": [
    {
     "data": {
      "text/html": [
       "<div>\n",
       "<style scoped>\n",
       "    .dataframe tbody tr th:only-of-type {\n",
       "        vertical-align: middle;\n",
       "    }\n",
       "\n",
       "    .dataframe tbody tr th {\n",
       "        vertical-align: top;\n",
       "    }\n",
       "\n",
       "    .dataframe thead th {\n",
       "        text-align: right;\n",
       "    }\n",
       "</style>\n",
       "<table border=\"1\" class=\"dataframe\">\n",
       "  <thead>\n",
       "    <tr style=\"text-align: right;\">\n",
       "      <th></th>\n",
       "      <th>UserId</th>\n",
       "      <th>product_list</th>\n",
       "    </tr>\n",
       "  </thead>\n",
       "  <tbody>\n",
       "    <tr>\n",
       "      <th>0</th>\n",
       "      <td>2</td>\n",
       "      <td>[12658382, 12658382, 12658382, 12658382, 12658...</td>\n",
       "    </tr>\n",
       "    <tr>\n",
       "      <th>1</th>\n",
       "      <td>28</td>\n",
       "      <td>[12658382, 12658382, 12658382, 12658382, 12658...</td>\n",
       "    </tr>\n",
       "    <tr>\n",
       "      <th>2</th>\n",
       "      <td>36</td>\n",
       "      <td>[12658382, 12658382, 12658382, 12658382, 12658...</td>\n",
       "    </tr>\n",
       "    <tr>\n",
       "      <th>3</th>\n",
       "      <td>38</td>\n",
       "      <td>[12658382, 12658382, 12658382, 12658382, 12658...</td>\n",
       "    </tr>\n",
       "    <tr>\n",
       "      <th>4</th>\n",
       "      <td>41</td>\n",
       "      <td>[12658382, 12658382, 12658382, 12658382, 12658...</td>\n",
       "    </tr>\n",
       "  </tbody>\n",
       "</table>\n",
       "</div>"
      ],
      "text/plain": [
       "   UserId                                       product_list\n",
       "0       2  [12658382, 12658382, 12658382, 12658382, 12658...\n",
       "1      28  [12658382, 12658382, 12658382, 12658382, 12658...\n",
       "2      36  [12658382, 12658382, 12658382, 12658382, 12658...\n",
       "3      38  [12658382, 12658382, 12658382, 12658382, 12658...\n",
       "4      41  [12658382, 12658382, 12658382, 12658382, 12658..."
      ]
     },
     "execution_count": 252,
     "metadata": {},
     "output_type": "execute_result"
    }
   ],
   "source": [
    "sample.head()"
   ]
  },
  {
   "cell_type": "code",
   "execution_count": 112,
   "metadata": {},
   "outputs": [],
   "source": [
    "#collab_pred = total_df.apply(lambda x: algo.predict(x[0],x[1]),axis=1)"
   ]
  },
  {
   "cell_type": "code",
   "execution_count": 113,
   "metadata": {},
   "outputs": [],
   "source": [
    "# reader = Reader(rating_scale=(0.0, 1.0))\n",
    "# data = Dataset.load_from_df(train_agg[['UserId', 'productid', 'Quantity']], reader)\n",
    "# data.split(n_folds=3) # 5-fold cross validation\n",
    "# algo = SVD(5) # matrix factorization using 10 latent factors\n",
    "# evaluate(algo, data, measures=['MAE']) # check validation scores"
   ]
  },
  {
   "cell_type": "code",
   "execution_count": 114,
   "metadata": {},
   "outputs": [],
   "source": [
    "# trainset = data.build_full_trainset() # train on full training set\n",
    "# algo.train(trainset)"
   ]
  },
  {
   "cell_type": "code",
   "execution_count": null,
   "metadata": {},
   "outputs": [],
   "source": []
  },
  {
   "cell_type": "code",
   "execution_count": 33,
   "metadata": {},
   "outputs": [
    {
     "data": {
      "text/plain": [
       "count    132551.000000\n",
       "mean          1.013670\n",
       "std           0.152367\n",
       "min           1.000000\n",
       "25%           1.000000\n",
       "50%           1.000000\n",
       "75%           1.000000\n",
       "max          12.000000\n",
       "Name: Quantity, dtype: float64"
      ]
     },
     "execution_count": 33,
     "metadata": {},
     "output_type": "execute_result"
    }
   ],
   "source": [
    "train['Quantity'].describe()"
   ]
  },
  {
   "cell_type": "code",
   "execution_count": 20,
   "metadata": {},
   "outputs": [
    {
     "data": {
      "text/plain": [
       "12658512    881\n",
       "12407154    640\n",
       "12407730    521\n",
       "12371378    468\n",
       "11659624    390\n",
       "12407400    382\n",
       "12406904    378\n",
       "12407742    372\n",
       "12407398    370\n",
       "12360424    363\n",
       "12406886    362\n",
       "11659236    356\n",
       "12360426    354\n",
       "12407382    352\n",
       "12360438    337\n",
       "13039848    322\n",
       "12657692    321\n",
       "12407132    318\n",
       "12407042    317\n",
       "11659626    314\n",
       "12658406    313\n",
       "12371376    312\n",
       "12973004    312\n",
       "11659538    308\n",
       "12696914    293\n",
       "12657532    293\n",
       "12406888    292\n",
       "13039516    278\n",
       "12407390    272\n",
       "13038648    271\n",
       "           ... \n",
       "11147300      1\n",
       "12437214      1\n",
       "12436412      1\n",
       "11149974      1\n",
       "13039402      1\n",
       "12437044      1\n",
       "11714468      1\n",
       "13039356      1\n",
       "13650136      1\n",
       "12936684      1\n",
       "13039006      1\n",
       "12936556      1\n",
       "13039612      1\n",
       "13650264      1\n",
       "12436542      1\n",
       "12406960      1\n",
       "11360904      1\n",
       "11150146      1\n",
       "12423436      1\n",
       "11481030      1\n",
       "11481106      1\n",
       "12407646      1\n",
       "12423446      1\n",
       "12936664      1\n",
       "12423476      1\n",
       "11460984      1\n",
       "13653556      1\n",
       "12445186      1\n",
       "12436742      1\n",
       "11659280      1\n",
       "Name: productid, Length: 3026, dtype: int64"
      ]
     },
     "execution_count": 20,
     "metadata": {},
     "output_type": "execute_result"
    }
   ],
   "source": [
    "train['productid'].value_counts()"
   ]
  },
  {
   "cell_type": "code",
   "execution_count": 18,
   "metadata": {},
   "outputs": [
    {
     "data": {
      "text/plain": [
       "26784    42819\n",
       "23020      332\n",
       "2110       244\n",
       "4420       206\n",
       "19078      194\n",
       "12964      190\n",
       "9697       182\n",
       "2777       179\n",
       "11566      174\n",
       "6620       174\n",
       "22390      172\n",
       "23447      161\n",
       "10839      155\n",
       "16313      149\n",
       "23221      149\n",
       "1699       141\n",
       "16585      140\n",
       "26866      138\n",
       "18368      127\n",
       "21548      108\n",
       "13650      107\n",
       "2067       107\n",
       "22761       95\n",
       "9230        95\n",
       "8998        86\n",
       "13457       85\n",
       "21361       84\n",
       "1874        83\n",
       "6104        82\n",
       "6801        82\n",
       "         ...  \n",
       "2116         1\n",
       "2372         1\n",
       "14658        1\n",
       "8513         1\n",
       "20687        1\n",
       "16589        1\n",
       "18636        1\n",
       "6342         1\n",
       "197          1\n",
       "2244         1\n",
       "14530        1\n",
       "18508        1\n",
       "24649        1\n",
       "6214         1\n",
       "12355        1\n",
       "16067        1\n",
       "14402        1\n",
       "24527        1\n",
       "14274        1\n",
       "24399        1\n",
       "18252        1\n",
       "5958         1\n",
       "3909         1\n",
       "1860         1\n",
       "16195        1\n",
       "14146        1\n",
       "20173        1\n",
       "26312        1\n",
       "3781         1\n",
       "0            1\n",
       "Name: UserId, Length: 27778, dtype: int64"
      ]
     },
     "execution_count": 18,
     "metadata": {},
     "output_type": "execute_result"
    }
   ],
   "source": [
    "train['UserId'].value_counts()"
   ]
  },
  {
   "cell_type": "raw",
   "metadata": {},
   "source": []
  }
 ],
 "metadata": {
  "kernelspec": {
   "display_name": "Python 3",
   "language": "python",
   "name": "python3"
  },
  "language_info": {
   "codemirror_mode": {
    "name": "ipython",
    "version": 3
   },
   "file_extension": ".py",
   "mimetype": "text/x-python",
   "name": "python",
   "nbconvert_exporter": "python",
   "pygments_lexer": "ipython3",
   "version": "3.7.0"
  }
 },
 "nbformat": 4,
 "nbformat_minor": 2
}
