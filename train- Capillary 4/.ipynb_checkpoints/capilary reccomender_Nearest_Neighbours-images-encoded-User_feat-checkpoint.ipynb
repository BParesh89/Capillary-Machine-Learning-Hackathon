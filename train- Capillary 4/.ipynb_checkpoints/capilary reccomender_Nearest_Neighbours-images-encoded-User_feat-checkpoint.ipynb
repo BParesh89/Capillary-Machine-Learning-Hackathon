{
 "cells": [
  {
   "cell_type": "code",
   "execution_count": 1,
   "metadata": {},
   "outputs": [],
   "source": [
    "import pandas as pd\n",
    "from surprise import Reader, Dataset\n",
    "from surprise import SVD, evaluate\n",
    "from surprise import NMF\n",
    "import matplotlib.pyplot as plt\n",
    "import math\n",
    "import numpy as np\n"
   ]
  },
  {
   "cell_type": "code",
   "execution_count": 2,
   "metadata": {},
   "outputs": [],
   "source": [
    "from sklearn.neighbors import NearestNeighbors\n",
    "from sklearn.preprocessing import StandardScaler  \n"
   ]
  },
  {
   "cell_type": "code",
   "execution_count": 3,
   "metadata": {},
   "outputs": [
    {
     "name": "stderr",
     "output_type": "stream",
     "text": [
      "Using TensorFlow backend.\n",
      "/anaconda3/lib/python3.7/importlib/_bootstrap.py:219: RuntimeWarning: compiletime version 3.6 of module 'tensorflow.python.framework.fast_tensor_util' does not match runtime version 3.7\n",
      "  return f(*args, **kwds)\n"
     ]
    }
   ],
   "source": [
    "from keras.models import Model\n",
    "from keras.applications.inception_v3 import InceptionV3\n",
    "from keras.models import Model\n",
    "from keras.layers.convolutional import Conv2D, MaxPooling2D, UpSampling2D\n",
    "from keras.layers.convolutional import Conv3D, MaxPooling3D, UpSampling3D\n",
    "from keras.models import Input\n",
    "from os import listdir\n",
    "from keras.preprocessing.image import load_img\n",
    "from keras.preprocessing.image import img_to_array"
   ]
  },
  {
   "cell_type": "code",
   "execution_count": 5,
   "metadata": {},
   "outputs": [],
   "source": [
    "train = pd.read_csv('train.csv')"
   ]
  },
  {
   "cell_type": "code",
   "execution_count": 6,
   "metadata": {},
   "outputs": [],
   "source": [
    "product = pd.read_csv('product_attributes.csv')"
   ]
  },
  {
   "cell_type": "code",
   "execution_count": 7,
   "metadata": {},
   "outputs": [],
   "source": [
    "test = pd.read_csv('../test_nFNPSyV.csv')"
   ]
  },
  {
   "cell_type": "code",
   "execution_count": 8,
   "metadata": {},
   "outputs": [],
   "source": [
    "sample = pd.read_csv('../sample_submission_qfCnaKZ.csv')"
   ]
  },
  {
   "cell_type": "code",
   "execution_count": 9,
   "metadata": {},
   "outputs": [
    {
     "data": {
      "text/html": [
       "<div>\n",
       "<style scoped>\n",
       "    .dataframe tbody tr th:only-of-type {\n",
       "        vertical-align: middle;\n",
       "    }\n",
       "\n",
       "    .dataframe tbody tr th {\n",
       "        vertical-align: top;\n",
       "    }\n",
       "\n",
       "    .dataframe thead th {\n",
       "        text-align: right;\n",
       "    }\n",
       "</style>\n",
       "<table border=\"1\" class=\"dataframe\">\n",
       "  <thead>\n",
       "    <tr style=\"text-align: right;\">\n",
       "      <th></th>\n",
       "      <th>UserId</th>\n",
       "      <th>productid</th>\n",
       "      <th>Quantity</th>\n",
       "      <th>OrderDate</th>\n",
       "    </tr>\n",
       "  </thead>\n",
       "  <tbody>\n",
       "    <tr>\n",
       "      <th>0</th>\n",
       "      <td>18075</td>\n",
       "      <td>12322648</td>\n",
       "      <td>1</td>\n",
       "      <td>01/04/18</td>\n",
       "    </tr>\n",
       "    <tr>\n",
       "      <th>1</th>\n",
       "      <td>6820</td>\n",
       "      <td>12371370</td>\n",
       "      <td>1</td>\n",
       "      <td>01/04/18</td>\n",
       "    </tr>\n",
       "    <tr>\n",
       "      <th>2</th>\n",
       "      <td>6820</td>\n",
       "      <td>12973004</td>\n",
       "      <td>1</td>\n",
       "      <td>01/04/18</td>\n",
       "    </tr>\n",
       "    <tr>\n",
       "      <th>3</th>\n",
       "      <td>6820</td>\n",
       "      <td>12657560</td>\n",
       "      <td>1</td>\n",
       "      <td>01/04/18</td>\n",
       "    </tr>\n",
       "    <tr>\n",
       "      <th>4</th>\n",
       "      <td>6820</td>\n",
       "      <td>11659914</td>\n",
       "      <td>1</td>\n",
       "      <td>01/04/18</td>\n",
       "    </tr>\n",
       "  </tbody>\n",
       "</table>\n",
       "</div>"
      ],
      "text/plain": [
       "   UserId  productid  Quantity OrderDate\n",
       "0   18075   12322648         1  01/04/18\n",
       "1    6820   12371370         1  01/04/18\n",
       "2    6820   12973004         1  01/04/18\n",
       "3    6820   12657560         1  01/04/18\n",
       "4    6820   11659914         1  01/04/18"
      ]
     },
     "execution_count": 9,
     "metadata": {},
     "output_type": "execute_result"
    }
   ],
   "source": [
    "train.head()"
   ]
  },
  {
   "cell_type": "code",
   "execution_count": 10,
   "metadata": {},
   "outputs": [],
   "source": [
    "train['OrderDate'] = pd.to_datetime(train['OrderDate'])"
   ]
  },
  {
   "cell_type": "code",
   "execution_count": 11,
   "metadata": {},
   "outputs": [],
   "source": [
    "user_transactions = train.groupby('UserId')['Quantity'].sum().reset_index()\n",
    "\n",
    "user_transactions = user_transactions.rename({'Quantity':'User_transactions'},axis=1)"
   ]
  },
  {
   "cell_type": "code",
   "execution_count": 13,
   "metadata": {},
   "outputs": [
    {
     "data": {
      "text/html": [
       "<div>\n",
       "<style scoped>\n",
       "    .dataframe tbody tr th:only-of-type {\n",
       "        vertical-align: middle;\n",
       "    }\n",
       "\n",
       "    .dataframe tbody tr th {\n",
       "        vertical-align: top;\n",
       "    }\n",
       "\n",
       "    .dataframe thead th {\n",
       "        text-align: right;\n",
       "    }\n",
       "</style>\n",
       "<table border=\"1\" class=\"dataframe\">\n",
       "  <thead>\n",
       "    <tr style=\"text-align: right;\">\n",
       "      <th></th>\n",
       "      <th>UserId</th>\n",
       "      <th>User_transactions</th>\n",
       "    </tr>\n",
       "  </thead>\n",
       "  <tbody>\n",
       "    <tr>\n",
       "      <th>0</th>\n",
       "      <td>0</td>\n",
       "      <td>1</td>\n",
       "    </tr>\n",
       "    <tr>\n",
       "      <th>1</th>\n",
       "      <td>1</td>\n",
       "      <td>1</td>\n",
       "    </tr>\n",
       "    <tr>\n",
       "      <th>2</th>\n",
       "      <td>2</td>\n",
       "      <td>1</td>\n",
       "    </tr>\n",
       "    <tr>\n",
       "      <th>3</th>\n",
       "      <td>3</td>\n",
       "      <td>18</td>\n",
       "    </tr>\n",
       "    <tr>\n",
       "      <th>4</th>\n",
       "      <td>4</td>\n",
       "      <td>2</td>\n",
       "    </tr>\n",
       "  </tbody>\n",
       "</table>\n",
       "</div>"
      ],
      "text/plain": [
       "   UserId  User_transactions\n",
       "0       0                  1\n",
       "1       1                  1\n",
       "2       2                  1\n",
       "3       3                 18\n",
       "4       4                  2"
      ]
     },
     "execution_count": 13,
     "metadata": {},
     "output_type": "execute_result"
    }
   ],
   "source": [
    "user_transactions.head()"
   ]
  },
  {
   "cell_type": "code",
   "execution_count": 14,
   "metadata": {},
   "outputs": [],
   "source": [
    "train = train.sort_values(['UserId','OrderDate'])"
   ]
  },
  {
   "cell_type": "code",
   "execution_count": 16,
   "metadata": {},
   "outputs": [],
   "source": [
    "train['days_diff'] =  train.groupby(['UserId'])['OrderDate'].diff().fillna(0)"
   ]
  },
  {
   "cell_type": "code",
   "execution_count": 17,
   "metadata": {},
   "outputs": [
    {
     "data": {
      "text/html": [
       "<div>\n",
       "<style scoped>\n",
       "    .dataframe tbody tr th:only-of-type {\n",
       "        vertical-align: middle;\n",
       "    }\n",
       "\n",
       "    .dataframe tbody tr th {\n",
       "        vertical-align: top;\n",
       "    }\n",
       "\n",
       "    .dataframe thead th {\n",
       "        text-align: right;\n",
       "    }\n",
       "</style>\n",
       "<table border=\"1\" class=\"dataframe\">\n",
       "  <thead>\n",
       "    <tr style=\"text-align: right;\">\n",
       "      <th></th>\n",
       "      <th>UserId</th>\n",
       "      <th>productid</th>\n",
       "      <th>Quantity</th>\n",
       "      <th>OrderDate</th>\n",
       "      <th>days_diff</th>\n",
       "    </tr>\n",
       "  </thead>\n",
       "  <tbody>\n",
       "    <tr>\n",
       "      <th>21155</th>\n",
       "      <td>0</td>\n",
       "      <td>11659624</td>\n",
       "      <td>1</td>\n",
       "      <td>2018-05-16</td>\n",
       "      <td>0 days</td>\n",
       "    </tr>\n",
       "    <tr>\n",
       "      <th>100672</th>\n",
       "      <td>1</td>\n",
       "      <td>12406904</td>\n",
       "      <td>1</td>\n",
       "      <td>2018-08-20</td>\n",
       "      <td>0 days</td>\n",
       "    </tr>\n",
       "    <tr>\n",
       "      <th>27942</th>\n",
       "      <td>2</td>\n",
       "      <td>11660064</td>\n",
       "      <td>1</td>\n",
       "      <td>2018-05-06</td>\n",
       "      <td>0 days</td>\n",
       "    </tr>\n",
       "    <tr>\n",
       "      <th>66578</th>\n",
       "      <td>3</td>\n",
       "      <td>12658228</td>\n",
       "      <td>1</td>\n",
       "      <td>2018-07-14</td>\n",
       "      <td>0 days</td>\n",
       "    </tr>\n",
       "    <tr>\n",
       "      <th>66579</th>\n",
       "      <td>3</td>\n",
       "      <td>12360440</td>\n",
       "      <td>1</td>\n",
       "      <td>2018-07-14</td>\n",
       "      <td>0 days</td>\n",
       "    </tr>\n",
       "  </tbody>\n",
       "</table>\n",
       "</div>"
      ],
      "text/plain": [
       "        UserId  productid  Quantity  OrderDate days_diff\n",
       "21155        0   11659624         1 2018-05-16    0 days\n",
       "100672       1   12406904         1 2018-08-20    0 days\n",
       "27942        2   11660064         1 2018-05-06    0 days\n",
       "66578        3   12658228         1 2018-07-14    0 days\n",
       "66579        3   12360440         1 2018-07-14    0 days"
      ]
     },
     "execution_count": 17,
     "metadata": {},
     "output_type": "execute_result"
    }
   ],
   "source": [
    "train.head()"
   ]
  },
  {
   "cell_type": "code",
   "execution_count": 18,
   "metadata": {},
   "outputs": [],
   "source": [
    "train['days_diff'] = train['days_diff'].dt.days"
   ]
  },
  {
   "cell_type": "code",
   "execution_count": 19,
   "metadata": {},
   "outputs": [],
   "source": [
    "user_days = train.groupby('UserId')['days_diff'].mean().reset_index()"
   ]
  },
  {
   "cell_type": "code",
   "execution_count": 20,
   "metadata": {},
   "outputs": [
    {
     "data": {
      "text/html": [
       "<div>\n",
       "<style scoped>\n",
       "    .dataframe tbody tr th:only-of-type {\n",
       "        vertical-align: middle;\n",
       "    }\n",
       "\n",
       "    .dataframe tbody tr th {\n",
       "        vertical-align: top;\n",
       "    }\n",
       "\n",
       "    .dataframe thead th {\n",
       "        text-align: right;\n",
       "    }\n",
       "</style>\n",
       "<table border=\"1\" class=\"dataframe\">\n",
       "  <thead>\n",
       "    <tr style=\"text-align: right;\">\n",
       "      <th></th>\n",
       "      <th>UserId</th>\n",
       "      <th>days_diff</th>\n",
       "    </tr>\n",
       "  </thead>\n",
       "  <tbody>\n",
       "    <tr>\n",
       "      <th>0</th>\n",
       "      <td>0</td>\n",
       "      <td>0.000000</td>\n",
       "    </tr>\n",
       "    <tr>\n",
       "      <th>1</th>\n",
       "      <td>1</td>\n",
       "      <td>0.000000</td>\n",
       "    </tr>\n",
       "    <tr>\n",
       "      <th>2</th>\n",
       "      <td>2</td>\n",
       "      <td>0.000000</td>\n",
       "    </tr>\n",
       "    <tr>\n",
       "      <th>3</th>\n",
       "      <td>3</td>\n",
       "      <td>0.055556</td>\n",
       "    </tr>\n",
       "    <tr>\n",
       "      <th>4</th>\n",
       "      <td>4</td>\n",
       "      <td>22.000000</td>\n",
       "    </tr>\n",
       "  </tbody>\n",
       "</table>\n",
       "</div>"
      ],
      "text/plain": [
       "   UserId  days_diff\n",
       "0       0   0.000000\n",
       "1       1   0.000000\n",
       "2       2   0.000000\n",
       "3       3   0.055556\n",
       "4       4  22.000000"
      ]
     },
     "execution_count": 20,
     "metadata": {},
     "output_type": "execute_result"
    }
   ],
   "source": [
    "user_days.head()"
   ]
  },
  {
   "cell_type": "code",
   "execution_count": 21,
   "metadata": {},
   "outputs": [],
   "source": [
    "# user transactions to same df as avg time delta between transactions of users\n",
    "user_days['User_transactions'] = user_transactions['User_transactions'].values \n",
    "                                "
   ]
  },
  {
   "cell_type": "code",
   "execution_count": 22,
   "metadata": {},
   "outputs": [],
   "source": [
    "train = train.drop('days_diff',axis=1)"
   ]
  },
  {
   "cell_type": "code",
   "execution_count": 23,
   "metadata": {},
   "outputs": [],
   "source": [
    "products = list(product['productid'].unique())"
   ]
  },
  {
   "cell_type": "code",
   "execution_count": 156,
   "metadata": {},
   "outputs": [],
   "source": [
    "images = []\n",
    "# reading all images\n",
    "def preprocess_input(x):\n",
    "    x /= 255.\n",
    "    x -= 0.5\n",
    "    x *= 2.\n",
    "    return x\n",
    "\n",
    "for i in products:\n",
    "    image = load_img('./images/{}.jpg'.format(i), target_size=(28, 28))\n",
    "    # convert the image pixels to a numpy array\n",
    "    image = img_to_array(image)\n",
    "    # reshape data for the model\n",
    "    image = np.expand_dims(image, axis=0)\n",
    "    # prepare the image for the  model\n",
    "    image = preprocess_input(image)\n",
    "    #image = list(image.reshape(192))\n",
    "    \n",
    "    images.append(image)"
   ]
  },
  {
   "cell_type": "code",
   "execution_count": 26,
   "metadata": {},
   "outputs": [
    {
     "data": {
      "text/plain": [
       "(1, 28, 28, 3)"
      ]
     },
     "execution_count": 26,
     "metadata": {},
     "output_type": "execute_result"
    }
   ],
   "source": [
    "images[0].shape"
   ]
  },
  {
   "cell_type": "code",
   "execution_count": 29,
   "metadata": {},
   "outputs": [],
   "source": [
    "images1 = np.array(images).reshape(3015,28,28,3)"
   ]
  },
  {
   "cell_type": "code",
   "execution_count": 30,
   "metadata": {},
   "outputs": [],
   "source": [
    "# training auto encoder to get better representation of image feature\n",
    "input_img = Input(shape=(28,28,3))\n",
    "x = Conv2D(16,(3,3), activation='relu', padding='same')(input_img)\n",
    "x = MaxPooling2D((2,2), padding='same')(x)\n",
    "x = Conv2D(8,(3,3), activation='relu', padding='same')(x)\n",
    "x = MaxPooling2D((2,2), padding='same')(x)\n",
    "x = Conv2D(8,(3,3), activation='relu', padding='same')(x)\n",
    "encoded = MaxPooling2D((2,2), padding='same', name='encoder')(x)\n",
    "\n",
    "x = Conv2D(8, (3, 3), activation='relu', padding='same')(encoded)\n",
    "x = UpSampling2D((2, 2))(x)\n",
    "x = Conv2D(8, (3, 3), activation='relu', padding='same')(x)\n",
    "x = UpSampling2D((2, 2))(x)\n",
    "x = Conv2D(16, (3, 3), activation='relu')(x)\n",
    "x = UpSampling2D((2, 2))(x)\n",
    "decoded = Conv2D(3, (3, 3), activation='sigmoid', padding='same')(x)\n",
    "\n",
    "autoencoder = Model(input_img, decoded)\n",
    "autoencoder.compile(optimizer='adam', loss='mse')"
   ]
  },
  {
   "cell_type": "code",
   "execution_count": 31,
   "metadata": {},
   "outputs": [],
   "source": [
    "encoder = Model(inputs=autoencoder.input, outputs=autoencoder.get_layer('encoder').output)\n"
   ]
  },
  {
   "cell_type": "code",
   "execution_count": 32,
   "metadata": {},
   "outputs": [
    {
     "name": "stdout",
     "output_type": "stream",
     "text": [
      "Epoch 1/10\n",
      "3015/3015 [==============================] - 3s 1ms/step - loss: 0.2830\n",
      "Epoch 2/10\n",
      "3015/3015 [==============================] - 2s 816us/step - loss: 0.1667\n",
      "Epoch 3/10\n",
      "3015/3015 [==============================] - 3s 836us/step - loss: 0.1496\n",
      "Epoch 4/10\n",
      "3015/3015 [==============================] - 3s 858us/step - loss: 0.1423\n",
      "Epoch 5/10\n",
      "3015/3015 [==============================] - 3s 835us/step - loss: 0.1361\n",
      "Epoch 6/10\n",
      "3015/3015 [==============================] - 3s 840us/step - loss: 0.1317\n",
      "Epoch 7/10\n",
      "3015/3015 [==============================] - 3s 884us/step - loss: 0.1288\n",
      "Epoch 8/10\n",
      "3015/3015 [==============================] - 3s 885us/step - loss: 0.1276\n",
      "Epoch 9/10\n",
      "3015/3015 [==============================] - 3s 888us/step - loss: 0.1250\n",
      "Epoch 10/10\n",
      "3015/3015 [==============================] - 3s 868us/step - loss: 0.1238\n"
     ]
    },
    {
     "data": {
      "text/plain": [
       "<keras.callbacks.History at 0x1a28e6cd68>"
      ]
     },
     "execution_count": 32,
     "metadata": {},
     "output_type": "execute_result"
    }
   ],
   "source": [
    "autoencoder.fit(images1,images1,epochs=10,batch_size=64)"
   ]
  },
  {
   "cell_type": "code",
   "execution_count": 33,
   "metadata": {},
   "outputs": [],
   "source": [
    "encode_images= encoder.predict(images1).reshape(3015,128)"
   ]
  },
  {
   "cell_type": "code",
   "execution_count": 34,
   "metadata": {},
   "outputs": [],
   "source": [
    "image_features_encoded = pd.DataFrame(encode_images)\n",
    "\n",
    "image_features_encoded['productid'] = products"
   ]
  },
  {
   "cell_type": "code",
   "execution_count": 36,
   "metadata": {},
   "outputs": [
    {
     "data": {
      "text/html": [
       "<div>\n",
       "<style scoped>\n",
       "    .dataframe tbody tr th:only-of-type {\n",
       "        vertical-align: middle;\n",
       "    }\n",
       "\n",
       "    .dataframe tbody tr th {\n",
       "        vertical-align: top;\n",
       "    }\n",
       "\n",
       "    .dataframe thead th {\n",
       "        text-align: right;\n",
       "    }\n",
       "</style>\n",
       "<table border=\"1\" class=\"dataframe\">\n",
       "  <thead>\n",
       "    <tr style=\"text-align: right;\">\n",
       "      <th></th>\n",
       "      <th>0</th>\n",
       "      <th>1</th>\n",
       "      <th>2</th>\n",
       "      <th>3</th>\n",
       "      <th>4</th>\n",
       "      <th>5</th>\n",
       "      <th>6</th>\n",
       "      <th>7</th>\n",
       "      <th>8</th>\n",
       "      <th>9</th>\n",
       "      <th>...</th>\n",
       "      <th>119</th>\n",
       "      <th>120</th>\n",
       "      <th>121</th>\n",
       "      <th>122</th>\n",
       "      <th>123</th>\n",
       "      <th>124</th>\n",
       "      <th>125</th>\n",
       "      <th>126</th>\n",
       "      <th>127</th>\n",
       "      <th>productid</th>\n",
       "    </tr>\n",
       "  </thead>\n",
       "  <tbody>\n",
       "    <tr>\n",
       "      <th>0</th>\n",
       "      <td>0.000000</td>\n",
       "      <td>0.0</td>\n",
       "      <td>2.137546</td>\n",
       "      <td>3.523025</td>\n",
       "      <td>4.611123</td>\n",
       "      <td>5.945545</td>\n",
       "      <td>0.070544</td>\n",
       "      <td>1.583210</td>\n",
       "      <td>0.800346</td>\n",
       "      <td>0.0</td>\n",
       "      <td>...</td>\n",
       "      <td>1.600017</td>\n",
       "      <td>0.0</td>\n",
       "      <td>2.314948</td>\n",
       "      <td>0.0</td>\n",
       "      <td>3.402112</td>\n",
       "      <td>2.352793</td>\n",
       "      <td>3.705026</td>\n",
       "      <td>2.545706</td>\n",
       "      <td>1.126399</td>\n",
       "      <td>11145600</td>\n",
       "    </tr>\n",
       "    <tr>\n",
       "      <th>1</th>\n",
       "      <td>0.185421</td>\n",
       "      <td>0.0</td>\n",
       "      <td>2.132077</td>\n",
       "      <td>3.494496</td>\n",
       "      <td>4.665393</td>\n",
       "      <td>5.814270</td>\n",
       "      <td>0.253228</td>\n",
       "      <td>1.623920</td>\n",
       "      <td>1.101802</td>\n",
       "      <td>0.0</td>\n",
       "      <td>...</td>\n",
       "      <td>1.598721</td>\n",
       "      <td>0.0</td>\n",
       "      <td>2.186554</td>\n",
       "      <td>0.0</td>\n",
       "      <td>3.411325</td>\n",
       "      <td>2.156095</td>\n",
       "      <td>3.653809</td>\n",
       "      <td>2.733771</td>\n",
       "      <td>1.053551</td>\n",
       "      <td>11145602</td>\n",
       "    </tr>\n",
       "    <tr>\n",
       "      <th>2</th>\n",
       "      <td>0.147965</td>\n",
       "      <td>0.0</td>\n",
       "      <td>2.156131</td>\n",
       "      <td>3.658700</td>\n",
       "      <td>4.925179</td>\n",
       "      <td>6.015566</td>\n",
       "      <td>0.370619</td>\n",
       "      <td>1.747968</td>\n",
       "      <td>0.906306</td>\n",
       "      <td>0.0</td>\n",
       "      <td>...</td>\n",
       "      <td>1.666143</td>\n",
       "      <td>0.0</td>\n",
       "      <td>2.234108</td>\n",
       "      <td>0.0</td>\n",
       "      <td>3.432867</td>\n",
       "      <td>2.172713</td>\n",
       "      <td>3.701639</td>\n",
       "      <td>2.697795</td>\n",
       "      <td>1.087301</td>\n",
       "      <td>11145612</td>\n",
       "    </tr>\n",
       "    <tr>\n",
       "      <th>3</th>\n",
       "      <td>0.119011</td>\n",
       "      <td>0.0</td>\n",
       "      <td>2.146159</td>\n",
       "      <td>3.516220</td>\n",
       "      <td>4.823935</td>\n",
       "      <td>6.032888</td>\n",
       "      <td>0.313591</td>\n",
       "      <td>1.731640</td>\n",
       "      <td>1.049462</td>\n",
       "      <td>0.0</td>\n",
       "      <td>...</td>\n",
       "      <td>1.597732</td>\n",
       "      <td>0.0</td>\n",
       "      <td>2.252601</td>\n",
       "      <td>0.0</td>\n",
       "      <td>3.451104</td>\n",
       "      <td>2.199149</td>\n",
       "      <td>3.714535</td>\n",
       "      <td>2.673719</td>\n",
       "      <td>1.101310</td>\n",
       "      <td>11145614</td>\n",
       "    </tr>\n",
       "    <tr>\n",
       "      <th>4</th>\n",
       "      <td>0.051007</td>\n",
       "      <td>0.0</td>\n",
       "      <td>2.136632</td>\n",
       "      <td>3.496749</td>\n",
       "      <td>4.710228</td>\n",
       "      <td>6.075861</td>\n",
       "      <td>0.187204</td>\n",
       "      <td>1.718356</td>\n",
       "      <td>0.763491</td>\n",
       "      <td>0.0</td>\n",
       "      <td>...</td>\n",
       "      <td>1.572207</td>\n",
       "      <td>0.0</td>\n",
       "      <td>2.357469</td>\n",
       "      <td>0.0</td>\n",
       "      <td>3.484884</td>\n",
       "      <td>2.255583</td>\n",
       "      <td>3.802184</td>\n",
       "      <td>2.612778</td>\n",
       "      <td>1.158466</td>\n",
       "      <td>11145620</td>\n",
       "    </tr>\n",
       "  </tbody>\n",
       "</table>\n",
       "<p>5 rows × 129 columns</p>\n",
       "</div>"
      ],
      "text/plain": [
       "          0    1         2         3         4         5         6         7  \\\n",
       "0  0.000000  0.0  2.137546  3.523025  4.611123  5.945545  0.070544  1.583210   \n",
       "1  0.185421  0.0  2.132077  3.494496  4.665393  5.814270  0.253228  1.623920   \n",
       "2  0.147965  0.0  2.156131  3.658700  4.925179  6.015566  0.370619  1.747968   \n",
       "3  0.119011  0.0  2.146159  3.516220  4.823935  6.032888  0.313591  1.731640   \n",
       "4  0.051007  0.0  2.136632  3.496749  4.710228  6.075861  0.187204  1.718356   \n",
       "\n",
       "          8    9    ...           119  120       121  122       123       124  \\\n",
       "0  0.800346  0.0    ...      1.600017  0.0  2.314948  0.0  3.402112  2.352793   \n",
       "1  1.101802  0.0    ...      1.598721  0.0  2.186554  0.0  3.411325  2.156095   \n",
       "2  0.906306  0.0    ...      1.666143  0.0  2.234108  0.0  3.432867  2.172713   \n",
       "3  1.049462  0.0    ...      1.597732  0.0  2.252601  0.0  3.451104  2.199149   \n",
       "4  0.763491  0.0    ...      1.572207  0.0  2.357469  0.0  3.484884  2.255583   \n",
       "\n",
       "        125       126       127  productid  \n",
       "0  3.705026  2.545706  1.126399   11145600  \n",
       "1  3.653809  2.733771  1.053551   11145602  \n",
       "2  3.701639  2.697795  1.087301   11145612  \n",
       "3  3.714535  2.673719  1.101310   11145614  \n",
       "4  3.802184  2.612778  1.158466   11145620  \n",
       "\n",
       "[5 rows x 129 columns]"
      ]
     },
     "execution_count": 36,
     "metadata": {},
     "output_type": "execute_result"
    }
   ],
   "source": [
    "image_features_encoded.head()"
   ]
  },
  {
   "cell_type": "code",
   "execution_count": 37,
   "metadata": {},
   "outputs": [],
   "source": [
    "# creating normalized quantity of products sold feature\n",
    "total_quantity = train['Quantity'].sum()\n",
    "\n",
    "product_sold = train.groupby('productid')['Quantity'].sum().reset_index()\n",
    "\n",
    "product_sold['weight'] = product_sold['Quantity']/total_quantity\n",
    "\n",
    "product_sold = product_sold.drop('Quantity', axis=1)"
   ]
  },
  {
   "cell_type": "code",
   "execution_count": 41,
   "metadata": {},
   "outputs": [
    {
     "data": {
      "text/plain": [
       "(3026, 2)"
      ]
     },
     "execution_count": 41,
     "metadata": {},
     "output_type": "execute_result"
    }
   ],
   "source": [
    "product_sold.shape"
   ]
  },
  {
   "cell_type": "code",
   "execution_count": 42,
   "metadata": {},
   "outputs": [],
   "source": [
    "baseline = train.groupby('productid')['UserId'].count().reset_index().sort_values('UserId',ascending=False).head(10)"
   ]
  },
  {
   "cell_type": "code",
   "execution_count": 43,
   "metadata": {},
   "outputs": [],
   "source": [
    "top10 =  baseline['productid'].tolist()"
   ]
  },
  {
   "cell_type": "code",
   "execution_count": 45,
   "metadata": {},
   "outputs": [
    {
     "data": {
      "text/html": [
       "<div>\n",
       "<style scoped>\n",
       "    .dataframe tbody tr th:only-of-type {\n",
       "        vertical-align: middle;\n",
       "    }\n",
       "\n",
       "    .dataframe tbody tr th {\n",
       "        vertical-align: top;\n",
       "    }\n",
       "\n",
       "    .dataframe thead th {\n",
       "        text-align: right;\n",
       "    }\n",
       "</style>\n",
       "<table border=\"1\" class=\"dataframe\">\n",
       "  <thead>\n",
       "    <tr style=\"text-align: right;\">\n",
       "      <th></th>\n",
       "      <th>UserId</th>\n",
       "      <th>productid</th>\n",
       "      <th>Quantity</th>\n",
       "      <th>OrderDate</th>\n",
       "    </tr>\n",
       "  </thead>\n",
       "  <tbody>\n",
       "    <tr>\n",
       "      <th>21155</th>\n",
       "      <td>0</td>\n",
       "      <td>11659624</td>\n",
       "      <td>1</td>\n",
       "      <td>2018-05-16</td>\n",
       "    </tr>\n",
       "    <tr>\n",
       "      <th>100672</th>\n",
       "      <td>1</td>\n",
       "      <td>12406904</td>\n",
       "      <td>1</td>\n",
       "      <td>2018-08-20</td>\n",
       "    </tr>\n",
       "    <tr>\n",
       "      <th>27942</th>\n",
       "      <td>2</td>\n",
       "      <td>11660064</td>\n",
       "      <td>1</td>\n",
       "      <td>2018-05-06</td>\n",
       "    </tr>\n",
       "    <tr>\n",
       "      <th>66578</th>\n",
       "      <td>3</td>\n",
       "      <td>12658228</td>\n",
       "      <td>1</td>\n",
       "      <td>2018-07-14</td>\n",
       "    </tr>\n",
       "    <tr>\n",
       "      <th>66579</th>\n",
       "      <td>3</td>\n",
       "      <td>12360440</td>\n",
       "      <td>1</td>\n",
       "      <td>2018-07-14</td>\n",
       "    </tr>\n",
       "  </tbody>\n",
       "</table>\n",
       "</div>"
      ],
      "text/plain": [
       "        UserId  productid  Quantity  OrderDate\n",
       "21155        0   11659624         1 2018-05-16\n",
       "100672       1   12406904         1 2018-08-20\n",
       "27942        2   11660064         1 2018-05-06\n",
       "66578        3   12658228         1 2018-07-14\n",
       "66579        3   12360440         1 2018-07-14"
      ]
     },
     "execution_count": 45,
     "metadata": {},
     "output_type": "execute_result"
    }
   ],
   "source": [
    "train.head()"
   ]
  },
  {
   "cell_type": "code",
   "execution_count": 46,
   "metadata": {},
   "outputs": [
    {
     "data": {
      "text/html": [
       "<div>\n",
       "<style scoped>\n",
       "    .dataframe tbody tr th:only-of-type {\n",
       "        vertical-align: middle;\n",
       "    }\n",
       "\n",
       "    .dataframe tbody tr th {\n",
       "        vertical-align: top;\n",
       "    }\n",
       "\n",
       "    .dataframe thead th {\n",
       "        text-align: right;\n",
       "    }\n",
       "</style>\n",
       "<table border=\"1\" class=\"dataframe\">\n",
       "  <thead>\n",
       "    <tr style=\"text-align: right;\">\n",
       "      <th></th>\n",
       "      <th>productid</th>\n",
       "      <th>attribute_name</th>\n",
       "      <th>attributevalue</th>\n",
       "    </tr>\n",
       "  </thead>\n",
       "  <tbody>\n",
       "    <tr>\n",
       "      <th>0</th>\n",
       "      <td>11145600</td>\n",
       "      <td>Fit</td>\n",
       "      <td>37</td>\n",
       "    </tr>\n",
       "    <tr>\n",
       "      <th>1</th>\n",
       "      <td>11145600</td>\n",
       "      <td>Sleeve Length</td>\n",
       "      <td>23</td>\n",
       "    </tr>\n",
       "    <tr>\n",
       "      <th>2</th>\n",
       "      <td>11145600</td>\n",
       "      <td>Fabric</td>\n",
       "      <td>16</td>\n",
       "    </tr>\n",
       "    <tr>\n",
       "      <th>3</th>\n",
       "      <td>11145600</td>\n",
       "      <td>Color</td>\n",
       "      <td>25</td>\n",
       "    </tr>\n",
       "    <tr>\n",
       "      <th>4</th>\n",
       "      <td>11145600</td>\n",
       "      <td>Neckline</td>\n",
       "      <td>51</td>\n",
       "    </tr>\n",
       "  </tbody>\n",
       "</table>\n",
       "</div>"
      ],
      "text/plain": [
       "   productid attribute_name  attributevalue\n",
       "0   11145600            Fit              37\n",
       "1   11145600  Sleeve Length              23\n",
       "2   11145600         Fabric              16\n",
       "3   11145600          Color              25\n",
       "4   11145600       Neckline              51"
      ]
     },
     "execution_count": 46,
     "metadata": {},
     "output_type": "execute_result"
    }
   ],
   "source": [
    "product.head()"
   ]
  },
  {
   "cell_type": "code",
   "execution_count": 47,
   "metadata": {},
   "outputs": [],
   "source": [
    "product_wide = product.pivot_table(index='productid',columns='attribute_name',values='attributevalue').reset_index()"
   ]
  },
  {
   "cell_type": "code",
   "execution_count": 49,
   "metadata": {},
   "outputs": [],
   "source": [
    "product_wide = product_wide.merge(image_features_encoded, on='productid')"
   ]
  },
  {
   "cell_type": "code",
   "execution_count": 50,
   "metadata": {},
   "outputs": [
    {
     "data": {
      "text/html": [
       "<div>\n",
       "<style scoped>\n",
       "    .dataframe tbody tr th:only-of-type {\n",
       "        vertical-align: middle;\n",
       "    }\n",
       "\n",
       "    .dataframe tbody tr th {\n",
       "        vertical-align: top;\n",
       "    }\n",
       "\n",
       "    .dataframe thead th {\n",
       "        text-align: right;\n",
       "    }\n",
       "</style>\n",
       "<table border=\"1\" class=\"dataframe\">\n",
       "  <thead>\n",
       "    <tr style=\"text-align: right;\">\n",
       "      <th></th>\n",
       "      <th>productid</th>\n",
       "      <th>Category</th>\n",
       "      <th>Collection</th>\n",
       "      <th>Color</th>\n",
       "      <th>Fabric</th>\n",
       "      <th>Fit</th>\n",
       "      <th>Material</th>\n",
       "      <th>Neckline</th>\n",
       "      <th>Season</th>\n",
       "      <th>Sleeve Length</th>\n",
       "      <th>...</th>\n",
       "      <th>118</th>\n",
       "      <th>119</th>\n",
       "      <th>120</th>\n",
       "      <th>121</th>\n",
       "      <th>122</th>\n",
       "      <th>123</th>\n",
       "      <th>124</th>\n",
       "      <th>125</th>\n",
       "      <th>126</th>\n",
       "      <th>127</th>\n",
       "    </tr>\n",
       "  </thead>\n",
       "  <tbody>\n",
       "    <tr>\n",
       "      <th>0</th>\n",
       "      <td>11139192</td>\n",
       "      <td>1.0</td>\n",
       "      <td>NaN</td>\n",
       "      <td>41.0</td>\n",
       "      <td>2.0</td>\n",
       "      <td>0.0</td>\n",
       "      <td>NaN</td>\n",
       "      <td>NaN</td>\n",
       "      <td>42.0</td>\n",
       "      <td>NaN</td>\n",
       "      <td>...</td>\n",
       "      <td>1.075016</td>\n",
       "      <td>1.476201</td>\n",
       "      <td>0.0</td>\n",
       "      <td>2.180856</td>\n",
       "      <td>0.0</td>\n",
       "      <td>3.394458</td>\n",
       "      <td>2.161554</td>\n",
       "      <td>3.643068</td>\n",
       "      <td>2.731485</td>\n",
       "      <td>1.049194</td>\n",
       "    </tr>\n",
       "    <tr>\n",
       "      <th>1</th>\n",
       "      <td>11139194</td>\n",
       "      <td>1.0</td>\n",
       "      <td>NaN</td>\n",
       "      <td>25.0</td>\n",
       "      <td>2.0</td>\n",
       "      <td>0.0</td>\n",
       "      <td>NaN</td>\n",
       "      <td>NaN</td>\n",
       "      <td>42.0</td>\n",
       "      <td>NaN</td>\n",
       "      <td>...</td>\n",
       "      <td>0.175154</td>\n",
       "      <td>1.513534</td>\n",
       "      <td>0.0</td>\n",
       "      <td>2.223261</td>\n",
       "      <td>0.0</td>\n",
       "      <td>3.359201</td>\n",
       "      <td>2.230452</td>\n",
       "      <td>3.636785</td>\n",
       "      <td>2.677703</td>\n",
       "      <td>1.083144</td>\n",
       "    </tr>\n",
       "    <tr>\n",
       "      <th>2</th>\n",
       "      <td>11139524</td>\n",
       "      <td>1.0</td>\n",
       "      <td>NaN</td>\n",
       "      <td>95.0</td>\n",
       "      <td>16.0</td>\n",
       "      <td>14.0</td>\n",
       "      <td>NaN</td>\n",
       "      <td>4.0</td>\n",
       "      <td>42.0</td>\n",
       "      <td>23.0</td>\n",
       "      <td>...</td>\n",
       "      <td>0.518565</td>\n",
       "      <td>1.421693</td>\n",
       "      <td>0.0</td>\n",
       "      <td>2.245537</td>\n",
       "      <td>0.0</td>\n",
       "      <td>3.374747</td>\n",
       "      <td>2.210591</td>\n",
       "      <td>3.669539</td>\n",
       "      <td>2.646938</td>\n",
       "      <td>1.021845</td>\n",
       "    </tr>\n",
       "    <tr>\n",
       "      <th>3</th>\n",
       "      <td>11139560</td>\n",
       "      <td>1.0</td>\n",
       "      <td>NaN</td>\n",
       "      <td>41.0</td>\n",
       "      <td>2.0</td>\n",
       "      <td>14.0</td>\n",
       "      <td>NaN</td>\n",
       "      <td>4.0</td>\n",
       "      <td>42.0</td>\n",
       "      <td>127.0</td>\n",
       "      <td>...</td>\n",
       "      <td>0.805245</td>\n",
       "      <td>1.590826</td>\n",
       "      <td>0.0</td>\n",
       "      <td>2.233599</td>\n",
       "      <td>0.0</td>\n",
       "      <td>3.412700</td>\n",
       "      <td>2.210208</td>\n",
       "      <td>3.670443</td>\n",
       "      <td>2.660610</td>\n",
       "      <td>1.073322</td>\n",
       "    </tr>\n",
       "    <tr>\n",
       "      <th>4</th>\n",
       "      <td>11139588</td>\n",
       "      <td>1.0</td>\n",
       "      <td>NaN</td>\n",
       "      <td>25.0</td>\n",
       "      <td>58.0</td>\n",
       "      <td>0.0</td>\n",
       "      <td>NaN</td>\n",
       "      <td>NaN</td>\n",
       "      <td>42.0</td>\n",
       "      <td>NaN</td>\n",
       "      <td>...</td>\n",
       "      <td>0.605962</td>\n",
       "      <td>1.017586</td>\n",
       "      <td>0.0</td>\n",
       "      <td>2.307436</td>\n",
       "      <td>0.0</td>\n",
       "      <td>3.290437</td>\n",
       "      <td>2.279670</td>\n",
       "      <td>3.760074</td>\n",
       "      <td>2.466309</td>\n",
       "      <td>0.942672</td>\n",
       "    </tr>\n",
       "  </tbody>\n",
       "</table>\n",
       "<p>5 rows × 138 columns</p>\n",
       "</div>"
      ],
      "text/plain": [
       "   productid  Category  Collection  Color  Fabric   Fit  Material  Neckline  \\\n",
       "0   11139192       1.0         NaN   41.0     2.0   0.0       NaN       NaN   \n",
       "1   11139194       1.0         NaN   25.0     2.0   0.0       NaN       NaN   \n",
       "2   11139524       1.0         NaN   95.0    16.0  14.0       NaN       4.0   \n",
       "3   11139560       1.0         NaN   41.0     2.0  14.0       NaN       4.0   \n",
       "4   11139588       1.0         NaN   25.0    58.0   0.0       NaN       NaN   \n",
       "\n",
       "   Season  Sleeve Length    ...          118       119  120       121  122  \\\n",
       "0    42.0            NaN    ...     1.075016  1.476201  0.0  2.180856  0.0   \n",
       "1    42.0            NaN    ...     0.175154  1.513534  0.0  2.223261  0.0   \n",
       "2    42.0           23.0    ...     0.518565  1.421693  0.0  2.245537  0.0   \n",
       "3    42.0          127.0    ...     0.805245  1.590826  0.0  2.233599  0.0   \n",
       "4    42.0            NaN    ...     0.605962  1.017586  0.0  2.307436  0.0   \n",
       "\n",
       "        123       124       125       126       127  \n",
       "0  3.394458  2.161554  3.643068  2.731485  1.049194  \n",
       "1  3.359201  2.230452  3.636785  2.677703  1.083144  \n",
       "2  3.374747  2.210591  3.669539  2.646938  1.021845  \n",
       "3  3.412700  2.210208  3.670443  2.660610  1.073322  \n",
       "4  3.290437  2.279670  3.760074  2.466309  0.942672  \n",
       "\n",
       "[5 rows x 138 columns]"
      ]
     },
     "execution_count": 50,
     "metadata": {},
     "output_type": "execute_result"
    }
   ],
   "source": [
    "product_wide.head()"
   ]
  },
  {
   "cell_type": "code",
   "execution_count": 51,
   "metadata": {},
   "outputs": [],
   "source": [
    "product_wide = product_wide.merge(product_sold, on= 'productid',how='inner')"
   ]
  },
  {
   "cell_type": "code",
   "execution_count": 52,
   "metadata": {},
   "outputs": [],
   "source": [
    "train_agg = train.groupby(['UserId','productid'])['Quantity'].sum().reset_index()"
   ]
  },
  {
   "cell_type": "code",
   "execution_count": 54,
   "metadata": {},
   "outputs": [
    {
     "data": {
      "text/plain": [
       "(74915, 3)"
      ]
     },
     "execution_count": 54,
     "metadata": {},
     "output_type": "execute_result"
    }
   ],
   "source": [
    "train_agg.shape"
   ]
  },
  {
   "cell_type": "code",
   "execution_count": 55,
   "metadata": {},
   "outputs": [
    {
     "data": {
      "text/html": [
       "<div>\n",
       "<style scoped>\n",
       "    .dataframe tbody tr th:only-of-type {\n",
       "        vertical-align: middle;\n",
       "    }\n",
       "\n",
       "    .dataframe tbody tr th {\n",
       "        vertical-align: top;\n",
       "    }\n",
       "\n",
       "    .dataframe thead th {\n",
       "        text-align: right;\n",
       "    }\n",
       "</style>\n",
       "<table border=\"1\" class=\"dataframe\">\n",
       "  <thead>\n",
       "    <tr style=\"text-align: right;\">\n",
       "      <th></th>\n",
       "      <th>UserId</th>\n",
       "      <th>productid</th>\n",
       "      <th>Quantity</th>\n",
       "    </tr>\n",
       "  </thead>\n",
       "  <tbody>\n",
       "    <tr>\n",
       "      <th>count</th>\n",
       "      <td>74915.000000</td>\n",
       "      <td>7.491500e+04</td>\n",
       "      <td>74915.000000</td>\n",
       "    </tr>\n",
       "    <tr>\n",
       "      <th>mean</th>\n",
       "      <td>14493.035173</td>\n",
       "      <td>1.232877e+07</td>\n",
       "      <td>1.793539</td>\n",
       "    </tr>\n",
       "    <tr>\n",
       "      <th>std</th>\n",
       "      <td>8248.096978</td>\n",
       "      <td>5.583793e+05</td>\n",
       "      <td>4.705072</td>\n",
       "    </tr>\n",
       "    <tr>\n",
       "      <th>min</th>\n",
       "      <td>0.000000</td>\n",
       "      <td>1.113919e+07</td>\n",
       "      <td>1.000000</td>\n",
       "    </tr>\n",
       "    <tr>\n",
       "      <th>25%</th>\n",
       "      <td>7354.500000</td>\n",
       "      <td>1.165994e+07</td>\n",
       "      <td>1.000000</td>\n",
       "    </tr>\n",
       "    <tr>\n",
       "      <th>50%</th>\n",
       "      <td>14580.000000</td>\n",
       "      <td>1.240746e+07</td>\n",
       "      <td>1.000000</td>\n",
       "    </tr>\n",
       "    <tr>\n",
       "      <th>75%</th>\n",
       "      <td>21813.500000</td>\n",
       "      <td>1.265833e+07</td>\n",
       "      <td>1.000000</td>\n",
       "    </tr>\n",
       "    <tr>\n",
       "      <th>max</th>\n",
       "      <td>27777.000000</td>\n",
       "      <td>1.412948e+07</td>\n",
       "      <td>275.000000</td>\n",
       "    </tr>\n",
       "  </tbody>\n",
       "</table>\n",
       "</div>"
      ],
      "text/plain": [
       "             UserId     productid      Quantity\n",
       "count  74915.000000  7.491500e+04  74915.000000\n",
       "mean   14493.035173  1.232877e+07      1.793539\n",
       "std     8248.096978  5.583793e+05      4.705072\n",
       "min        0.000000  1.113919e+07      1.000000\n",
       "25%     7354.500000  1.165994e+07      1.000000\n",
       "50%    14580.000000  1.240746e+07      1.000000\n",
       "75%    21813.500000  1.265833e+07      1.000000\n",
       "max    27777.000000  1.412948e+07    275.000000"
      ]
     },
     "execution_count": 55,
     "metadata": {},
     "output_type": "execute_result"
    }
   ],
   "source": [
    "train_agg.describe()"
   ]
  },
  {
   "cell_type": "code",
   "execution_count": 56,
   "metadata": {},
   "outputs": [
    {
     "data": {
      "text/html": [
       "<div>\n",
       "<style scoped>\n",
       "    .dataframe tbody tr th:only-of-type {\n",
       "        vertical-align: middle;\n",
       "    }\n",
       "\n",
       "    .dataframe tbody tr th {\n",
       "        vertical-align: top;\n",
       "    }\n",
       "\n",
       "    .dataframe thead th {\n",
       "        text-align: right;\n",
       "    }\n",
       "</style>\n",
       "<table border=\"1\" class=\"dataframe\">\n",
       "  <thead>\n",
       "    <tr style=\"text-align: right;\">\n",
       "      <th></th>\n",
       "      <th>UserId</th>\n",
       "      <th>productid</th>\n",
       "      <th>Quantity</th>\n",
       "    </tr>\n",
       "  </thead>\n",
       "  <tbody>\n",
       "    <tr>\n",
       "      <th>0</th>\n",
       "      <td>0</td>\n",
       "      <td>11659624</td>\n",
       "      <td>1</td>\n",
       "    </tr>\n",
       "    <tr>\n",
       "      <th>1</th>\n",
       "      <td>1</td>\n",
       "      <td>12406904</td>\n",
       "      <td>1</td>\n",
       "    </tr>\n",
       "    <tr>\n",
       "      <th>2</th>\n",
       "      <td>2</td>\n",
       "      <td>11660064</td>\n",
       "      <td>1</td>\n",
       "    </tr>\n",
       "    <tr>\n",
       "      <th>3</th>\n",
       "      <td>3</td>\n",
       "      <td>12360440</td>\n",
       "      <td>3</td>\n",
       "    </tr>\n",
       "    <tr>\n",
       "      <th>4</th>\n",
       "      <td>3</td>\n",
       "      <td>12371354</td>\n",
       "      <td>3</td>\n",
       "    </tr>\n",
       "  </tbody>\n",
       "</table>\n",
       "</div>"
      ],
      "text/plain": [
       "   UserId  productid  Quantity\n",
       "0       0   11659624         1\n",
       "1       1   12406904         1\n",
       "2       2   11660064         1\n",
       "3       3   12360440         3\n",
       "4       3   12371354         3"
      ]
     },
     "execution_count": 56,
     "metadata": {},
     "output_type": "execute_result"
    }
   ],
   "source": [
    "train_agg.head()"
   ]
  },
  {
   "cell_type": "code",
   "execution_count": 57,
   "metadata": {},
   "outputs": [
    {
     "data": {
      "text/html": [
       "<div>\n",
       "<style scoped>\n",
       "    .dataframe tbody tr th:only-of-type {\n",
       "        vertical-align: middle;\n",
       "    }\n",
       "\n",
       "    .dataframe tbody tr th {\n",
       "        vertical-align: top;\n",
       "    }\n",
       "\n",
       "    .dataframe thead th {\n",
       "        text-align: right;\n",
       "    }\n",
       "</style>\n",
       "<table border=\"1\" class=\"dataframe\">\n",
       "  <thead>\n",
       "    <tr style=\"text-align: right;\">\n",
       "      <th></th>\n",
       "      <th>productid</th>\n",
       "      <th>Category</th>\n",
       "      <th>Collection</th>\n",
       "      <th>Color</th>\n",
       "      <th>Fabric</th>\n",
       "      <th>Fit</th>\n",
       "      <th>Material</th>\n",
       "      <th>Neckline</th>\n",
       "      <th>Season</th>\n",
       "      <th>Sleeve Length</th>\n",
       "      <th>...</th>\n",
       "      <th>119</th>\n",
       "      <th>120</th>\n",
       "      <th>121</th>\n",
       "      <th>122</th>\n",
       "      <th>123</th>\n",
       "      <th>124</th>\n",
       "      <th>125</th>\n",
       "      <th>126</th>\n",
       "      <th>127</th>\n",
       "      <th>weight</th>\n",
       "    </tr>\n",
       "  </thead>\n",
       "  <tbody>\n",
       "    <tr>\n",
       "      <th>0</th>\n",
       "      <td>11139192</td>\n",
       "      <td>1.0</td>\n",
       "      <td>NaN</td>\n",
       "      <td>41.0</td>\n",
       "      <td>2.0</td>\n",
       "      <td>0.0</td>\n",
       "      <td>NaN</td>\n",
       "      <td>NaN</td>\n",
       "      <td>42.0</td>\n",
       "      <td>NaN</td>\n",
       "      <td>...</td>\n",
       "      <td>1.476201</td>\n",
       "      <td>0.0</td>\n",
       "      <td>2.180856</td>\n",
       "      <td>0.0</td>\n",
       "      <td>3.394458</td>\n",
       "      <td>2.161554</td>\n",
       "      <td>3.643068</td>\n",
       "      <td>2.731485</td>\n",
       "      <td>1.049194</td>\n",
       "      <td>0.000186</td>\n",
       "    </tr>\n",
       "    <tr>\n",
       "      <th>1</th>\n",
       "      <td>11139194</td>\n",
       "      <td>1.0</td>\n",
       "      <td>NaN</td>\n",
       "      <td>25.0</td>\n",
       "      <td>2.0</td>\n",
       "      <td>0.0</td>\n",
       "      <td>NaN</td>\n",
       "      <td>NaN</td>\n",
       "      <td>42.0</td>\n",
       "      <td>NaN</td>\n",
       "      <td>...</td>\n",
       "      <td>1.513534</td>\n",
       "      <td>0.0</td>\n",
       "      <td>2.223261</td>\n",
       "      <td>0.0</td>\n",
       "      <td>3.359201</td>\n",
       "      <td>2.230452</td>\n",
       "      <td>3.636785</td>\n",
       "      <td>2.677703</td>\n",
       "      <td>1.083144</td>\n",
       "      <td>0.000186</td>\n",
       "    </tr>\n",
       "    <tr>\n",
       "      <th>2</th>\n",
       "      <td>11139524</td>\n",
       "      <td>1.0</td>\n",
       "      <td>NaN</td>\n",
       "      <td>95.0</td>\n",
       "      <td>16.0</td>\n",
       "      <td>14.0</td>\n",
       "      <td>NaN</td>\n",
       "      <td>4.0</td>\n",
       "      <td>42.0</td>\n",
       "      <td>23.0</td>\n",
       "      <td>...</td>\n",
       "      <td>1.421693</td>\n",
       "      <td>0.0</td>\n",
       "      <td>2.245537</td>\n",
       "      <td>0.0</td>\n",
       "      <td>3.374747</td>\n",
       "      <td>2.210591</td>\n",
       "      <td>3.669539</td>\n",
       "      <td>2.646938</td>\n",
       "      <td>1.021845</td>\n",
       "      <td>0.000804</td>\n",
       "    </tr>\n",
       "    <tr>\n",
       "      <th>3</th>\n",
       "      <td>11139560</td>\n",
       "      <td>1.0</td>\n",
       "      <td>NaN</td>\n",
       "      <td>41.0</td>\n",
       "      <td>2.0</td>\n",
       "      <td>14.0</td>\n",
       "      <td>NaN</td>\n",
       "      <td>4.0</td>\n",
       "      <td>42.0</td>\n",
       "      <td>127.0</td>\n",
       "      <td>...</td>\n",
       "      <td>1.590826</td>\n",
       "      <td>0.0</td>\n",
       "      <td>2.233599</td>\n",
       "      <td>0.0</td>\n",
       "      <td>3.412700</td>\n",
       "      <td>2.210208</td>\n",
       "      <td>3.670443</td>\n",
       "      <td>2.660610</td>\n",
       "      <td>1.073322</td>\n",
       "      <td>0.000074</td>\n",
       "    </tr>\n",
       "    <tr>\n",
       "      <th>4</th>\n",
       "      <td>11139588</td>\n",
       "      <td>1.0</td>\n",
       "      <td>NaN</td>\n",
       "      <td>25.0</td>\n",
       "      <td>58.0</td>\n",
       "      <td>0.0</td>\n",
       "      <td>NaN</td>\n",
       "      <td>NaN</td>\n",
       "      <td>42.0</td>\n",
       "      <td>NaN</td>\n",
       "      <td>...</td>\n",
       "      <td>1.017586</td>\n",
       "      <td>0.0</td>\n",
       "      <td>2.307436</td>\n",
       "      <td>0.0</td>\n",
       "      <td>3.290437</td>\n",
       "      <td>2.279670</td>\n",
       "      <td>3.760074</td>\n",
       "      <td>2.466309</td>\n",
       "      <td>0.942672</td>\n",
       "      <td>0.000022</td>\n",
       "    </tr>\n",
       "  </tbody>\n",
       "</table>\n",
       "<p>5 rows × 139 columns</p>\n",
       "</div>"
      ],
      "text/plain": [
       "   productid  Category  Collection  Color  Fabric   Fit  Material  Neckline  \\\n",
       "0   11139192       1.0         NaN   41.0     2.0   0.0       NaN       NaN   \n",
       "1   11139194       1.0         NaN   25.0     2.0   0.0       NaN       NaN   \n",
       "2   11139524       1.0         NaN   95.0    16.0  14.0       NaN       4.0   \n",
       "3   11139560       1.0         NaN   41.0     2.0  14.0       NaN       4.0   \n",
       "4   11139588       1.0         NaN   25.0    58.0   0.0       NaN       NaN   \n",
       "\n",
       "   Season  Sleeve Length    ...          119  120       121  122       123  \\\n",
       "0    42.0            NaN    ...     1.476201  0.0  2.180856  0.0  3.394458   \n",
       "1    42.0            NaN    ...     1.513534  0.0  2.223261  0.0  3.359201   \n",
       "2    42.0           23.0    ...     1.421693  0.0  2.245537  0.0  3.374747   \n",
       "3    42.0          127.0    ...     1.590826  0.0  2.233599  0.0  3.412700   \n",
       "4    42.0            NaN    ...     1.017586  0.0  2.307436  0.0  3.290437   \n",
       "\n",
       "        124       125       126       127    weight  \n",
       "0  2.161554  3.643068  2.731485  1.049194  0.000186  \n",
       "1  2.230452  3.636785  2.677703  1.083144  0.000186  \n",
       "2  2.210591  3.669539  2.646938  1.021845  0.000804  \n",
       "3  2.210208  3.670443  2.660610  1.073322  0.000074  \n",
       "4  2.279670  3.760074  2.466309  0.942672  0.000022  \n",
       "\n",
       "[5 rows x 139 columns]"
      ]
     },
     "execution_count": 57,
     "metadata": {},
     "output_type": "execute_result"
    }
   ],
   "source": [
    "product_wide.head()"
   ]
  },
  {
   "cell_type": "code",
   "execution_count": 58,
   "metadata": {},
   "outputs": [],
   "source": [
    "final_train = train_agg.merge(product_wide, on='productid', how='left').fillna(-1)"
   ]
  },
  {
   "cell_type": "code",
   "execution_count": 60,
   "metadata": {},
   "outputs": [
    {
     "name": "stdout",
     "output_type": "stream",
     "text": [
      "UserId 27778\n",
      "productid 3026\n",
      "Quantity 108\n",
      "Category 6\n",
      "Collection 22\n",
      "Color 134\n",
      "Fabric 35\n",
      "Fit 8\n",
      "Material 5\n",
      "Neckline 14\n",
      "Season 9\n",
      "Sleeve Length 16\n",
      "0 2487\n",
      "1 61\n",
      "2 2990\n",
      "3 3001\n",
      "4 2997\n",
      "5 3002\n",
      "6 2651\n",
      "7 3002\n",
      "8 2937\n",
      "9 1074\n",
      "10 2990\n",
      "11 3002\n",
      "12 3002\n",
      "13 3000\n",
      "14 3001\n",
      "15 2999\n",
      "16 2838\n",
      "17 554\n",
      "18 3001\n",
      "19 3000\n",
      "20 2999\n",
      "21 3001\n",
      "22 2935\n",
      "23 2930\n",
      "24 2990\n",
      "25 240\n",
      "26 214\n",
      "27 2824\n",
      "28 2839\n",
      "29 2999\n",
      "30 2953\n",
      "31 2843\n",
      "32 313\n",
      "33 98\n",
      "34 2950\n",
      "35 3001\n",
      "36 3001\n",
      "37 3001\n",
      "38 3002\n",
      "39 3001\n",
      "40 1171\n",
      "41 958\n",
      "42 1040\n",
      "43 2890\n",
      "44 3001\n",
      "45 3000\n",
      "46 3002\n",
      "47 3000\n",
      "48 369\n",
      "49 386\n",
      "50 2066\n",
      "51 2996\n",
      "52 2978\n",
      "53 3002\n",
      "54 2662\n",
      "55 2006\n",
      "56 1547\n",
      "57 291\n",
      "58 163\n",
      "59 2819\n",
      "60 2851\n",
      "61 3002\n",
      "62 2956\n",
      "63 2835\n",
      "64 382\n",
      "65 164\n",
      "66 2877\n",
      "67 2995\n",
      "68 3001\n",
      "69 3001\n",
      "70 3002\n",
      "71 3001\n",
      "72 1547\n",
      "73 726\n",
      "74 1316\n",
      "75 2841\n",
      "76 3001\n",
      "77 3001\n",
      "78 3002\n",
      "79 2988\n",
      "80 830\n",
      "81 361\n",
      "82 1896\n",
      "83 2955\n",
      "84 2986\n",
      "85 3001\n",
      "86 2565\n",
      "87 2131\n",
      "88 1197\n",
      "89 311\n",
      "90 193\n",
      "91 2806\n",
      "92 2911\n",
      "93 2999\n",
      "94 2941\n",
      "95 2873\n",
      "96 152\n",
      "97 1869\n",
      "98 2401\n",
      "99 2926\n",
      "100 2992\n",
      "101 3000\n",
      "102 3001\n",
      "103 3002\n",
      "104 409\n",
      "105 2724\n",
      "106 452\n",
      "107 2875\n",
      "108 2978\n",
      "109 2999\n",
      "110 3000\n",
      "111 2990\n",
      "112 281\n",
      "113 1724\n",
      "114 492\n",
      "115 2927\n",
      "116 2875\n",
      "117 2999\n",
      "118 2704\n",
      "119 2999\n",
      "120 165\n",
      "121 2997\n",
      "122 48\n",
      "123 2819\n",
      "124 2872\n",
      "125 2997\n",
      "126 2988\n",
      "127 2867\n",
      "weight 240\n"
     ]
    }
   ],
   "source": [
    "#for i in final_train.columns:\n",
    " #   print(i,final_train[i].nunique())"
   ]
  },
  {
   "cell_type": "code",
   "execution_count": 61,
   "metadata": {},
   "outputs": [],
   "source": [
    "final_train = pd.get_dummies(final_train,columns = ['Category','Fit','Material','Season','Collection'])"
   ]
  },
  {
   "cell_type": "code",
   "execution_count": 62,
   "metadata": {},
   "outputs": [],
   "source": [
    "final_user_mean = final_train.groupby('UserId').mean().reset_index()\n"
   ]
  },
  {
   "cell_type": "code",
   "execution_count": 63,
   "metadata": {},
   "outputs": [],
   "source": [
    "final_user_mean = final_user_mean.drop('productid',axis=1)"
   ]
  },
  {
   "cell_type": "code",
   "execution_count": 65,
   "metadata": {},
   "outputs": [],
   "source": [
    "final_user_mean = final_user_mean.merge(user_days, on ='UserId', how ='inner')"
   ]
  },
  {
   "cell_type": "code",
   "execution_count": null,
   "metadata": {},
   "outputs": [],
   "source": [
    "final_user_mean.head()"
   ]
  },
  {
   "cell_type": "code",
   "execution_count": 67,
   "metadata": {},
   "outputs": [],
   "source": [
    "scaler = StandardScaler()  "
   ]
  },
  {
   "cell_type": "code",
   "execution_count": 69,
   "metadata": {},
   "outputs": [
    {
     "data": {
      "text/plain": [
       "(27778, 187)"
      ]
     },
     "execution_count": 69,
     "metadata": {},
     "output_type": "execute_result"
    }
   ],
   "source": [
    "final_user_mean.shape"
   ]
  },
  {
   "cell_type": "code",
   "execution_count": 136,
   "metadata": {},
   "outputs": [
    {
     "name": "stderr",
     "output_type": "stream",
     "text": [
      "/anaconda3/lib/python3.7/site-packages/sklearn/preprocessing/data.py:617: DataConversionWarning: Data with input dtype float32, int64, float64 were all converted to float64 by StandardScaler.\n",
      "  return self.partial_fit(X, y)\n",
      "/anaconda3/lib/python3.7/site-packages/sklearn/base.py:462: DataConversionWarning: Data with input dtype float32, int64, float64 were all converted to float64 by StandardScaler.\n",
      "  return self.fit(X, **fit_params).transform(X)\n"
     ]
    }
   ],
   "source": [
    "nbrs = NearestNeighbors(n_neighbors=17, algorithm='auto',metric='cosine').fit(scaler.fit_transform(final_user_mean.iloc[:,1:]))\n"
   ]
  },
  {
   "cell_type": "code",
   "execution_count": 137,
   "metadata": {},
   "outputs": [
    {
     "name": "stderr",
     "output_type": "stream",
     "text": [
      "/anaconda3/lib/python3.7/site-packages/sklearn/preprocessing/data.py:617: DataConversionWarning: Data with input dtype float32, int64, float64 were all converted to float64 by StandardScaler.\n",
      "  return self.partial_fit(X, y)\n",
      "/anaconda3/lib/python3.7/site-packages/sklearn/base.py:462: DataConversionWarning: Data with input dtype float32, int64, float64 were all converted to float64 by StandardScaler.\n",
      "  return self.fit(X, **fit_params).transform(X)\n"
     ]
    }
   ],
   "source": [
    "distances, indices = nbrs.kneighbors(scaler.fit_transform(final_user_mean.iloc[:,1:]))"
   ]
  },
  {
   "cell_type": "code",
   "execution_count": 139,
   "metadata": {},
   "outputs": [
    {
     "data": {
      "text/plain": [
       "(27778, 17)"
      ]
     },
     "execution_count": 139,
     "metadata": {},
     "output_type": "execute_result"
    }
   ],
   "source": [
    "indices.shape"
   ]
  },
  {
   "cell_type": "code",
   "execution_count": 140,
   "metadata": {},
   "outputs": [],
   "source": [
    "nearest_n = pd.DataFrame(indices)"
   ]
  },
  {
   "cell_type": "code",
   "execution_count": 141,
   "metadata": {},
   "outputs": [],
   "source": [
    "nearest_n['UserId'] = nearest_n.index"
   ]
  },
  {
   "cell_type": "code",
   "execution_count": 142,
   "metadata": {},
   "outputs": [
    {
     "data": {
      "text/html": [
       "<div>\n",
       "<style scoped>\n",
       "    .dataframe tbody tr th:only-of-type {\n",
       "        vertical-align: middle;\n",
       "    }\n",
       "\n",
       "    .dataframe tbody tr th {\n",
       "        vertical-align: top;\n",
       "    }\n",
       "\n",
       "    .dataframe thead th {\n",
       "        text-align: right;\n",
       "    }\n",
       "</style>\n",
       "<table border=\"1\" class=\"dataframe\">\n",
       "  <thead>\n",
       "    <tr style=\"text-align: right;\">\n",
       "      <th></th>\n",
       "      <th>0</th>\n",
       "      <th>1</th>\n",
       "      <th>2</th>\n",
       "      <th>3</th>\n",
       "      <th>4</th>\n",
       "      <th>5</th>\n",
       "      <th>6</th>\n",
       "      <th>7</th>\n",
       "      <th>8</th>\n",
       "      <th>9</th>\n",
       "      <th>10</th>\n",
       "      <th>11</th>\n",
       "      <th>12</th>\n",
       "      <th>13</th>\n",
       "      <th>14</th>\n",
       "      <th>15</th>\n",
       "      <th>16</th>\n",
       "      <th>UserId</th>\n",
       "    </tr>\n",
       "  </thead>\n",
       "  <tbody>\n",
       "    <tr>\n",
       "      <th>0</th>\n",
       "      <td>21502</td>\n",
       "      <td>3382</td>\n",
       "      <td>23480</td>\n",
       "      <td>27460</td>\n",
       "      <td>4599</td>\n",
       "      <td>10809</td>\n",
       "      <td>18810</td>\n",
       "      <td>22549</td>\n",
       "      <td>21339</td>\n",
       "      <td>26712</td>\n",
       "      <td>1015</td>\n",
       "      <td>11931</td>\n",
       "      <td>26951</td>\n",
       "      <td>8474</td>\n",
       "      <td>21695</td>\n",
       "      <td>253</td>\n",
       "      <td>0</td>\n",
       "      <td>0</td>\n",
       "    </tr>\n",
       "    <tr>\n",
       "      <th>1</th>\n",
       "      <td>10928</td>\n",
       "      <td>11667</td>\n",
       "      <td>2714</td>\n",
       "      <td>2223</td>\n",
       "      <td>8830</td>\n",
       "      <td>10594</td>\n",
       "      <td>1</td>\n",
       "      <td>20206</td>\n",
       "      <td>11825</td>\n",
       "      <td>2351</td>\n",
       "      <td>4647</td>\n",
       "      <td>14689</td>\n",
       "      <td>13085</td>\n",
       "      <td>12710</td>\n",
       "      <td>2868</td>\n",
       "      <td>21817</td>\n",
       "      <td>26254</td>\n",
       "      <td>1</td>\n",
       "    </tr>\n",
       "    <tr>\n",
       "      <th>2</th>\n",
       "      <td>5577</td>\n",
       "      <td>2</td>\n",
       "      <td>12420</td>\n",
       "      <td>13554</td>\n",
       "      <td>14575</td>\n",
       "      <td>10630</td>\n",
       "      <td>2819</td>\n",
       "      <td>17556</td>\n",
       "      <td>27499</td>\n",
       "      <td>7661</td>\n",
       "      <td>3057</td>\n",
       "      <td>16608</td>\n",
       "      <td>7181</td>\n",
       "      <td>21067</td>\n",
       "      <td>18243</td>\n",
       "      <td>12179</td>\n",
       "      <td>668</td>\n",
       "      <td>2</td>\n",
       "    </tr>\n",
       "    <tr>\n",
       "      <th>3</th>\n",
       "      <td>3</td>\n",
       "      <td>12335</td>\n",
       "      <td>25390</td>\n",
       "      <td>18632</td>\n",
       "      <td>19459</td>\n",
       "      <td>9129</td>\n",
       "      <td>18128</td>\n",
       "      <td>768</td>\n",
       "      <td>22551</td>\n",
       "      <td>24466</td>\n",
       "      <td>21421</td>\n",
       "      <td>1978</td>\n",
       "      <td>23438</td>\n",
       "      <td>25231</td>\n",
       "      <td>11691</td>\n",
       "      <td>4455</td>\n",
       "      <td>22510</td>\n",
       "      <td>3</td>\n",
       "    </tr>\n",
       "    <tr>\n",
       "      <th>4</th>\n",
       "      <td>4</td>\n",
       "      <td>12231</td>\n",
       "      <td>19833</td>\n",
       "      <td>25383</td>\n",
       "      <td>21569</td>\n",
       "      <td>17326</td>\n",
       "      <td>11777</td>\n",
       "      <td>7796</td>\n",
       "      <td>10560</td>\n",
       "      <td>1707</td>\n",
       "      <td>12466</td>\n",
       "      <td>12072</td>\n",
       "      <td>10132</td>\n",
       "      <td>15783</td>\n",
       "      <td>19895</td>\n",
       "      <td>26545</td>\n",
       "      <td>559</td>\n",
       "      <td>4</td>\n",
       "    </tr>\n",
       "  </tbody>\n",
       "</table>\n",
       "</div>"
      ],
      "text/plain": [
       "       0      1      2      3      4      5      6      7      8      9  \\\n",
       "0  21502   3382  23480  27460   4599  10809  18810  22549  21339  26712   \n",
       "1  10928  11667   2714   2223   8830  10594      1  20206  11825   2351   \n",
       "2   5577      2  12420  13554  14575  10630   2819  17556  27499   7661   \n",
       "3      3  12335  25390  18632  19459   9129  18128    768  22551  24466   \n",
       "4      4  12231  19833  25383  21569  17326  11777   7796  10560   1707   \n",
       "\n",
       "      10     11     12     13     14     15     16  UserId  \n",
       "0   1015  11931  26951   8474  21695    253      0       0  \n",
       "1   4647  14689  13085  12710   2868  21817  26254       1  \n",
       "2   3057  16608   7181  21067  18243  12179    668       2  \n",
       "3  21421   1978  23438  25231  11691   4455  22510       3  \n",
       "4  12466  12072  10132  15783  19895  26545    559       4  "
      ]
     },
     "execution_count": 142,
     "metadata": {},
     "output_type": "execute_result"
    }
   ],
   "source": [
    "nearest_n.head()"
   ]
  },
  {
   "cell_type": "code",
   "execution_count": 143,
   "metadata": {},
   "outputs": [],
   "source": [
    "nearest_n_long = nearest_n.melt(id_vars='UserId').sort_values(['UserId','variable'])"
   ]
  },
  {
   "cell_type": "code",
   "execution_count": 144,
   "metadata": {},
   "outputs": [],
   "source": [
    "final_merged = nearest_n_long.merge(train_agg,left_on=['value'], right_on='UserId').sort_values(['UserId_x','variable'])\n",
    "\n"
   ]
  },
  {
   "cell_type": "code",
   "execution_count": 145,
   "metadata": {},
   "outputs": [
    {
     "data": {
      "text/plain": [
       "[12658512,\n",
       " 12407154,\n",
       " 12407730,\n",
       " 12371378,\n",
       " 11659624,\n",
       " 12407400,\n",
       " 12406904,\n",
       " 12407742,\n",
       " 12407398,\n",
       " 12360424]"
      ]
     },
     "execution_count": 145,
     "metadata": {},
     "output_type": "execute_result"
    }
   ],
   "source": [
    "top10"
   ]
  },
  {
   "cell_type": "code",
   "execution_count": 146,
   "metadata": {},
   "outputs": [
    {
     "data": {
      "text/html": [
       "<div>\n",
       "<style scoped>\n",
       "    .dataframe tbody tr th:only-of-type {\n",
       "        vertical-align: middle;\n",
       "    }\n",
       "\n",
       "    .dataframe tbody tr th {\n",
       "        vertical-align: top;\n",
       "    }\n",
       "\n",
       "    .dataframe thead th {\n",
       "        text-align: right;\n",
       "    }\n",
       "</style>\n",
       "<table border=\"1\" class=\"dataframe\">\n",
       "  <thead>\n",
       "    <tr style=\"text-align: right;\">\n",
       "      <th></th>\n",
       "      <th>UserId_x</th>\n",
       "      <th>variable</th>\n",
       "      <th>value</th>\n",
       "      <th>UserId_y</th>\n",
       "      <th>productid</th>\n",
       "      <th>Quantity</th>\n",
       "    </tr>\n",
       "  </thead>\n",
       "  <tbody>\n",
       "    <tr>\n",
       "      <th>0</th>\n",
       "      <td>0</td>\n",
       "      <td>0</td>\n",
       "      <td>21502</td>\n",
       "      <td>21502</td>\n",
       "      <td>11659624</td>\n",
       "      <td>1</td>\n",
       "    </tr>\n",
       "    <tr>\n",
       "      <th>42</th>\n",
       "      <td>0</td>\n",
       "      <td>1</td>\n",
       "      <td>3382</td>\n",
       "      <td>3382</td>\n",
       "      <td>11659624</td>\n",
       "      <td>1</td>\n",
       "    </tr>\n",
       "    <tr>\n",
       "      <th>82</th>\n",
       "      <td>0</td>\n",
       "      <td>2</td>\n",
       "      <td>23480</td>\n",
       "      <td>23480</td>\n",
       "      <td>11659624</td>\n",
       "      <td>1</td>\n",
       "    </tr>\n",
       "    <tr>\n",
       "      <th>123</th>\n",
       "      <td>0</td>\n",
       "      <td>3</td>\n",
       "      <td>27460</td>\n",
       "      <td>27460</td>\n",
       "      <td>11659624</td>\n",
       "      <td>1</td>\n",
       "    </tr>\n",
       "    <tr>\n",
       "      <th>164</th>\n",
       "      <td>0</td>\n",
       "      <td>4</td>\n",
       "      <td>4599</td>\n",
       "      <td>4599</td>\n",
       "      <td>11659624</td>\n",
       "      <td>1</td>\n",
       "    </tr>\n",
       "  </tbody>\n",
       "</table>\n",
       "</div>"
      ],
      "text/plain": [
       "     UserId_x variable  value  UserId_y  productid  Quantity\n",
       "0           0        0  21502     21502   11659624         1\n",
       "42          0        1   3382      3382   11659624         1\n",
       "82          0        2  23480     23480   11659624         1\n",
       "123         0        3  27460     27460   11659624         1\n",
       "164         0        4   4599      4599   11659624         1"
      ]
     },
     "execution_count": 146,
     "metadata": {},
     "output_type": "execute_result"
    }
   ],
   "source": [
    "final_merged.head()"
   ]
  },
  {
   "cell_type": "code",
   "execution_count": 147,
   "metadata": {},
   "outputs": [],
   "source": [
    "final_pred = final_merged.groupby('UserId_x')['productid'].unique().reset_index()"
   ]
  },
  {
   "cell_type": "code",
   "execution_count": 148,
   "metadata": {},
   "outputs": [
    {
     "data": {
      "text/html": [
       "<div>\n",
       "<style scoped>\n",
       "    .dataframe tbody tr th:only-of-type {\n",
       "        vertical-align: middle;\n",
       "    }\n",
       "\n",
       "    .dataframe tbody tr th {\n",
       "        vertical-align: top;\n",
       "    }\n",
       "\n",
       "    .dataframe thead th {\n",
       "        text-align: right;\n",
       "    }\n",
       "</style>\n",
       "<table border=\"1\" class=\"dataframe\">\n",
       "  <thead>\n",
       "    <tr style=\"text-align: right;\">\n",
       "      <th></th>\n",
       "      <th>UserId_x</th>\n",
       "      <th>productid</th>\n",
       "    </tr>\n",
       "  </thead>\n",
       "  <tbody>\n",
       "    <tr>\n",
       "      <th>0</th>\n",
       "      <td>0</td>\n",
       "      <td>[11659624]</td>\n",
       "    </tr>\n",
       "    <tr>\n",
       "      <th>1</th>\n",
       "      <td>1</td>\n",
       "      <td>[12406904]</td>\n",
       "    </tr>\n",
       "    <tr>\n",
       "      <th>2</th>\n",
       "      <td>2</td>\n",
       "      <td>[11660064, 12407198, 11714456, 11481104]</td>\n",
       "    </tr>\n",
       "    <tr>\n",
       "      <th>3</th>\n",
       "      <td>3</td>\n",
       "      <td>[12360440, 12371354, 12407298, 12407522, 12407...</td>\n",
       "    </tr>\n",
       "    <tr>\n",
       "      <th>4</th>\n",
       "      <td>4</td>\n",
       "      <td>[11659934, 12437468, 12407010, 12437314, 12436...</td>\n",
       "    </tr>\n",
       "  </tbody>\n",
       "</table>\n",
       "</div>"
      ],
      "text/plain": [
       "   UserId_x                                          productid\n",
       "0         0                                         [11659624]\n",
       "1         1                                         [12406904]\n",
       "2         2           [11660064, 12407198, 11714456, 11481104]\n",
       "3         3  [12360440, 12371354, 12407298, 12407522, 12407...\n",
       "4         4  [11659934, 12437468, 12407010, 12437314, 12436..."
      ]
     },
     "execution_count": 148,
     "metadata": {},
     "output_type": "execute_result"
    }
   ],
   "source": [
    "final_pred.head()"
   ]
  },
  {
   "cell_type": "code",
   "execution_count": 149,
   "metadata": {},
   "outputs": [
    {
     "data": {
      "text/plain": [
       "[12658512, 12407154]"
      ]
     },
     "execution_count": 149,
     "metadata": {},
     "output_type": "execute_result"
    }
   ],
   "source": [
    "top10[:2]\n",
    "     "
   ]
  },
  {
   "cell_type": "code",
   "execution_count": 150,
   "metadata": {},
   "outputs": [],
   "source": [
    "# add top10 most bought products for users haveing less than 10 recommendations\n",
    "def append_list(row):\n",
    "    ct=0\n",
    "    row = list(row)\n",
    "    if len(row) < 10:\n",
    "        while(len(row)<10):\n",
    "            row.append(top10[ct])\n",
    "            ct = ct + 1\n",
    "        return row\n",
    "    else:\n",
    "        return row[:10]"
   ]
  },
  {
   "cell_type": "code",
   "execution_count": 151,
   "metadata": {},
   "outputs": [],
   "source": [
    "final_pred['productid'] = final_pred['productid'].apply(append_list)"
   ]
  },
  {
   "cell_type": "code",
   "execution_count": 152,
   "metadata": {},
   "outputs": [
    {
     "data": {
      "text/html": [
       "<div>\n",
       "<style scoped>\n",
       "    .dataframe tbody tr th:only-of-type {\n",
       "        vertical-align: middle;\n",
       "    }\n",
       "\n",
       "    .dataframe tbody tr th {\n",
       "        vertical-align: top;\n",
       "    }\n",
       "\n",
       "    .dataframe thead th {\n",
       "        text-align: right;\n",
       "    }\n",
       "</style>\n",
       "<table border=\"1\" class=\"dataframe\">\n",
       "  <thead>\n",
       "    <tr style=\"text-align: right;\">\n",
       "      <th></th>\n",
       "      <th>UserId_x</th>\n",
       "      <th>productid</th>\n",
       "    </tr>\n",
       "  </thead>\n",
       "  <tbody>\n",
       "    <tr>\n",
       "      <th>0</th>\n",
       "      <td>0</td>\n",
       "      <td>[11659624, 12658512, 12407154, 12407730, 12371...</td>\n",
       "    </tr>\n",
       "    <tr>\n",
       "      <th>1</th>\n",
       "      <td>1</td>\n",
       "      <td>[12406904, 12658512, 12407154, 12407730, 12371...</td>\n",
       "    </tr>\n",
       "    <tr>\n",
       "      <th>2</th>\n",
       "      <td>2</td>\n",
       "      <td>[11660064, 12407198, 11714456, 11481104, 12658...</td>\n",
       "    </tr>\n",
       "    <tr>\n",
       "      <th>3</th>\n",
       "      <td>3</td>\n",
       "      <td>[12360440, 12371354, 12407298, 12407522, 12407...</td>\n",
       "    </tr>\n",
       "    <tr>\n",
       "      <th>4</th>\n",
       "      <td>4</td>\n",
       "      <td>[11659934, 12437468, 12407010, 12437314, 12436...</td>\n",
       "    </tr>\n",
       "  </tbody>\n",
       "</table>\n",
       "</div>"
      ],
      "text/plain": [
       "   UserId_x                                          productid\n",
       "0         0  [11659624, 12658512, 12407154, 12407730, 12371...\n",
       "1         1  [12406904, 12658512, 12407154, 12407730, 12371...\n",
       "2         2  [11660064, 12407198, 11714456, 11481104, 12658...\n",
       "3         3  [12360440, 12371354, 12407298, 12407522, 12407...\n",
       "4         4  [11659934, 12437468, 12407010, 12437314, 12436..."
      ]
     },
     "execution_count": 152,
     "metadata": {},
     "output_type": "execute_result"
    }
   ],
   "source": [
    "final_pred.head()"
   ]
  },
  {
   "cell_type": "code",
   "execution_count": 154,
   "metadata": {},
   "outputs": [],
   "source": [
    "final_pred = final_pred.rename({'UserId_x':'UserId','productid':'product_list'},axis=1)"
   ]
  },
  {
   "cell_type": "code",
   "execution_count": 155,
   "metadata": {},
   "outputs": [],
   "source": [
    "final_pred.merge(test, on= 'UserId', how='inner').to_csv('capillary_nearest_neighbour17_image128_encode_cosine_user_feat.csv',index=False)\n",
    "\n",
    "\n"
   ]
  }
 ],
 "metadata": {
  "kernelspec": {
   "display_name": "Python 3",
   "language": "python",
   "name": "python3"
  },
  "language_info": {
   "codemirror_mode": {
    "name": "ipython",
    "version": 3
   },
   "file_extension": ".py",
   "mimetype": "text/x-python",
   "name": "python",
   "nbconvert_exporter": "python",
   "pygments_lexer": "ipython3",
   "version": "3.7.0"
  }
 },
 "nbformat": 4,
 "nbformat_minor": 2
}
