{
 "cells": [
  {
   "cell_type": "code",
   "execution_count": 1,
   "metadata": {},
   "outputs": [],
   "source": [
    "import pandas as pd\n",
    "from surprise import Reader, Dataset\n",
    "from surprise import SVD, evaluate\n",
    "from surprise import NMF\n",
    "import matplotlib.pyplot as plt\n",
    "import math\n",
    "import numpy as np\n"
   ]
  },
  {
   "cell_type": "code",
   "execution_count": 2,
   "metadata": {},
   "outputs": [],
   "source": [
    "from sklearn.neighbors import NearestNeighbors\n",
    "from sklearn.preprocessing import StandardScaler  \n"
   ]
  },
  {
   "cell_type": "code",
   "execution_count": 3,
   "metadata": {},
   "outputs": [
    {
     "name": "stderr",
     "output_type": "stream",
     "text": [
      "Using TensorFlow backend.\n",
      "/anaconda3/lib/python3.7/importlib/_bootstrap.py:219: RuntimeWarning: compiletime version 3.6 of module 'tensorflow.python.framework.fast_tensor_util' does not match runtime version 3.7\n",
      "  return f(*args, **kwds)\n"
     ]
    }
   ],
   "source": [
    "from keras.models import Model\n",
    "from keras.applications.inception_v3 import InceptionV3\n",
    "from keras.models import Model\n",
    "from keras.layers.convolutional import Conv2D, MaxPooling2D, UpSampling2D\n",
    "from keras.layers.convolutional import Conv3D, MaxPooling3D, UpSampling3D\n",
    "from keras.models import Input\n",
    "from os import listdir\n",
    "from keras.preprocessing.image import load_img\n",
    "from keras.preprocessing.image import img_to_array"
   ]
  },
  {
   "cell_type": "code",
   "execution_count": 4,
   "metadata": {},
   "outputs": [],
   "source": [
    "from sklearn.preprocessing import OneHotEncoder"
   ]
  },
  {
   "cell_type": "code",
   "execution_count": 5,
   "metadata": {},
   "outputs": [],
   "source": [
    "train = pd.read_csv('train.csv')"
   ]
  },
  {
   "cell_type": "code",
   "execution_count": 6,
   "metadata": {},
   "outputs": [],
   "source": [
    "product = pd.read_csv('product_attributes.csv')"
   ]
  },
  {
   "cell_type": "code",
   "execution_count": 7,
   "metadata": {},
   "outputs": [],
   "source": [
    "test = pd.read_csv('../test_nFNPSyV.csv')"
   ]
  },
  {
   "cell_type": "code",
   "execution_count": 8,
   "metadata": {},
   "outputs": [],
   "source": [
    "sample = pd.read_csv('../sample_submission_qfCnaKZ.csv')"
   ]
  },
  {
   "cell_type": "code",
   "execution_count": 9,
   "metadata": {},
   "outputs": [
    {
     "data": {
      "text/html": [
       "<div>\n",
       "<style scoped>\n",
       "    .dataframe tbody tr th:only-of-type {\n",
       "        vertical-align: middle;\n",
       "    }\n",
       "\n",
       "    .dataframe tbody tr th {\n",
       "        vertical-align: top;\n",
       "    }\n",
       "\n",
       "    .dataframe thead th {\n",
       "        text-align: right;\n",
       "    }\n",
       "</style>\n",
       "<table border=\"1\" class=\"dataframe\">\n",
       "  <thead>\n",
       "    <tr style=\"text-align: right;\">\n",
       "      <th></th>\n",
       "      <th>UserId</th>\n",
       "      <th>productid</th>\n",
       "      <th>Quantity</th>\n",
       "      <th>OrderDate</th>\n",
       "    </tr>\n",
       "  </thead>\n",
       "  <tbody>\n",
       "    <tr>\n",
       "      <th>0</th>\n",
       "      <td>18075</td>\n",
       "      <td>12322648</td>\n",
       "      <td>1</td>\n",
       "      <td>01/04/18</td>\n",
       "    </tr>\n",
       "    <tr>\n",
       "      <th>1</th>\n",
       "      <td>6820</td>\n",
       "      <td>12371370</td>\n",
       "      <td>1</td>\n",
       "      <td>01/04/18</td>\n",
       "    </tr>\n",
       "    <tr>\n",
       "      <th>2</th>\n",
       "      <td>6820</td>\n",
       "      <td>12973004</td>\n",
       "      <td>1</td>\n",
       "      <td>01/04/18</td>\n",
       "    </tr>\n",
       "    <tr>\n",
       "      <th>3</th>\n",
       "      <td>6820</td>\n",
       "      <td>12657560</td>\n",
       "      <td>1</td>\n",
       "      <td>01/04/18</td>\n",
       "    </tr>\n",
       "    <tr>\n",
       "      <th>4</th>\n",
       "      <td>6820</td>\n",
       "      <td>11659914</td>\n",
       "      <td>1</td>\n",
       "      <td>01/04/18</td>\n",
       "    </tr>\n",
       "  </tbody>\n",
       "</table>\n",
       "</div>"
      ],
      "text/plain": [
       "   UserId  productid  Quantity OrderDate\n",
       "0   18075   12322648         1  01/04/18\n",
       "1    6820   12371370         1  01/04/18\n",
       "2    6820   12973004         1  01/04/18\n",
       "3    6820   12657560         1  01/04/18\n",
       "4    6820   11659914         1  01/04/18"
      ]
     },
     "execution_count": 9,
     "metadata": {},
     "output_type": "execute_result"
    }
   ],
   "source": [
    "train.head()"
   ]
  },
  {
   "cell_type": "code",
   "execution_count": 10,
   "metadata": {},
   "outputs": [],
   "source": [
    "products = list(product['productid'].unique())"
   ]
  },
  {
   "cell_type": "code",
   "execution_count": 11,
   "metadata": {},
   "outputs": [],
   "source": [
    "#selectedlayer = \"...\"\n",
    "#base_modelv3 = InceptionV3(weights='imagenet')\n",
    "#model= Model(inputs=base_modelv3.input,  outputs=base_modelv3.get_layer(selectedlayer).output)"
   ]
  },
  {
   "cell_type": "code",
   "execution_count": 12,
   "metadata": {},
   "outputs": [],
   "source": [
    "images = []\n",
    "\n",
    "def preprocess_input(x):\n",
    "    x /= 255.\n",
    "    x -= 0.5\n",
    "    x *= 2.\n",
    "    return x\n",
    "\n",
    "for i in products:\n",
    "    image = load_img('./images/{}.jpg'.format(i), target_size=(28, 28))\n",
    "    # convert the image pixels to a numpy array\n",
    "    image = img_to_array(image)\n",
    "    # reshape data for the model\n",
    "    image = np.expand_dims(image, axis=0)\n",
    "    # prepare the image for the  model\n",
    "    image = preprocess_input(image)\n",
    "    #image = list(image.reshape(192))\n",
    "    \n",
    "    images.append(image)"
   ]
  },
  {
   "cell_type": "code",
   "execution_count": 13,
   "metadata": {},
   "outputs": [
    {
     "data": {
      "text/plain": [
       "(1, 28, 28, 3)"
      ]
     },
     "execution_count": 13,
     "metadata": {},
     "output_type": "execute_result"
    }
   ],
   "source": [
    "images[0].shape"
   ]
  },
  {
   "cell_type": "code",
   "execution_count": 14,
   "metadata": {},
   "outputs": [
    {
     "data": {
      "text/plain": [
       "3015"
      ]
     },
     "execution_count": 14,
     "metadata": {},
     "output_type": "execute_result"
    }
   ],
   "source": [
    "len(products)"
   ]
  },
  {
   "cell_type": "code",
   "execution_count": 15,
   "metadata": {},
   "outputs": [
    {
     "data": {
      "text/plain": [
       "3015"
      ]
     },
     "execution_count": 15,
     "metadata": {},
     "output_type": "execute_result"
    }
   ],
   "source": [
    "len(images)"
   ]
  },
  {
   "cell_type": "code",
   "execution_count": 17,
   "metadata": {},
   "outputs": [],
   "source": [
    "#image_features = pd.DataFrame(images)"
   ]
  },
  {
   "cell_type": "code",
   "execution_count": 18,
   "metadata": {},
   "outputs": [],
   "source": [
    "#image_features.head()"
   ]
  },
  {
   "cell_type": "code",
   "execution_count": 19,
   "metadata": {},
   "outputs": [],
   "source": [
    "#image_features['productid'] = products"
   ]
  },
  {
   "cell_type": "code",
   "execution_count": 20,
   "metadata": {},
   "outputs": [],
   "source": [
    "images1 = np.array(images).reshape(3015,28,28,3)"
   ]
  },
  {
   "cell_type": "code",
   "execution_count": 21,
   "metadata": {},
   "outputs": [],
   "source": [
    "input_img = Input(shape=(28,28,3))\n",
    "x = Conv2D(16,(3,3), activation='relu', padding='same')(input_img)\n",
    "x = MaxPooling2D((2,2), padding='same')(x)\n",
    "x = Conv2D(8,(3,3), activation='relu', padding='same')(x)\n",
    "x = MaxPooling2D((2,2), padding='same')(x)\n",
    "x = Conv2D(8,(3,3), activation='relu', padding='same')(x)\n",
    "encoded = MaxPooling2D((2,2), padding='same', name='encoder')(x)\n",
    "\n",
    "x = Conv2D(8, (3, 3), activation='relu', padding='same')(encoded)\n",
    "x = UpSampling2D((2, 2))(x)\n",
    "x = Conv2D(8, (3, 3), activation='relu', padding='same')(x)\n",
    "x = UpSampling2D((2, 2))(x)\n",
    "x = Conv2D(16, (3, 3), activation='relu')(x)\n",
    "x = UpSampling2D((2, 2))(x)\n",
    "decoded = Conv2D(3, (3, 3), activation='sigmoid', padding='same')(x)\n",
    "\n",
    "autoencoder = Model(input_img, decoded)\n",
    "autoencoder.compile(optimizer='adam', loss='mse')"
   ]
  },
  {
   "cell_type": "code",
   "execution_count": 22,
   "metadata": {},
   "outputs": [],
   "source": [
    "encoder = Model(inputs=autoencoder.input, outputs=autoencoder.get_layer('encoder').output)\n"
   ]
  },
  {
   "cell_type": "code",
   "execution_count": 23,
   "metadata": {},
   "outputs": [
    {
     "name": "stdout",
     "output_type": "stream",
     "text": [
      "Epoch 1/10\n",
      "3015/3015 [==============================] - 3s 886us/step - loss: 0.3180\n",
      "Epoch 2/10\n",
      "3015/3015 [==============================] - 2s 829us/step - loss: 0.1853\n",
      "Epoch 3/10\n",
      "3015/3015 [==============================] - 2s 820us/step - loss: 0.1554\n",
      "Epoch 4/10\n",
      "3015/3015 [==============================] - 2s 780us/step - loss: 0.1475\n",
      "Epoch 5/10\n",
      "3015/3015 [==============================] - 2s 771us/step - loss: 0.1433\n",
      "Epoch 6/10\n",
      "3015/3015 [==============================] - 2s 786us/step - loss: 0.1388\n",
      "Epoch 7/10\n",
      "3015/3015 [==============================] - 2s 750us/step - loss: 0.1357\n",
      "Epoch 8/10\n",
      "3015/3015 [==============================] - 2s 765us/step - loss: 0.1329\n",
      "Epoch 9/10\n",
      "3015/3015 [==============================] - 2s 774us/step - loss: 0.1312\n",
      "Epoch 10/10\n",
      "3015/3015 [==============================] - 2s 809us/step - loss: 0.1298\n"
     ]
    },
    {
     "data": {
      "text/plain": [
       "<keras.callbacks.History at 0x1a28f5bd68>"
      ]
     },
     "execution_count": 23,
     "metadata": {},
     "output_type": "execute_result"
    }
   ],
   "source": [
    "autoencoder.fit(images1,images1,epochs=10,batch_size=64)"
   ]
  },
  {
   "cell_type": "code",
   "execution_count": 24,
   "metadata": {},
   "outputs": [],
   "source": [
    "encode_images= encoder.predict(images1).reshape(3015,128)"
   ]
  },
  {
   "cell_type": "code",
   "execution_count": 25,
   "metadata": {},
   "outputs": [],
   "source": [
    "image_features_encoded = pd.DataFrame(encode_images)"
   ]
  },
  {
   "cell_type": "code",
   "execution_count": 26,
   "metadata": {},
   "outputs": [],
   "source": [
    "image_features_encoded['productid'] = products"
   ]
  },
  {
   "cell_type": "code",
   "execution_count": 27,
   "metadata": {},
   "outputs": [
    {
     "data": {
      "text/html": [
       "<div>\n",
       "<style scoped>\n",
       "    .dataframe tbody tr th:only-of-type {\n",
       "        vertical-align: middle;\n",
       "    }\n",
       "\n",
       "    .dataframe tbody tr th {\n",
       "        vertical-align: top;\n",
       "    }\n",
       "\n",
       "    .dataframe thead th {\n",
       "        text-align: right;\n",
       "    }\n",
       "</style>\n",
       "<table border=\"1\" class=\"dataframe\">\n",
       "  <thead>\n",
       "    <tr style=\"text-align: right;\">\n",
       "      <th></th>\n",
       "      <th>0</th>\n",
       "      <th>1</th>\n",
       "      <th>2</th>\n",
       "      <th>3</th>\n",
       "      <th>4</th>\n",
       "      <th>5</th>\n",
       "      <th>6</th>\n",
       "      <th>7</th>\n",
       "      <th>8</th>\n",
       "      <th>9</th>\n",
       "      <th>...</th>\n",
       "      <th>119</th>\n",
       "      <th>120</th>\n",
       "      <th>121</th>\n",
       "      <th>122</th>\n",
       "      <th>123</th>\n",
       "      <th>124</th>\n",
       "      <th>125</th>\n",
       "      <th>126</th>\n",
       "      <th>127</th>\n",
       "      <th>productid</th>\n",
       "    </tr>\n",
       "  </thead>\n",
       "  <tbody>\n",
       "    <tr>\n",
       "      <th>0</th>\n",
       "      <td>4.094417</td>\n",
       "      <td>0.994277</td>\n",
       "      <td>0.221732</td>\n",
       "      <td>0.150921</td>\n",
       "      <td>1.850685</td>\n",
       "      <td>2.895032</td>\n",
       "      <td>10.523665</td>\n",
       "      <td>5.367269</td>\n",
       "      <td>2.462985</td>\n",
       "      <td>2.099633</td>\n",
       "      <td>...</td>\n",
       "      <td>4.639795</td>\n",
       "      <td>1.141831</td>\n",
       "      <td>0.0</td>\n",
       "      <td>0.0</td>\n",
       "      <td>0.0</td>\n",
       "      <td>4.979157</td>\n",
       "      <td>3.725201</td>\n",
       "      <td>6.111584</td>\n",
       "      <td>2.192256</td>\n",
       "      <td>11145600</td>\n",
       "    </tr>\n",
       "    <tr>\n",
       "      <th>1</th>\n",
       "      <td>4.220486</td>\n",
       "      <td>1.176078</td>\n",
       "      <td>0.208121</td>\n",
       "      <td>0.159641</td>\n",
       "      <td>1.895842</td>\n",
       "      <td>3.041027</td>\n",
       "      <td>10.117416</td>\n",
       "      <td>5.373601</td>\n",
       "      <td>2.485535</td>\n",
       "      <td>2.213668</td>\n",
       "      <td>...</td>\n",
       "      <td>4.534923</td>\n",
       "      <td>1.132205</td>\n",
       "      <td>0.0</td>\n",
       "      <td>0.0</td>\n",
       "      <td>0.0</td>\n",
       "      <td>4.989626</td>\n",
       "      <td>3.718115</td>\n",
       "      <td>6.115282</td>\n",
       "      <td>2.178788</td>\n",
       "      <td>11145602</td>\n",
       "    </tr>\n",
       "    <tr>\n",
       "      <th>2</th>\n",
       "      <td>4.136118</td>\n",
       "      <td>1.026037</td>\n",
       "      <td>0.270119</td>\n",
       "      <td>0.150492</td>\n",
       "      <td>2.282621</td>\n",
       "      <td>2.771910</td>\n",
       "      <td>11.025008</td>\n",
       "      <td>5.341788</td>\n",
       "      <td>2.465155</td>\n",
       "      <td>2.196455</td>\n",
       "      <td>...</td>\n",
       "      <td>4.609075</td>\n",
       "      <td>1.156786</td>\n",
       "      <td>0.0</td>\n",
       "      <td>0.0</td>\n",
       "      <td>0.0</td>\n",
       "      <td>4.988648</td>\n",
       "      <td>3.731289</td>\n",
       "      <td>6.141088</td>\n",
       "      <td>2.185293</td>\n",
       "      <td>11145612</td>\n",
       "    </tr>\n",
       "    <tr>\n",
       "      <th>3</th>\n",
       "      <td>4.193300</td>\n",
       "      <td>1.220027</td>\n",
       "      <td>0.242752</td>\n",
       "      <td>0.139617</td>\n",
       "      <td>2.219221</td>\n",
       "      <td>2.885259</td>\n",
       "      <td>10.783181</td>\n",
       "      <td>5.373925</td>\n",
       "      <td>2.293022</td>\n",
       "      <td>2.715505</td>\n",
       "      <td>...</td>\n",
       "      <td>4.416644</td>\n",
       "      <td>1.183449</td>\n",
       "      <td>0.0</td>\n",
       "      <td>0.0</td>\n",
       "      <td>0.0</td>\n",
       "      <td>4.992047</td>\n",
       "      <td>3.755720</td>\n",
       "      <td>6.147183</td>\n",
       "      <td>2.182006</td>\n",
       "      <td>11145614</td>\n",
       "    </tr>\n",
       "    <tr>\n",
       "      <th>4</th>\n",
       "      <td>4.306152</td>\n",
       "      <td>1.141776</td>\n",
       "      <td>0.218408</td>\n",
       "      <td>0.155050</td>\n",
       "      <td>1.872357</td>\n",
       "      <td>2.903575</td>\n",
       "      <td>10.613829</td>\n",
       "      <td>5.369379</td>\n",
       "      <td>3.395743</td>\n",
       "      <td>2.170629</td>\n",
       "      <td>...</td>\n",
       "      <td>5.889984</td>\n",
       "      <td>1.185390</td>\n",
       "      <td>0.0</td>\n",
       "      <td>0.0</td>\n",
       "      <td>0.0</td>\n",
       "      <td>4.972814</td>\n",
       "      <td>3.748846</td>\n",
       "      <td>6.131931</td>\n",
       "      <td>2.191781</td>\n",
       "      <td>11145620</td>\n",
       "    </tr>\n",
       "  </tbody>\n",
       "</table>\n",
       "<p>5 rows × 129 columns</p>\n",
       "</div>"
      ],
      "text/plain": [
       "          0         1         2         3         4         5          6  \\\n",
       "0  4.094417  0.994277  0.221732  0.150921  1.850685  2.895032  10.523665   \n",
       "1  4.220486  1.176078  0.208121  0.159641  1.895842  3.041027  10.117416   \n",
       "2  4.136118  1.026037  0.270119  0.150492  2.282621  2.771910  11.025008   \n",
       "3  4.193300  1.220027  0.242752  0.139617  2.219221  2.885259  10.783181   \n",
       "4  4.306152  1.141776  0.218408  0.155050  1.872357  2.903575  10.613829   \n",
       "\n",
       "          7         8         9    ...           119       120  121  122  123  \\\n",
       "0  5.367269  2.462985  2.099633    ...      4.639795  1.141831  0.0  0.0  0.0   \n",
       "1  5.373601  2.485535  2.213668    ...      4.534923  1.132205  0.0  0.0  0.0   \n",
       "2  5.341788  2.465155  2.196455    ...      4.609075  1.156786  0.0  0.0  0.0   \n",
       "3  5.373925  2.293022  2.715505    ...      4.416644  1.183449  0.0  0.0  0.0   \n",
       "4  5.369379  3.395743  2.170629    ...      5.889984  1.185390  0.0  0.0  0.0   \n",
       "\n",
       "        124       125       126       127  productid  \n",
       "0  4.979157  3.725201  6.111584  2.192256   11145600  \n",
       "1  4.989626  3.718115  6.115282  2.178788   11145602  \n",
       "2  4.988648  3.731289  6.141088  2.185293   11145612  \n",
       "3  4.992047  3.755720  6.147183  2.182006   11145614  \n",
       "4  4.972814  3.748846  6.131931  2.191781   11145620  \n",
       "\n",
       "[5 rows x 129 columns]"
      ]
     },
     "execution_count": 27,
     "metadata": {},
     "output_type": "execute_result"
    }
   ],
   "source": [
    "image_features_encoded.head()"
   ]
  },
  {
   "cell_type": "code",
   "execution_count": null,
   "metadata": {},
   "outputs": [],
   "source": []
  },
  {
   "cell_type": "code",
   "execution_count": 28,
   "metadata": {},
   "outputs": [],
   "source": [
    "total_quantity = train['Quantity'].sum()"
   ]
  },
  {
   "cell_type": "code",
   "execution_count": 29,
   "metadata": {},
   "outputs": [],
   "source": [
    "product_sold = train.groupby('productid')['Quantity'].sum().reset_index()"
   ]
  },
  {
   "cell_type": "code",
   "execution_count": 30,
   "metadata": {},
   "outputs": [],
   "source": [
    "product_sold['weight'] = product_sold['Quantity']/total_quantity"
   ]
  },
  {
   "cell_type": "code",
   "execution_count": 31,
   "metadata": {},
   "outputs": [],
   "source": [
    "product_sold = product_sold.drop('Quantity', axis=1)"
   ]
  },
  {
   "cell_type": "code",
   "execution_count": 32,
   "metadata": {},
   "outputs": [
    {
     "data": {
      "text/plain": [
       "(3026, 2)"
      ]
     },
     "execution_count": 32,
     "metadata": {},
     "output_type": "execute_result"
    }
   ],
   "source": [
    "product_sold.shape"
   ]
  },
  {
   "cell_type": "code",
   "execution_count": 33,
   "metadata": {},
   "outputs": [],
   "source": [
    "baseline = train.groupby('productid')['UserId'].count().reset_index().sort_values('UserId',ascending=False).head(10)"
   ]
  },
  {
   "cell_type": "code",
   "execution_count": 34,
   "metadata": {},
   "outputs": [],
   "source": [
    "top10 =  baseline['productid'].tolist()"
   ]
  },
  {
   "cell_type": "code",
   "execution_count": 35,
   "metadata": {},
   "outputs": [],
   "source": [
    "chh = train.groupby('UserId').count().reset_index()"
   ]
  },
  {
   "cell_type": "code",
   "execution_count": 36,
   "metadata": {},
   "outputs": [
    {
     "data": {
      "text/html": [
       "<div>\n",
       "<style scoped>\n",
       "    .dataframe tbody tr th:only-of-type {\n",
       "        vertical-align: middle;\n",
       "    }\n",
       "\n",
       "    .dataframe tbody tr th {\n",
       "        vertical-align: top;\n",
       "    }\n",
       "\n",
       "    .dataframe thead th {\n",
       "        text-align: right;\n",
       "    }\n",
       "</style>\n",
       "<table border=\"1\" class=\"dataframe\">\n",
       "  <thead>\n",
       "    <tr style=\"text-align: right;\">\n",
       "      <th></th>\n",
       "      <th>UserId</th>\n",
       "      <th>productid</th>\n",
       "      <th>Quantity</th>\n",
       "      <th>OrderDate</th>\n",
       "    </tr>\n",
       "  </thead>\n",
       "  <tbody>\n",
       "    <tr>\n",
       "      <th>0</th>\n",
       "      <td>18075</td>\n",
       "      <td>12322648</td>\n",
       "      <td>1</td>\n",
       "      <td>01/04/18</td>\n",
       "    </tr>\n",
       "    <tr>\n",
       "      <th>1</th>\n",
       "      <td>6820</td>\n",
       "      <td>12371370</td>\n",
       "      <td>1</td>\n",
       "      <td>01/04/18</td>\n",
       "    </tr>\n",
       "    <tr>\n",
       "      <th>2</th>\n",
       "      <td>6820</td>\n",
       "      <td>12973004</td>\n",
       "      <td>1</td>\n",
       "      <td>01/04/18</td>\n",
       "    </tr>\n",
       "    <tr>\n",
       "      <th>3</th>\n",
       "      <td>6820</td>\n",
       "      <td>12657560</td>\n",
       "      <td>1</td>\n",
       "      <td>01/04/18</td>\n",
       "    </tr>\n",
       "    <tr>\n",
       "      <th>4</th>\n",
       "      <td>6820</td>\n",
       "      <td>11659914</td>\n",
       "      <td>1</td>\n",
       "      <td>01/04/18</td>\n",
       "    </tr>\n",
       "  </tbody>\n",
       "</table>\n",
       "</div>"
      ],
      "text/plain": [
       "   UserId  productid  Quantity OrderDate\n",
       "0   18075   12322648         1  01/04/18\n",
       "1    6820   12371370         1  01/04/18\n",
       "2    6820   12973004         1  01/04/18\n",
       "3    6820   12657560         1  01/04/18\n",
       "4    6820   11659914         1  01/04/18"
      ]
     },
     "execution_count": 36,
     "metadata": {},
     "output_type": "execute_result"
    }
   ],
   "source": [
    "train.head()"
   ]
  },
  {
   "cell_type": "code",
   "execution_count": 37,
   "metadata": {},
   "outputs": [
    {
     "data": {
      "text/html": [
       "<div>\n",
       "<style scoped>\n",
       "    .dataframe tbody tr th:only-of-type {\n",
       "        vertical-align: middle;\n",
       "    }\n",
       "\n",
       "    .dataframe tbody tr th {\n",
       "        vertical-align: top;\n",
       "    }\n",
       "\n",
       "    .dataframe thead th {\n",
       "        text-align: right;\n",
       "    }\n",
       "</style>\n",
       "<table border=\"1\" class=\"dataframe\">\n",
       "  <thead>\n",
       "    <tr style=\"text-align: right;\">\n",
       "      <th></th>\n",
       "      <th>productid</th>\n",
       "      <th>attribute_name</th>\n",
       "      <th>attributevalue</th>\n",
       "    </tr>\n",
       "  </thead>\n",
       "  <tbody>\n",
       "    <tr>\n",
       "      <th>0</th>\n",
       "      <td>11145600</td>\n",
       "      <td>Fit</td>\n",
       "      <td>37</td>\n",
       "    </tr>\n",
       "    <tr>\n",
       "      <th>1</th>\n",
       "      <td>11145600</td>\n",
       "      <td>Sleeve Length</td>\n",
       "      <td>23</td>\n",
       "    </tr>\n",
       "    <tr>\n",
       "      <th>2</th>\n",
       "      <td>11145600</td>\n",
       "      <td>Fabric</td>\n",
       "      <td>16</td>\n",
       "    </tr>\n",
       "    <tr>\n",
       "      <th>3</th>\n",
       "      <td>11145600</td>\n",
       "      <td>Color</td>\n",
       "      <td>25</td>\n",
       "    </tr>\n",
       "    <tr>\n",
       "      <th>4</th>\n",
       "      <td>11145600</td>\n",
       "      <td>Neckline</td>\n",
       "      <td>51</td>\n",
       "    </tr>\n",
       "  </tbody>\n",
       "</table>\n",
       "</div>"
      ],
      "text/plain": [
       "   productid attribute_name  attributevalue\n",
       "0   11145600            Fit              37\n",
       "1   11145600  Sleeve Length              23\n",
       "2   11145600         Fabric              16\n",
       "3   11145600          Color              25\n",
       "4   11145600       Neckline              51"
      ]
     },
     "execution_count": 37,
     "metadata": {},
     "output_type": "execute_result"
    }
   ],
   "source": [
    "product.head()"
   ]
  },
  {
   "cell_type": "code",
   "execution_count": 38,
   "metadata": {},
   "outputs": [],
   "source": [
    "product_wide = product.pivot_table(index='productid',columns='attribute_name',values='attributevalue').reset_index()"
   ]
  },
  {
   "cell_type": "code",
   "execution_count": 39,
   "metadata": {},
   "outputs": [
    {
     "data": {
      "text/html": [
       "<div>\n",
       "<style scoped>\n",
       "    .dataframe tbody tr th:only-of-type {\n",
       "        vertical-align: middle;\n",
       "    }\n",
       "\n",
       "    .dataframe tbody tr th {\n",
       "        vertical-align: top;\n",
       "    }\n",
       "\n",
       "    .dataframe thead th {\n",
       "        text-align: right;\n",
       "    }\n",
       "</style>\n",
       "<table border=\"1\" class=\"dataframe\">\n",
       "  <thead>\n",
       "    <tr style=\"text-align: right;\">\n",
       "      <th></th>\n",
       "      <th>0</th>\n",
       "      <th>1</th>\n",
       "      <th>2</th>\n",
       "      <th>3</th>\n",
       "      <th>4</th>\n",
       "      <th>5</th>\n",
       "      <th>6</th>\n",
       "      <th>7</th>\n",
       "      <th>8</th>\n",
       "      <th>9</th>\n",
       "      <th>...</th>\n",
       "      <th>119</th>\n",
       "      <th>120</th>\n",
       "      <th>121</th>\n",
       "      <th>122</th>\n",
       "      <th>123</th>\n",
       "      <th>124</th>\n",
       "      <th>125</th>\n",
       "      <th>126</th>\n",
       "      <th>127</th>\n",
       "      <th>productid</th>\n",
       "    </tr>\n",
       "  </thead>\n",
       "  <tbody>\n",
       "    <tr>\n",
       "      <th>0</th>\n",
       "      <td>4.094417</td>\n",
       "      <td>0.994277</td>\n",
       "      <td>0.221732</td>\n",
       "      <td>0.150921</td>\n",
       "      <td>1.850685</td>\n",
       "      <td>2.895032</td>\n",
       "      <td>10.523665</td>\n",
       "      <td>5.367269</td>\n",
       "      <td>2.462985</td>\n",
       "      <td>2.099633</td>\n",
       "      <td>...</td>\n",
       "      <td>4.639795</td>\n",
       "      <td>1.141831</td>\n",
       "      <td>0.0</td>\n",
       "      <td>0.0</td>\n",
       "      <td>0.0</td>\n",
       "      <td>4.979157</td>\n",
       "      <td>3.725201</td>\n",
       "      <td>6.111584</td>\n",
       "      <td>2.192256</td>\n",
       "      <td>11145600</td>\n",
       "    </tr>\n",
       "    <tr>\n",
       "      <th>1</th>\n",
       "      <td>4.220486</td>\n",
       "      <td>1.176078</td>\n",
       "      <td>0.208121</td>\n",
       "      <td>0.159641</td>\n",
       "      <td>1.895842</td>\n",
       "      <td>3.041027</td>\n",
       "      <td>10.117416</td>\n",
       "      <td>5.373601</td>\n",
       "      <td>2.485535</td>\n",
       "      <td>2.213668</td>\n",
       "      <td>...</td>\n",
       "      <td>4.534923</td>\n",
       "      <td>1.132205</td>\n",
       "      <td>0.0</td>\n",
       "      <td>0.0</td>\n",
       "      <td>0.0</td>\n",
       "      <td>4.989626</td>\n",
       "      <td>3.718115</td>\n",
       "      <td>6.115282</td>\n",
       "      <td>2.178788</td>\n",
       "      <td>11145602</td>\n",
       "    </tr>\n",
       "    <tr>\n",
       "      <th>2</th>\n",
       "      <td>4.136118</td>\n",
       "      <td>1.026037</td>\n",
       "      <td>0.270119</td>\n",
       "      <td>0.150492</td>\n",
       "      <td>2.282621</td>\n",
       "      <td>2.771910</td>\n",
       "      <td>11.025008</td>\n",
       "      <td>5.341788</td>\n",
       "      <td>2.465155</td>\n",
       "      <td>2.196455</td>\n",
       "      <td>...</td>\n",
       "      <td>4.609075</td>\n",
       "      <td>1.156786</td>\n",
       "      <td>0.0</td>\n",
       "      <td>0.0</td>\n",
       "      <td>0.0</td>\n",
       "      <td>4.988648</td>\n",
       "      <td>3.731289</td>\n",
       "      <td>6.141088</td>\n",
       "      <td>2.185293</td>\n",
       "      <td>11145612</td>\n",
       "    </tr>\n",
       "    <tr>\n",
       "      <th>3</th>\n",
       "      <td>4.193300</td>\n",
       "      <td>1.220027</td>\n",
       "      <td>0.242752</td>\n",
       "      <td>0.139617</td>\n",
       "      <td>2.219221</td>\n",
       "      <td>2.885259</td>\n",
       "      <td>10.783181</td>\n",
       "      <td>5.373925</td>\n",
       "      <td>2.293022</td>\n",
       "      <td>2.715505</td>\n",
       "      <td>...</td>\n",
       "      <td>4.416644</td>\n",
       "      <td>1.183449</td>\n",
       "      <td>0.0</td>\n",
       "      <td>0.0</td>\n",
       "      <td>0.0</td>\n",
       "      <td>4.992047</td>\n",
       "      <td>3.755720</td>\n",
       "      <td>6.147183</td>\n",
       "      <td>2.182006</td>\n",
       "      <td>11145614</td>\n",
       "    </tr>\n",
       "    <tr>\n",
       "      <th>4</th>\n",
       "      <td>4.306152</td>\n",
       "      <td>1.141776</td>\n",
       "      <td>0.218408</td>\n",
       "      <td>0.155050</td>\n",
       "      <td>1.872357</td>\n",
       "      <td>2.903575</td>\n",
       "      <td>10.613829</td>\n",
       "      <td>5.369379</td>\n",
       "      <td>3.395743</td>\n",
       "      <td>2.170629</td>\n",
       "      <td>...</td>\n",
       "      <td>5.889984</td>\n",
       "      <td>1.185390</td>\n",
       "      <td>0.0</td>\n",
       "      <td>0.0</td>\n",
       "      <td>0.0</td>\n",
       "      <td>4.972814</td>\n",
       "      <td>3.748846</td>\n",
       "      <td>6.131931</td>\n",
       "      <td>2.191781</td>\n",
       "      <td>11145620</td>\n",
       "    </tr>\n",
       "  </tbody>\n",
       "</table>\n",
       "<p>5 rows × 129 columns</p>\n",
       "</div>"
      ],
      "text/plain": [
       "          0         1         2         3         4         5          6  \\\n",
       "0  4.094417  0.994277  0.221732  0.150921  1.850685  2.895032  10.523665   \n",
       "1  4.220486  1.176078  0.208121  0.159641  1.895842  3.041027  10.117416   \n",
       "2  4.136118  1.026037  0.270119  0.150492  2.282621  2.771910  11.025008   \n",
       "3  4.193300  1.220027  0.242752  0.139617  2.219221  2.885259  10.783181   \n",
       "4  4.306152  1.141776  0.218408  0.155050  1.872357  2.903575  10.613829   \n",
       "\n",
       "          7         8         9    ...           119       120  121  122  123  \\\n",
       "0  5.367269  2.462985  2.099633    ...      4.639795  1.141831  0.0  0.0  0.0   \n",
       "1  5.373601  2.485535  2.213668    ...      4.534923  1.132205  0.0  0.0  0.0   \n",
       "2  5.341788  2.465155  2.196455    ...      4.609075  1.156786  0.0  0.0  0.0   \n",
       "3  5.373925  2.293022  2.715505    ...      4.416644  1.183449  0.0  0.0  0.0   \n",
       "4  5.369379  3.395743  2.170629    ...      5.889984  1.185390  0.0  0.0  0.0   \n",
       "\n",
       "        124       125       126       127  productid  \n",
       "0  4.979157  3.725201  6.111584  2.192256   11145600  \n",
       "1  4.989626  3.718115  6.115282  2.178788   11145602  \n",
       "2  4.988648  3.731289  6.141088  2.185293   11145612  \n",
       "3  4.992047  3.755720  6.147183  2.182006   11145614  \n",
       "4  4.972814  3.748846  6.131931  2.191781   11145620  \n",
       "\n",
       "[5 rows x 129 columns]"
      ]
     },
     "execution_count": 39,
     "metadata": {},
     "output_type": "execute_result"
    }
   ],
   "source": [
    "image_features_encoded.head()"
   ]
  },
  {
   "cell_type": "code",
   "execution_count": 40,
   "metadata": {},
   "outputs": [],
   "source": [
    "product_wide = product_wide.merge(image_features_encoded, on='productid')"
   ]
  },
  {
   "cell_type": "code",
   "execution_count": 41,
   "metadata": {},
   "outputs": [
    {
     "data": {
      "text/html": [
       "<div>\n",
       "<style scoped>\n",
       "    .dataframe tbody tr th:only-of-type {\n",
       "        vertical-align: middle;\n",
       "    }\n",
       "\n",
       "    .dataframe tbody tr th {\n",
       "        vertical-align: top;\n",
       "    }\n",
       "\n",
       "    .dataframe thead th {\n",
       "        text-align: right;\n",
       "    }\n",
       "</style>\n",
       "<table border=\"1\" class=\"dataframe\">\n",
       "  <thead>\n",
       "    <tr style=\"text-align: right;\">\n",
       "      <th></th>\n",
       "      <th>productid</th>\n",
       "      <th>Category</th>\n",
       "      <th>Collection</th>\n",
       "      <th>Color</th>\n",
       "      <th>Fabric</th>\n",
       "      <th>Fit</th>\n",
       "      <th>Material</th>\n",
       "      <th>Neckline</th>\n",
       "      <th>Season</th>\n",
       "      <th>Sleeve Length</th>\n",
       "      <th>...</th>\n",
       "      <th>118</th>\n",
       "      <th>119</th>\n",
       "      <th>120</th>\n",
       "      <th>121</th>\n",
       "      <th>122</th>\n",
       "      <th>123</th>\n",
       "      <th>124</th>\n",
       "      <th>125</th>\n",
       "      <th>126</th>\n",
       "      <th>127</th>\n",
       "    </tr>\n",
       "  </thead>\n",
       "  <tbody>\n",
       "    <tr>\n",
       "      <th>0</th>\n",
       "      <td>11139192</td>\n",
       "      <td>1.0</td>\n",
       "      <td>NaN</td>\n",
       "      <td>41.0</td>\n",
       "      <td>2.0</td>\n",
       "      <td>0.0</td>\n",
       "      <td>NaN</td>\n",
       "      <td>NaN</td>\n",
       "      <td>42.0</td>\n",
       "      <td>NaN</td>\n",
       "      <td>...</td>\n",
       "      <td>9.746375</td>\n",
       "      <td>4.911317</td>\n",
       "      <td>1.159197</td>\n",
       "      <td>0.0</td>\n",
       "      <td>0.0</td>\n",
       "      <td>0.0</td>\n",
       "      <td>4.993309</td>\n",
       "      <td>3.730699</td>\n",
       "      <td>6.143026</td>\n",
       "      <td>2.172697</td>\n",
       "    </tr>\n",
       "    <tr>\n",
       "      <th>1</th>\n",
       "      <td>11139194</td>\n",
       "      <td>1.0</td>\n",
       "      <td>NaN</td>\n",
       "      <td>25.0</td>\n",
       "      <td>2.0</td>\n",
       "      <td>0.0</td>\n",
       "      <td>NaN</td>\n",
       "      <td>NaN</td>\n",
       "      <td>42.0</td>\n",
       "      <td>NaN</td>\n",
       "      <td>...</td>\n",
       "      <td>8.768444</td>\n",
       "      <td>6.458517</td>\n",
       "      <td>1.193308</td>\n",
       "      <td>0.0</td>\n",
       "      <td>0.0</td>\n",
       "      <td>0.0</td>\n",
       "      <td>5.007014</td>\n",
       "      <td>3.746132</td>\n",
       "      <td>6.187249</td>\n",
       "      <td>2.152506</td>\n",
       "    </tr>\n",
       "    <tr>\n",
       "      <th>2</th>\n",
       "      <td>11139524</td>\n",
       "      <td>1.0</td>\n",
       "      <td>NaN</td>\n",
       "      <td>95.0</td>\n",
       "      <td>16.0</td>\n",
       "      <td>14.0</td>\n",
       "      <td>NaN</td>\n",
       "      <td>4.0</td>\n",
       "      <td>42.0</td>\n",
       "      <td>23.0</td>\n",
       "      <td>...</td>\n",
       "      <td>8.722144</td>\n",
       "      <td>5.540466</td>\n",
       "      <td>1.266984</td>\n",
       "      <td>0.0</td>\n",
       "      <td>0.0</td>\n",
       "      <td>0.0</td>\n",
       "      <td>5.071997</td>\n",
       "      <td>3.819778</td>\n",
       "      <td>6.249762</td>\n",
       "      <td>2.096569</td>\n",
       "    </tr>\n",
       "    <tr>\n",
       "      <th>3</th>\n",
       "      <td>11139560</td>\n",
       "      <td>1.0</td>\n",
       "      <td>NaN</td>\n",
       "      <td>41.0</td>\n",
       "      <td>2.0</td>\n",
       "      <td>14.0</td>\n",
       "      <td>NaN</td>\n",
       "      <td>4.0</td>\n",
       "      <td>42.0</td>\n",
       "      <td>127.0</td>\n",
       "      <td>...</td>\n",
       "      <td>9.355738</td>\n",
       "      <td>4.744660</td>\n",
       "      <td>1.143350</td>\n",
       "      <td>0.0</td>\n",
       "      <td>0.0</td>\n",
       "      <td>0.0</td>\n",
       "      <td>4.985752</td>\n",
       "      <td>3.730562</td>\n",
       "      <td>6.121748</td>\n",
       "      <td>2.182537</td>\n",
       "    </tr>\n",
       "    <tr>\n",
       "      <th>4</th>\n",
       "      <td>11139588</td>\n",
       "      <td>1.0</td>\n",
       "      <td>NaN</td>\n",
       "      <td>25.0</td>\n",
       "      <td>58.0</td>\n",
       "      <td>0.0</td>\n",
       "      <td>NaN</td>\n",
       "      <td>NaN</td>\n",
       "      <td>42.0</td>\n",
       "      <td>NaN</td>\n",
       "      <td>...</td>\n",
       "      <td>7.861685</td>\n",
       "      <td>4.838794</td>\n",
       "      <td>1.178572</td>\n",
       "      <td>0.0</td>\n",
       "      <td>0.0</td>\n",
       "      <td>0.0</td>\n",
       "      <td>5.050524</td>\n",
       "      <td>3.806188</td>\n",
       "      <td>6.179358</td>\n",
       "      <td>2.183246</td>\n",
       "    </tr>\n",
       "  </tbody>\n",
       "</table>\n",
       "<p>5 rows × 138 columns</p>\n",
       "</div>"
      ],
      "text/plain": [
       "   productid  Category  Collection  Color  Fabric   Fit  Material  Neckline  \\\n",
       "0   11139192       1.0         NaN   41.0     2.0   0.0       NaN       NaN   \n",
       "1   11139194       1.0         NaN   25.0     2.0   0.0       NaN       NaN   \n",
       "2   11139524       1.0         NaN   95.0    16.0  14.0       NaN       4.0   \n",
       "3   11139560       1.0         NaN   41.0     2.0  14.0       NaN       4.0   \n",
       "4   11139588       1.0         NaN   25.0    58.0   0.0       NaN       NaN   \n",
       "\n",
       "   Season  Sleeve Length    ...          118       119       120  121  122  \\\n",
       "0    42.0            NaN    ...     9.746375  4.911317  1.159197  0.0  0.0   \n",
       "1    42.0            NaN    ...     8.768444  6.458517  1.193308  0.0  0.0   \n",
       "2    42.0           23.0    ...     8.722144  5.540466  1.266984  0.0  0.0   \n",
       "3    42.0          127.0    ...     9.355738  4.744660  1.143350  0.0  0.0   \n",
       "4    42.0            NaN    ...     7.861685  4.838794  1.178572  0.0  0.0   \n",
       "\n",
       "   123       124       125       126       127  \n",
       "0  0.0  4.993309  3.730699  6.143026  2.172697  \n",
       "1  0.0  5.007014  3.746132  6.187249  2.152506  \n",
       "2  0.0  5.071997  3.819778  6.249762  2.096569  \n",
       "3  0.0  4.985752  3.730562  6.121748  2.182537  \n",
       "4  0.0  5.050524  3.806188  6.179358  2.183246  \n",
       "\n",
       "[5 rows x 138 columns]"
      ]
     },
     "execution_count": 41,
     "metadata": {},
     "output_type": "execute_result"
    }
   ],
   "source": [
    "product_wide.head()"
   ]
  },
  {
   "cell_type": "code",
   "execution_count": 42,
   "metadata": {},
   "outputs": [],
   "source": [
    "product_wide = product_wide.merge(product_sold, on= 'productid',how='inner')"
   ]
  },
  {
   "cell_type": "code",
   "execution_count": 43,
   "metadata": {},
   "outputs": [],
   "source": [
    "train_agg = train.groupby(['UserId','productid'])['Quantity'].sum().reset_index()"
   ]
  },
  {
   "cell_type": "code",
   "execution_count": 44,
   "metadata": {},
   "outputs": [
    {
     "data": {
      "text/html": [
       "<div>\n",
       "<style scoped>\n",
       "    .dataframe tbody tr th:only-of-type {\n",
       "        vertical-align: middle;\n",
       "    }\n",
       "\n",
       "    .dataframe tbody tr th {\n",
       "        vertical-align: top;\n",
       "    }\n",
       "\n",
       "    .dataframe thead th {\n",
       "        text-align: right;\n",
       "    }\n",
       "</style>\n",
       "<table border=\"1\" class=\"dataframe\">\n",
       "  <thead>\n",
       "    <tr style=\"text-align: right;\">\n",
       "      <th></th>\n",
       "      <th>UserId</th>\n",
       "      <th>productid</th>\n",
       "      <th>Quantity</th>\n",
       "    </tr>\n",
       "  </thead>\n",
       "  <tbody>\n",
       "    <tr>\n",
       "      <th>count</th>\n",
       "      <td>74915.000000</td>\n",
       "      <td>7.491500e+04</td>\n",
       "      <td>74915.000000</td>\n",
       "    </tr>\n",
       "    <tr>\n",
       "      <th>mean</th>\n",
       "      <td>14493.035173</td>\n",
       "      <td>1.232877e+07</td>\n",
       "      <td>1.793539</td>\n",
       "    </tr>\n",
       "    <tr>\n",
       "      <th>std</th>\n",
       "      <td>8248.096978</td>\n",
       "      <td>5.583793e+05</td>\n",
       "      <td>4.705072</td>\n",
       "    </tr>\n",
       "    <tr>\n",
       "      <th>min</th>\n",
       "      <td>0.000000</td>\n",
       "      <td>1.113919e+07</td>\n",
       "      <td>1.000000</td>\n",
       "    </tr>\n",
       "    <tr>\n",
       "      <th>25%</th>\n",
       "      <td>7354.500000</td>\n",
       "      <td>1.165994e+07</td>\n",
       "      <td>1.000000</td>\n",
       "    </tr>\n",
       "    <tr>\n",
       "      <th>50%</th>\n",
       "      <td>14580.000000</td>\n",
       "      <td>1.240746e+07</td>\n",
       "      <td>1.000000</td>\n",
       "    </tr>\n",
       "    <tr>\n",
       "      <th>75%</th>\n",
       "      <td>21813.500000</td>\n",
       "      <td>1.265833e+07</td>\n",
       "      <td>1.000000</td>\n",
       "    </tr>\n",
       "    <tr>\n",
       "      <th>max</th>\n",
       "      <td>27777.000000</td>\n",
       "      <td>1.412948e+07</td>\n",
       "      <td>275.000000</td>\n",
       "    </tr>\n",
       "  </tbody>\n",
       "</table>\n",
       "</div>"
      ],
      "text/plain": [
       "             UserId     productid      Quantity\n",
       "count  74915.000000  7.491500e+04  74915.000000\n",
       "mean   14493.035173  1.232877e+07      1.793539\n",
       "std     8248.096978  5.583793e+05      4.705072\n",
       "min        0.000000  1.113919e+07      1.000000\n",
       "25%     7354.500000  1.165994e+07      1.000000\n",
       "50%    14580.000000  1.240746e+07      1.000000\n",
       "75%    21813.500000  1.265833e+07      1.000000\n",
       "max    27777.000000  1.412948e+07    275.000000"
      ]
     },
     "execution_count": 44,
     "metadata": {},
     "output_type": "execute_result"
    }
   ],
   "source": [
    "train_agg.describe()"
   ]
  },
  {
   "cell_type": "code",
   "execution_count": 45,
   "metadata": {},
   "outputs": [
    {
     "data": {
      "text/html": [
       "<div>\n",
       "<style scoped>\n",
       "    .dataframe tbody tr th:only-of-type {\n",
       "        vertical-align: middle;\n",
       "    }\n",
       "\n",
       "    .dataframe tbody tr th {\n",
       "        vertical-align: top;\n",
       "    }\n",
       "\n",
       "    .dataframe thead th {\n",
       "        text-align: right;\n",
       "    }\n",
       "</style>\n",
       "<table border=\"1\" class=\"dataframe\">\n",
       "  <thead>\n",
       "    <tr style=\"text-align: right;\">\n",
       "      <th></th>\n",
       "      <th>UserId</th>\n",
       "      <th>productid</th>\n",
       "      <th>Quantity</th>\n",
       "    </tr>\n",
       "  </thead>\n",
       "  <tbody>\n",
       "    <tr>\n",
       "      <th>0</th>\n",
       "      <td>0</td>\n",
       "      <td>11659624</td>\n",
       "      <td>1</td>\n",
       "    </tr>\n",
       "    <tr>\n",
       "      <th>1</th>\n",
       "      <td>1</td>\n",
       "      <td>12406904</td>\n",
       "      <td>1</td>\n",
       "    </tr>\n",
       "    <tr>\n",
       "      <th>2</th>\n",
       "      <td>2</td>\n",
       "      <td>11660064</td>\n",
       "      <td>1</td>\n",
       "    </tr>\n",
       "    <tr>\n",
       "      <th>3</th>\n",
       "      <td>3</td>\n",
       "      <td>12360440</td>\n",
       "      <td>3</td>\n",
       "    </tr>\n",
       "    <tr>\n",
       "      <th>4</th>\n",
       "      <td>3</td>\n",
       "      <td>12371354</td>\n",
       "      <td>3</td>\n",
       "    </tr>\n",
       "  </tbody>\n",
       "</table>\n",
       "</div>"
      ],
      "text/plain": [
       "   UserId  productid  Quantity\n",
       "0       0   11659624         1\n",
       "1       1   12406904         1\n",
       "2       2   11660064         1\n",
       "3       3   12360440         3\n",
       "4       3   12371354         3"
      ]
     },
     "execution_count": 45,
     "metadata": {},
     "output_type": "execute_result"
    }
   ],
   "source": [
    "train_agg.head()"
   ]
  },
  {
   "cell_type": "code",
   "execution_count": 46,
   "metadata": {},
   "outputs": [
    {
     "data": {
      "text/html": [
       "<div>\n",
       "<style scoped>\n",
       "    .dataframe tbody tr th:only-of-type {\n",
       "        vertical-align: middle;\n",
       "    }\n",
       "\n",
       "    .dataframe tbody tr th {\n",
       "        vertical-align: top;\n",
       "    }\n",
       "\n",
       "    .dataframe thead th {\n",
       "        text-align: right;\n",
       "    }\n",
       "</style>\n",
       "<table border=\"1\" class=\"dataframe\">\n",
       "  <thead>\n",
       "    <tr style=\"text-align: right;\">\n",
       "      <th></th>\n",
       "      <th>productid</th>\n",
       "      <th>Category</th>\n",
       "      <th>Collection</th>\n",
       "      <th>Color</th>\n",
       "      <th>Fabric</th>\n",
       "      <th>Fit</th>\n",
       "      <th>Material</th>\n",
       "      <th>Neckline</th>\n",
       "      <th>Season</th>\n",
       "      <th>Sleeve Length</th>\n",
       "      <th>...</th>\n",
       "      <th>119</th>\n",
       "      <th>120</th>\n",
       "      <th>121</th>\n",
       "      <th>122</th>\n",
       "      <th>123</th>\n",
       "      <th>124</th>\n",
       "      <th>125</th>\n",
       "      <th>126</th>\n",
       "      <th>127</th>\n",
       "      <th>weight</th>\n",
       "    </tr>\n",
       "  </thead>\n",
       "  <tbody>\n",
       "    <tr>\n",
       "      <th>0</th>\n",
       "      <td>11139192</td>\n",
       "      <td>1.0</td>\n",
       "      <td>NaN</td>\n",
       "      <td>41.0</td>\n",
       "      <td>2.0</td>\n",
       "      <td>0.0</td>\n",
       "      <td>NaN</td>\n",
       "      <td>NaN</td>\n",
       "      <td>42.0</td>\n",
       "      <td>NaN</td>\n",
       "      <td>...</td>\n",
       "      <td>4.911317</td>\n",
       "      <td>1.159197</td>\n",
       "      <td>0.0</td>\n",
       "      <td>0.0</td>\n",
       "      <td>0.0</td>\n",
       "      <td>4.993309</td>\n",
       "      <td>3.730699</td>\n",
       "      <td>6.143026</td>\n",
       "      <td>2.172697</td>\n",
       "      <td>0.000186</td>\n",
       "    </tr>\n",
       "    <tr>\n",
       "      <th>1</th>\n",
       "      <td>11139194</td>\n",
       "      <td>1.0</td>\n",
       "      <td>NaN</td>\n",
       "      <td>25.0</td>\n",
       "      <td>2.0</td>\n",
       "      <td>0.0</td>\n",
       "      <td>NaN</td>\n",
       "      <td>NaN</td>\n",
       "      <td>42.0</td>\n",
       "      <td>NaN</td>\n",
       "      <td>...</td>\n",
       "      <td>6.458517</td>\n",
       "      <td>1.193308</td>\n",
       "      <td>0.0</td>\n",
       "      <td>0.0</td>\n",
       "      <td>0.0</td>\n",
       "      <td>5.007014</td>\n",
       "      <td>3.746132</td>\n",
       "      <td>6.187249</td>\n",
       "      <td>2.152506</td>\n",
       "      <td>0.000186</td>\n",
       "    </tr>\n",
       "    <tr>\n",
       "      <th>2</th>\n",
       "      <td>11139524</td>\n",
       "      <td>1.0</td>\n",
       "      <td>NaN</td>\n",
       "      <td>95.0</td>\n",
       "      <td>16.0</td>\n",
       "      <td>14.0</td>\n",
       "      <td>NaN</td>\n",
       "      <td>4.0</td>\n",
       "      <td>42.0</td>\n",
       "      <td>23.0</td>\n",
       "      <td>...</td>\n",
       "      <td>5.540466</td>\n",
       "      <td>1.266984</td>\n",
       "      <td>0.0</td>\n",
       "      <td>0.0</td>\n",
       "      <td>0.0</td>\n",
       "      <td>5.071997</td>\n",
       "      <td>3.819778</td>\n",
       "      <td>6.249762</td>\n",
       "      <td>2.096569</td>\n",
       "      <td>0.000804</td>\n",
       "    </tr>\n",
       "    <tr>\n",
       "      <th>3</th>\n",
       "      <td>11139560</td>\n",
       "      <td>1.0</td>\n",
       "      <td>NaN</td>\n",
       "      <td>41.0</td>\n",
       "      <td>2.0</td>\n",
       "      <td>14.0</td>\n",
       "      <td>NaN</td>\n",
       "      <td>4.0</td>\n",
       "      <td>42.0</td>\n",
       "      <td>127.0</td>\n",
       "      <td>...</td>\n",
       "      <td>4.744660</td>\n",
       "      <td>1.143350</td>\n",
       "      <td>0.0</td>\n",
       "      <td>0.0</td>\n",
       "      <td>0.0</td>\n",
       "      <td>4.985752</td>\n",
       "      <td>3.730562</td>\n",
       "      <td>6.121748</td>\n",
       "      <td>2.182537</td>\n",
       "      <td>0.000074</td>\n",
       "    </tr>\n",
       "    <tr>\n",
       "      <th>4</th>\n",
       "      <td>11139588</td>\n",
       "      <td>1.0</td>\n",
       "      <td>NaN</td>\n",
       "      <td>25.0</td>\n",
       "      <td>58.0</td>\n",
       "      <td>0.0</td>\n",
       "      <td>NaN</td>\n",
       "      <td>NaN</td>\n",
       "      <td>42.0</td>\n",
       "      <td>NaN</td>\n",
       "      <td>...</td>\n",
       "      <td>4.838794</td>\n",
       "      <td>1.178572</td>\n",
       "      <td>0.0</td>\n",
       "      <td>0.0</td>\n",
       "      <td>0.0</td>\n",
       "      <td>5.050524</td>\n",
       "      <td>3.806188</td>\n",
       "      <td>6.179358</td>\n",
       "      <td>2.183246</td>\n",
       "      <td>0.000022</td>\n",
       "    </tr>\n",
       "  </tbody>\n",
       "</table>\n",
       "<p>5 rows × 139 columns</p>\n",
       "</div>"
      ],
      "text/plain": [
       "   productid  Category  Collection  Color  Fabric   Fit  Material  Neckline  \\\n",
       "0   11139192       1.0         NaN   41.0     2.0   0.0       NaN       NaN   \n",
       "1   11139194       1.0         NaN   25.0     2.0   0.0       NaN       NaN   \n",
       "2   11139524       1.0         NaN   95.0    16.0  14.0       NaN       4.0   \n",
       "3   11139560       1.0         NaN   41.0     2.0  14.0       NaN       4.0   \n",
       "4   11139588       1.0         NaN   25.0    58.0   0.0       NaN       NaN   \n",
       "\n",
       "   Season  Sleeve Length    ...          119       120  121  122  123  \\\n",
       "0    42.0            NaN    ...     4.911317  1.159197  0.0  0.0  0.0   \n",
       "1    42.0            NaN    ...     6.458517  1.193308  0.0  0.0  0.0   \n",
       "2    42.0           23.0    ...     5.540466  1.266984  0.0  0.0  0.0   \n",
       "3    42.0          127.0    ...     4.744660  1.143350  0.0  0.0  0.0   \n",
       "4    42.0            NaN    ...     4.838794  1.178572  0.0  0.0  0.0   \n",
       "\n",
       "        124       125       126       127    weight  \n",
       "0  4.993309  3.730699  6.143026  2.172697  0.000186  \n",
       "1  5.007014  3.746132  6.187249  2.152506  0.000186  \n",
       "2  5.071997  3.819778  6.249762  2.096569  0.000804  \n",
       "3  4.985752  3.730562  6.121748  2.182537  0.000074  \n",
       "4  5.050524  3.806188  6.179358  2.183246  0.000022  \n",
       "\n",
       "[5 rows x 139 columns]"
      ]
     },
     "execution_count": 46,
     "metadata": {},
     "output_type": "execute_result"
    }
   ],
   "source": [
    "product_wide.head()"
   ]
  },
  {
   "cell_type": "code",
   "execution_count": 47,
   "metadata": {},
   "outputs": [],
   "source": [
    "final_train = train_agg.merge(product_wide, on='productid', how='left').fillna(-1)"
   ]
  },
  {
   "cell_type": "code",
   "execution_count": 48,
   "metadata": {},
   "outputs": [
    {
     "data": {
      "text/plain": [
       "27778"
      ]
     },
     "execution_count": 48,
     "metadata": {},
     "output_type": "execute_result"
    }
   ],
   "source": [
    "final_train['UserId'].nunique()"
   ]
  },
  {
   "cell_type": "code",
   "execution_count": 49,
   "metadata": {},
   "outputs": [
    {
     "name": "stdout",
     "output_type": "stream",
     "text": [
      "UserId 27778\n",
      "productid 3026\n",
      "Quantity 108\n",
      "Category 6\n",
      "Collection 22\n",
      "Color 134\n",
      "Fabric 35\n",
      "Fit 8\n",
      "Material 5\n",
      "Neckline 14\n",
      "Season 9\n",
      "Sleeve Length 16\n",
      "0 2961\n",
      "1 3002\n",
      "2 2959\n",
      "3 2957\n",
      "4 3001\n",
      "5 3001\n",
      "6 3001\n",
      "7 2995\n",
      "8 2892\n",
      "9 3001\n",
      "10 3\n",
      "11 850\n",
      "12 3001\n",
      "13 3001\n",
      "14 3001\n",
      "15 3002\n",
      "16 2863\n",
      "17 3002\n",
      "18 9\n",
      "19 1505\n",
      "20 3000\n",
      "21 3002\n",
      "22 3000\n",
      "23 3001\n",
      "24 2711\n",
      "25 2999\n",
      "26 2\n",
      "27 187\n",
      "28 2997\n",
      "29 3002\n",
      "30 2997\n",
      "31 3000\n",
      "32 2996\n",
      "33 2634\n",
      "34 2961\n",
      "35 705\n",
      "36 3002\n",
      "37 3000\n",
      "38 3000\n",
      "39 2999\n",
      "40 2989\n",
      "41 2982\n",
      "42 42\n",
      "43 1013\n",
      "44 3002\n",
      "45 3002\n",
      "46 3001\n",
      "47 3002\n",
      "48 2992\n",
      "49 2822\n",
      "50 40\n",
      "51 2334\n",
      "52 2943\n",
      "53 3002\n",
      "54 3001\n",
      "55 3001\n",
      "56 2755\n",
      "57 3001\n",
      "58 2\n",
      "59 192\n",
      "60 2992\n",
      "61 3001\n",
      "62 3000\n",
      "63 3002\n",
      "64 2965\n",
      "65 2328\n",
      "66 2967\n",
      "67 701\n",
      "68 3001\n",
      "69 3001\n",
      "70 3002\n",
      "71 2999\n",
      "72 2971\n",
      "73 2985\n",
      "74 102\n",
      "75 679\n",
      "76 3002\n",
      "77 3001\n",
      "78 3002\n",
      "79 3002\n",
      "80 2873\n",
      "81 2636\n",
      "82 33\n",
      "83 2118\n",
      "84 2710\n",
      "85 3002\n",
      "86 3001\n",
      "87 3002\n",
      "88 2662\n",
      "89 3001\n",
      "90 2\n",
      "91 228\n",
      "92 2992\n",
      "93 3002\n",
      "94 2998\n",
      "95 3001\n",
      "96 2871\n",
      "97 174\n",
      "98 2978\n",
      "99 2975\n",
      "100 3002\n",
      "101 2999\n",
      "102 3000\n",
      "103 2971\n",
      "104 2641\n",
      "105 876\n",
      "106 868\n",
      "107 2689\n",
      "108 3002\n",
      "109 3002\n",
      "110 3002\n",
      "111 3002\n",
      "112 2816\n",
      "113 401\n",
      "114 1663\n",
      "115 2833\n",
      "116 3001\n",
      "117 3002\n",
      "118 3001\n",
      "119 3000\n",
      "120 2702\n",
      "121 315\n",
      "122 5\n",
      "123 238\n",
      "124 2989\n",
      "125 2993\n",
      "126 2850\n",
      "127 2990\n",
      "weight 240\n"
     ]
    }
   ],
   "source": [
    "for i in final_train.columns:\n",
    "    print(i,final_train[i].nunique())"
   ]
  },
  {
   "cell_type": "code",
   "execution_count": 50,
   "metadata": {},
   "outputs": [],
   "source": [
    "final_train = pd.get_dummies(final_train,columns = ['Category','Fit','Material','Season','Collection'])"
   ]
  },
  {
   "cell_type": "code",
   "execution_count": 51,
   "metadata": {},
   "outputs": [],
   "source": [
    "final_user_mean = final_train.groupby('UserId').mean().reset_index()\n"
   ]
  },
  {
   "cell_type": "code",
   "execution_count": 52,
   "metadata": {},
   "outputs": [],
   "source": [
    "final_user_mean = final_user_mean.drop('productid',axis=1)"
   ]
  },
  {
   "cell_type": "code",
   "execution_count": 53,
   "metadata": {},
   "outputs": [
    {
     "data": {
      "text/html": [
       "<div>\n",
       "<style scoped>\n",
       "    .dataframe tbody tr th:only-of-type {\n",
       "        vertical-align: middle;\n",
       "    }\n",
       "\n",
       "    .dataframe tbody tr th {\n",
       "        vertical-align: top;\n",
       "    }\n",
       "\n",
       "    .dataframe thead th {\n",
       "        text-align: right;\n",
       "    }\n",
       "</style>\n",
       "<table border=\"1\" class=\"dataframe\">\n",
       "  <thead>\n",
       "    <tr style=\"text-align: right;\">\n",
       "      <th></th>\n",
       "      <th>UserId</th>\n",
       "      <th>Quantity</th>\n",
       "      <th>Color</th>\n",
       "      <th>Fabric</th>\n",
       "      <th>Neckline</th>\n",
       "      <th>Sleeve Length</th>\n",
       "      <th>0</th>\n",
       "      <th>1</th>\n",
       "      <th>2</th>\n",
       "      <th>3</th>\n",
       "      <th>...</th>\n",
       "      <th>Collection_97.0</th>\n",
       "      <th>Collection_101.0</th>\n",
       "      <th>Collection_105.0</th>\n",
       "      <th>Collection_109.0</th>\n",
       "      <th>Collection_110.0</th>\n",
       "      <th>Collection_135.0</th>\n",
       "      <th>Collection_143.0</th>\n",
       "      <th>Collection_168.0</th>\n",
       "      <th>Collection_178.0</th>\n",
       "      <th>Collection_212.0</th>\n",
       "    </tr>\n",
       "  </thead>\n",
       "  <tbody>\n",
       "    <tr>\n",
       "      <th>0</th>\n",
       "      <td>0</td>\n",
       "      <td>1.0</td>\n",
       "      <td>32.000000</td>\n",
       "      <td>27.000000</td>\n",
       "      <td>8.0</td>\n",
       "      <td>3.000000</td>\n",
       "      <td>4.195914</td>\n",
       "      <td>1.257853</td>\n",
       "      <td>0.322902</td>\n",
       "      <td>0.183609</td>\n",
       "      <td>...</td>\n",
       "      <td>0.0</td>\n",
       "      <td>0.0</td>\n",
       "      <td>0.0</td>\n",
       "      <td>0.0</td>\n",
       "      <td>0.0</td>\n",
       "      <td>0.0</td>\n",
       "      <td>0.0</td>\n",
       "      <td>0.0</td>\n",
       "      <td>0.0</td>\n",
       "      <td>0.0</td>\n",
       "    </tr>\n",
       "    <tr>\n",
       "      <th>1</th>\n",
       "      <td>1</td>\n",
       "      <td>1.0</td>\n",
       "      <td>18.000000</td>\n",
       "      <td>2.000000</td>\n",
       "      <td>8.0</td>\n",
       "      <td>3.000000</td>\n",
       "      <td>3.907451</td>\n",
       "      <td>0.816400</td>\n",
       "      <td>0.576612</td>\n",
       "      <td>0.334741</td>\n",
       "      <td>...</td>\n",
       "      <td>0.0</td>\n",
       "      <td>0.0</td>\n",
       "      <td>0.0</td>\n",
       "      <td>0.0</td>\n",
       "      <td>0.0</td>\n",
       "      <td>0.0</td>\n",
       "      <td>0.0</td>\n",
       "      <td>0.0</td>\n",
       "      <td>0.0</td>\n",
       "      <td>0.0</td>\n",
       "    </tr>\n",
       "    <tr>\n",
       "      <th>2</th>\n",
       "      <td>2</td>\n",
       "      <td>1.0</td>\n",
       "      <td>84.000000</td>\n",
       "      <td>55.000000</td>\n",
       "      <td>4.0</td>\n",
       "      <td>23.000000</td>\n",
       "      <td>4.198674</td>\n",
       "      <td>1.178635</td>\n",
       "      <td>0.201583</td>\n",
       "      <td>0.155827</td>\n",
       "      <td>...</td>\n",
       "      <td>0.0</td>\n",
       "      <td>0.0</td>\n",
       "      <td>0.0</td>\n",
       "      <td>0.0</td>\n",
       "      <td>0.0</td>\n",
       "      <td>0.0</td>\n",
       "      <td>0.0</td>\n",
       "      <td>0.0</td>\n",
       "      <td>0.0</td>\n",
       "      <td>0.0</td>\n",
       "    </tr>\n",
       "    <tr>\n",
       "      <th>3</th>\n",
       "      <td>3</td>\n",
       "      <td>3.0</td>\n",
       "      <td>36.833333</td>\n",
       "      <td>29.333333</td>\n",
       "      <td>3.0</td>\n",
       "      <td>1.666667</td>\n",
       "      <td>3.684750</td>\n",
       "      <td>1.293983</td>\n",
       "      <td>0.411151</td>\n",
       "      <td>0.140957</td>\n",
       "      <td>...</td>\n",
       "      <td>0.0</td>\n",
       "      <td>0.0</td>\n",
       "      <td>0.0</td>\n",
       "      <td>0.0</td>\n",
       "      <td>0.0</td>\n",
       "      <td>0.0</td>\n",
       "      <td>0.0</td>\n",
       "      <td>0.0</td>\n",
       "      <td>0.0</td>\n",
       "      <td>0.0</td>\n",
       "    </tr>\n",
       "    <tr>\n",
       "      <th>4</th>\n",
       "      <td>4</td>\n",
       "      <td>1.0</td>\n",
       "      <td>31.500000</td>\n",
       "      <td>69.000000</td>\n",
       "      <td>1.5</td>\n",
       "      <td>1.000000</td>\n",
       "      <td>4.055511</td>\n",
       "      <td>1.048939</td>\n",
       "      <td>0.368861</td>\n",
       "      <td>0.142415</td>\n",
       "      <td>...</td>\n",
       "      <td>0.0</td>\n",
       "      <td>0.0</td>\n",
       "      <td>0.0</td>\n",
       "      <td>0.0</td>\n",
       "      <td>0.0</td>\n",
       "      <td>0.0</td>\n",
       "      <td>0.0</td>\n",
       "      <td>0.0</td>\n",
       "      <td>0.0</td>\n",
       "      <td>0.0</td>\n",
       "    </tr>\n",
       "  </tbody>\n",
       "</table>\n",
       "<p>5 rows × 185 columns</p>\n",
       "</div>"
      ],
      "text/plain": [
       "   UserId  Quantity      Color     Fabric  Neckline  Sleeve Length         0  \\\n",
       "0       0       1.0  32.000000  27.000000       8.0       3.000000  4.195914   \n",
       "1       1       1.0  18.000000   2.000000       8.0       3.000000  3.907451   \n",
       "2       2       1.0  84.000000  55.000000       4.0      23.000000  4.198674   \n",
       "3       3       3.0  36.833333  29.333333       3.0       1.666667  3.684750   \n",
       "4       4       1.0  31.500000  69.000000       1.5       1.000000  4.055511   \n",
       "\n",
       "          1         2         3        ...         Collection_97.0  \\\n",
       "0  1.257853  0.322902  0.183609        ...                     0.0   \n",
       "1  0.816400  0.576612  0.334741        ...                     0.0   \n",
       "2  1.178635  0.201583  0.155827        ...                     0.0   \n",
       "3  1.293983  0.411151  0.140957        ...                     0.0   \n",
       "4  1.048939  0.368861  0.142415        ...                     0.0   \n",
       "\n",
       "   Collection_101.0  Collection_105.0  Collection_109.0  Collection_110.0  \\\n",
       "0               0.0               0.0               0.0               0.0   \n",
       "1               0.0               0.0               0.0               0.0   \n",
       "2               0.0               0.0               0.0               0.0   \n",
       "3               0.0               0.0               0.0               0.0   \n",
       "4               0.0               0.0               0.0               0.0   \n",
       "\n",
       "   Collection_135.0  Collection_143.0  Collection_168.0  Collection_178.0  \\\n",
       "0               0.0               0.0               0.0               0.0   \n",
       "1               0.0               0.0               0.0               0.0   \n",
       "2               0.0               0.0               0.0               0.0   \n",
       "3               0.0               0.0               0.0               0.0   \n",
       "4               0.0               0.0               0.0               0.0   \n",
       "\n",
       "   Collection_212.0  \n",
       "0               0.0  \n",
       "1               0.0  \n",
       "2               0.0  \n",
       "3               0.0  \n",
       "4               0.0  \n",
       "\n",
       "[5 rows x 185 columns]"
      ]
     },
     "execution_count": 53,
     "metadata": {},
     "output_type": "execute_result"
    }
   ],
   "source": [
    "final_user_mean.head()"
   ]
  },
  {
   "cell_type": "code",
   "execution_count": 54,
   "metadata": {},
   "outputs": [
    {
     "data": {
      "text/plain": [
       "(27778, 185)"
      ]
     },
     "execution_count": 54,
     "metadata": {},
     "output_type": "execute_result"
    }
   ],
   "source": [
    "final_user_mean.shape"
   ]
  },
  {
   "cell_type": "code",
   "execution_count": 55,
   "metadata": {},
   "outputs": [],
   "source": [
    "scaler = StandardScaler()  "
   ]
  },
  {
   "cell_type": "code",
   "execution_count": 56,
   "metadata": {},
   "outputs": [],
   "source": [
    "#scaler.fit_transform(final_user_mean.iloc[:,1:])"
   ]
  },
  {
   "cell_type": "code",
   "execution_count": 57,
   "metadata": {},
   "outputs": [
    {
     "data": {
      "text/plain": [
       "(27778, 185)"
      ]
     },
     "execution_count": 57,
     "metadata": {},
     "output_type": "execute_result"
    }
   ],
   "source": [
    "final_user_mean.shape"
   ]
  },
  {
   "cell_type": "code",
   "execution_count": 58,
   "metadata": {},
   "outputs": [],
   "source": [
    "#collab_pred = total_df.apply(lambda x: algo.predict(x[0],x[1]),axis=1)"
   ]
  },
  {
   "cell_type": "code",
   "execution_count": 59,
   "metadata": {},
   "outputs": [
    {
     "name": "stderr",
     "output_type": "stream",
     "text": [
      "/anaconda3/lib/python3.7/site-packages/sklearn/preprocessing/data.py:617: DataConversionWarning: Data with input dtype float32, float64 were all converted to float64 by StandardScaler.\n",
      "  return self.partial_fit(X, y)\n",
      "/anaconda3/lib/python3.7/site-packages/sklearn/base.py:462: DataConversionWarning: Data with input dtype float32, float64 were all converted to float64 by StandardScaler.\n",
      "  return self.fit(X, **fit_params).transform(X)\n"
     ]
    }
   ],
   "source": [
    "nbrs = NearestNeighbors(n_neighbors=30, algorithm='auto',metric='cosine').fit(scaler.fit_transform(final_user_mean.iloc[:,1:]))\n"
   ]
  },
  {
   "cell_type": "code",
   "execution_count": 60,
   "metadata": {},
   "outputs": [
    {
     "name": "stderr",
     "output_type": "stream",
     "text": [
      "/anaconda3/lib/python3.7/site-packages/sklearn/preprocessing/data.py:617: DataConversionWarning: Data with input dtype float32, float64 were all converted to float64 by StandardScaler.\n",
      "  return self.partial_fit(X, y)\n",
      "/anaconda3/lib/python3.7/site-packages/sklearn/base.py:462: DataConversionWarning: Data with input dtype float32, float64 were all converted to float64 by StandardScaler.\n",
      "  return self.fit(X, **fit_params).transform(X)\n"
     ]
    }
   ],
   "source": [
    "distances, indices = nbrs.kneighbors(scaler.fit_transform(final_user_mean.iloc[:,1:]))"
   ]
  },
  {
   "cell_type": "code",
   "execution_count": 61,
   "metadata": {},
   "outputs": [],
   "source": [
    "#distances"
   ]
  },
  {
   "cell_type": "code",
   "execution_count": 62,
   "metadata": {},
   "outputs": [
    {
     "data": {
      "text/plain": [
       "(27778, 30)"
      ]
     },
     "execution_count": 62,
     "metadata": {},
     "output_type": "execute_result"
    }
   ],
   "source": [
    "indices.shape"
   ]
  },
  {
   "cell_type": "code",
   "execution_count": 63,
   "metadata": {},
   "outputs": [],
   "source": [
    "nearest_n = pd.DataFrame(indices)"
   ]
  },
  {
   "cell_type": "code",
   "execution_count": 64,
   "metadata": {},
   "outputs": [],
   "source": [
    "nearest_n['UserId'] = nearest_n.index"
   ]
  },
  {
   "cell_type": "code",
   "execution_count": 65,
   "metadata": {},
   "outputs": [
    {
     "data": {
      "text/html": [
       "<div>\n",
       "<style scoped>\n",
       "    .dataframe tbody tr th:only-of-type {\n",
       "        vertical-align: middle;\n",
       "    }\n",
       "\n",
       "    .dataframe tbody tr th {\n",
       "        vertical-align: top;\n",
       "    }\n",
       "\n",
       "    .dataframe thead th {\n",
       "        text-align: right;\n",
       "    }\n",
       "</style>\n",
       "<table border=\"1\" class=\"dataframe\">\n",
       "  <thead>\n",
       "    <tr style=\"text-align: right;\">\n",
       "      <th></th>\n",
       "      <th>0</th>\n",
       "      <th>1</th>\n",
       "      <th>2</th>\n",
       "      <th>3</th>\n",
       "      <th>4</th>\n",
       "      <th>5</th>\n",
       "      <th>6</th>\n",
       "      <th>7</th>\n",
       "      <th>8</th>\n",
       "      <th>9</th>\n",
       "      <th>...</th>\n",
       "      <th>21</th>\n",
       "      <th>22</th>\n",
       "      <th>23</th>\n",
       "      <th>24</th>\n",
       "      <th>25</th>\n",
       "      <th>26</th>\n",
       "      <th>27</th>\n",
       "      <th>28</th>\n",
       "      <th>29</th>\n",
       "      <th>UserId</th>\n",
       "    </tr>\n",
       "  </thead>\n",
       "  <tbody>\n",
       "    <tr>\n",
       "      <th>0</th>\n",
       "      <td>2585</td>\n",
       "      <td>22179</td>\n",
       "      <td>20486</td>\n",
       "      <td>17813</td>\n",
       "      <td>10809</td>\n",
       "      <td>517</td>\n",
       "      <td>3382</td>\n",
       "      <td>18362</td>\n",
       "      <td>26951</td>\n",
       "      <td>11328</td>\n",
       "      <td>...</td>\n",
       "      <td>27460</td>\n",
       "      <td>23480</td>\n",
       "      <td>10420</td>\n",
       "      <td>8063</td>\n",
       "      <td>8474</td>\n",
       "      <td>356</td>\n",
       "      <td>25880</td>\n",
       "      <td>26712</td>\n",
       "      <td>21695</td>\n",
       "      <td>0</td>\n",
       "    </tr>\n",
       "    <tr>\n",
       "      <th>1</th>\n",
       "      <td>7602</td>\n",
       "      <td>9810</td>\n",
       "      <td>15897</td>\n",
       "      <td>2223</td>\n",
       "      <td>11106</td>\n",
       "      <td>10189</td>\n",
       "      <td>8830</td>\n",
       "      <td>30</td>\n",
       "      <td>12710</td>\n",
       "      <td>2714</td>\n",
       "      <td>...</td>\n",
       "      <td>20206</td>\n",
       "      <td>11667</td>\n",
       "      <td>4033</td>\n",
       "      <td>4097</td>\n",
       "      <td>4205</td>\n",
       "      <td>4647</td>\n",
       "      <td>2351</td>\n",
       "      <td>6692</td>\n",
       "      <td>2146</td>\n",
       "      <td>1</td>\n",
       "    </tr>\n",
       "    <tr>\n",
       "      <th>2</th>\n",
       "      <td>17556</td>\n",
       "      <td>3057</td>\n",
       "      <td>13554</td>\n",
       "      <td>12420</td>\n",
       "      <td>10630</td>\n",
       "      <td>2819</td>\n",
       "      <td>16608</td>\n",
       "      <td>7661</td>\n",
       "      <td>27499</td>\n",
       "      <td>5577</td>\n",
       "      <td>...</td>\n",
       "      <td>3563</td>\n",
       "      <td>26746</td>\n",
       "      <td>8638</td>\n",
       "      <td>4901</td>\n",
       "      <td>11209</td>\n",
       "      <td>11292</td>\n",
       "      <td>10658</td>\n",
       "      <td>14682</td>\n",
       "      <td>12868</td>\n",
       "      <td>2</td>\n",
       "    </tr>\n",
       "    <tr>\n",
       "      <th>3</th>\n",
       "      <td>3</td>\n",
       "      <td>21421</td>\n",
       "      <td>12335</td>\n",
       "      <td>23438</td>\n",
       "      <td>5615</td>\n",
       "      <td>19459</td>\n",
       "      <td>18128</td>\n",
       "      <td>15107</td>\n",
       "      <td>734</td>\n",
       "      <td>20087</td>\n",
       "      <td>...</td>\n",
       "      <td>4906</td>\n",
       "      <td>7388</td>\n",
       "      <td>18632</td>\n",
       "      <td>10839</td>\n",
       "      <td>26501</td>\n",
       "      <td>11762</td>\n",
       "      <td>1978</td>\n",
       "      <td>21565</td>\n",
       "      <td>18921</td>\n",
       "      <td>3</td>\n",
       "    </tr>\n",
       "    <tr>\n",
       "      <th>4</th>\n",
       "      <td>4</td>\n",
       "      <td>12231</td>\n",
       "      <td>19833</td>\n",
       "      <td>25383</td>\n",
       "      <td>17326</td>\n",
       "      <td>1707</td>\n",
       "      <td>26545</td>\n",
       "      <td>12921</td>\n",
       "      <td>11777</td>\n",
       "      <td>10765</td>\n",
       "      <td>...</td>\n",
       "      <td>12412</td>\n",
       "      <td>9389</td>\n",
       "      <td>6121</td>\n",
       "      <td>19895</td>\n",
       "      <td>8631</td>\n",
       "      <td>482</td>\n",
       "      <td>21528</td>\n",
       "      <td>1458</td>\n",
       "      <td>10132</td>\n",
       "      <td>4</td>\n",
       "    </tr>\n",
       "  </tbody>\n",
       "</table>\n",
       "<p>5 rows × 31 columns</p>\n",
       "</div>"
      ],
      "text/plain": [
       "       0      1      2      3      4      5      6      7      8      9  \\\n",
       "0   2585  22179  20486  17813  10809    517   3382  18362  26951  11328   \n",
       "1   7602   9810  15897   2223  11106  10189   8830     30  12710   2714   \n",
       "2  17556   3057  13554  12420  10630   2819  16608   7661  27499   5577   \n",
       "3      3  21421  12335  23438   5615  19459  18128  15107    734  20087   \n",
       "4      4  12231  19833  25383  17326   1707  26545  12921  11777  10765   \n",
       "\n",
       "    ...       21     22     23     24     25     26     27     28     29  \\\n",
       "0   ...    27460  23480  10420   8063   8474    356  25880  26712  21695   \n",
       "1   ...    20206  11667   4033   4097   4205   4647   2351   6692   2146   \n",
       "2   ...     3563  26746   8638   4901  11209  11292  10658  14682  12868   \n",
       "3   ...     4906   7388  18632  10839  26501  11762   1978  21565  18921   \n",
       "4   ...    12412   9389   6121  19895   8631    482  21528   1458  10132   \n",
       "\n",
       "   UserId  \n",
       "0       0  \n",
       "1       1  \n",
       "2       2  \n",
       "3       3  \n",
       "4       4  \n",
       "\n",
       "[5 rows x 31 columns]"
      ]
     },
     "execution_count": 65,
     "metadata": {},
     "output_type": "execute_result"
    }
   ],
   "source": [
    "nearest_n.head()"
   ]
  },
  {
   "cell_type": "code",
   "execution_count": 66,
   "metadata": {},
   "outputs": [],
   "source": [
    "nearest_n_long = nearest_n.melt(id_vars='UserId').sort_values(['UserId','variable'])"
   ]
  },
  {
   "cell_type": "code",
   "execution_count": 67,
   "metadata": {},
   "outputs": [],
   "source": [
    "final_merged = nearest_n_long.merge(train_agg,left_on=['value'], right_on='UserId').sort_values(['UserId_x','variable'])\n",
    "\n"
   ]
  },
  {
   "cell_type": "code",
   "execution_count": 68,
   "metadata": {},
   "outputs": [],
   "source": [
    "check = final_merged.groupby('UserId_x')['productid'].nunique().reset_index()"
   ]
  },
  {
   "cell_type": "code",
   "execution_count": 69,
   "metadata": {},
   "outputs": [
    {
     "data": {
      "text/plain": [
       "[12658512,\n",
       " 12407154,\n",
       " 12407730,\n",
       " 12371378,\n",
       " 11659624,\n",
       " 12407400,\n",
       " 12406904,\n",
       " 12407742,\n",
       " 12407398,\n",
       " 12360424]"
      ]
     },
     "execution_count": 69,
     "metadata": {},
     "output_type": "execute_result"
    }
   ],
   "source": [
    "top10"
   ]
  },
  {
   "cell_type": "code",
   "execution_count": 70,
   "metadata": {},
   "outputs": [
    {
     "data": {
      "text/html": [
       "<div>\n",
       "<style scoped>\n",
       "    .dataframe tbody tr th:only-of-type {\n",
       "        vertical-align: middle;\n",
       "    }\n",
       "\n",
       "    .dataframe tbody tr th {\n",
       "        vertical-align: top;\n",
       "    }\n",
       "\n",
       "    .dataframe thead th {\n",
       "        text-align: right;\n",
       "    }\n",
       "</style>\n",
       "<table border=\"1\" class=\"dataframe\">\n",
       "  <thead>\n",
       "    <tr style=\"text-align: right;\">\n",
       "      <th></th>\n",
       "      <th>UserId_x</th>\n",
       "      <th>variable</th>\n",
       "      <th>value</th>\n",
       "      <th>UserId_y</th>\n",
       "      <th>productid</th>\n",
       "      <th>Quantity</th>\n",
       "    </tr>\n",
       "  </thead>\n",
       "  <tbody>\n",
       "    <tr>\n",
       "      <th>0</th>\n",
       "      <td>0</td>\n",
       "      <td>0</td>\n",
       "      <td>2585</td>\n",
       "      <td>2585</td>\n",
       "      <td>11659624</td>\n",
       "      <td>1</td>\n",
       "    </tr>\n",
       "    <tr>\n",
       "      <th>46</th>\n",
       "      <td>0</td>\n",
       "      <td>1</td>\n",
       "      <td>22179</td>\n",
       "      <td>22179</td>\n",
       "      <td>11659624</td>\n",
       "      <td>1</td>\n",
       "    </tr>\n",
       "    <tr>\n",
       "      <th>101</th>\n",
       "      <td>0</td>\n",
       "      <td>2</td>\n",
       "      <td>20486</td>\n",
       "      <td>20486</td>\n",
       "      <td>11659624</td>\n",
       "      <td>1</td>\n",
       "    </tr>\n",
       "    <tr>\n",
       "      <th>157</th>\n",
       "      <td>0</td>\n",
       "      <td>3</td>\n",
       "      <td>17813</td>\n",
       "      <td>17813</td>\n",
       "      <td>11659624</td>\n",
       "      <td>1</td>\n",
       "    </tr>\n",
       "    <tr>\n",
       "      <th>213</th>\n",
       "      <td>0</td>\n",
       "      <td>4</td>\n",
       "      <td>10809</td>\n",
       "      <td>10809</td>\n",
       "      <td>11659624</td>\n",
       "      <td>1</td>\n",
       "    </tr>\n",
       "  </tbody>\n",
       "</table>\n",
       "</div>"
      ],
      "text/plain": [
       "     UserId_x variable  value  UserId_y  productid  Quantity\n",
       "0           0        0   2585      2585   11659624         1\n",
       "46          0        1  22179     22179   11659624         1\n",
       "101         0        2  20486     20486   11659624         1\n",
       "157         0        3  17813     17813   11659624         1\n",
       "213         0        4  10809     10809   11659624         1"
      ]
     },
     "execution_count": 70,
     "metadata": {},
     "output_type": "execute_result"
    }
   ],
   "source": [
    "final_merged.head()"
   ]
  },
  {
   "cell_type": "code",
   "execution_count": 79,
   "metadata": {},
   "outputs": [
    {
     "data": {
      "text/plain": [
       "(1890781, 6)"
      ]
     },
     "execution_count": 79,
     "metadata": {},
     "output_type": "execute_result"
    }
   ],
   "source": [
    "final_merged.shape"
   ]
  },
  {
   "cell_type": "code",
   "execution_count": 74,
   "metadata": {},
   "outputs": [],
   "source": [
    "user_unique_prod = train.groupby('UserId')['productid'].unique().reset_index()"
   ]
  },
  {
   "cell_type": "code",
   "execution_count": 75,
   "metadata": {},
   "outputs": [
    {
     "data": {
      "text/plain": [
       "(27778, 2)"
      ]
     },
     "execution_count": 75,
     "metadata": {},
     "output_type": "execute_result"
    }
   ],
   "source": [
    "user_unique_prod.shape"
   ]
  },
  {
   "cell_type": "code",
   "execution_count": 77,
   "metadata": {},
   "outputs": [],
   "source": [
    "final_merged1 = final_merged.drop(['UserId_y'],axis=1)"
   ]
  },
  {
   "cell_type": "code",
   "execution_count": 80,
   "metadata": {},
   "outputs": [],
   "source": [
    "final_merged1 = final_merged1.merge(user_unique_prod, left_on='UserId_x', right_on= 'UserId', how='inner')"
   ]
  },
  {
   "cell_type": "code",
   "execution_count": 82,
   "metadata": {},
   "outputs": [
    {
     "data": {
      "text/html": [
       "<div>\n",
       "<style scoped>\n",
       "    .dataframe tbody tr th:only-of-type {\n",
       "        vertical-align: middle;\n",
       "    }\n",
       "\n",
       "    .dataframe tbody tr th {\n",
       "        vertical-align: top;\n",
       "    }\n",
       "\n",
       "    .dataframe thead th {\n",
       "        text-align: right;\n",
       "    }\n",
       "</style>\n",
       "<table border=\"1\" class=\"dataframe\">\n",
       "  <thead>\n",
       "    <tr style=\"text-align: right;\">\n",
       "      <th></th>\n",
       "      <th>UserId_x</th>\n",
       "      <th>variable</th>\n",
       "      <th>value</th>\n",
       "      <th>productid_x</th>\n",
       "      <th>Quantity</th>\n",
       "      <th>UserId</th>\n",
       "      <th>productid_y</th>\n",
       "    </tr>\n",
       "  </thead>\n",
       "  <tbody>\n",
       "    <tr>\n",
       "      <th>0</th>\n",
       "      <td>0</td>\n",
       "      <td>0</td>\n",
       "      <td>2585</td>\n",
       "      <td>11659624</td>\n",
       "      <td>1</td>\n",
       "      <td>0</td>\n",
       "      <td>[11659624]</td>\n",
       "    </tr>\n",
       "    <tr>\n",
       "      <th>1</th>\n",
       "      <td>0</td>\n",
       "      <td>1</td>\n",
       "      <td>22179</td>\n",
       "      <td>11659624</td>\n",
       "      <td>1</td>\n",
       "      <td>0</td>\n",
       "      <td>[11659624]</td>\n",
       "    </tr>\n",
       "    <tr>\n",
       "      <th>2</th>\n",
       "      <td>0</td>\n",
       "      <td>2</td>\n",
       "      <td>20486</td>\n",
       "      <td>11659624</td>\n",
       "      <td>1</td>\n",
       "      <td>0</td>\n",
       "      <td>[11659624]</td>\n",
       "    </tr>\n",
       "    <tr>\n",
       "      <th>3</th>\n",
       "      <td>0</td>\n",
       "      <td>3</td>\n",
       "      <td>17813</td>\n",
       "      <td>11659624</td>\n",
       "      <td>1</td>\n",
       "      <td>0</td>\n",
       "      <td>[11659624]</td>\n",
       "    </tr>\n",
       "    <tr>\n",
       "      <th>4</th>\n",
       "      <td>0</td>\n",
       "      <td>4</td>\n",
       "      <td>10809</td>\n",
       "      <td>11659624</td>\n",
       "      <td>1</td>\n",
       "      <td>0</td>\n",
       "      <td>[11659624]</td>\n",
       "    </tr>\n",
       "  </tbody>\n",
       "</table>\n",
       "</div>"
      ],
      "text/plain": [
       "   UserId_x variable  value  productid_x  Quantity  UserId productid_y\n",
       "0         0        0   2585     11659624         1       0  [11659624]\n",
       "1         0        1  22179     11659624         1       0  [11659624]\n",
       "2         0        2  20486     11659624         1       0  [11659624]\n",
       "3         0        3  17813     11659624         1       0  [11659624]\n",
       "4         0        4  10809     11659624         1       0  [11659624]"
      ]
     },
     "execution_count": 82,
     "metadata": {},
     "output_type": "execute_result"
    }
   ],
   "source": [
    "final_merged1.head()"
   ]
  },
  {
   "cell_type": "code",
   "execution_count": 91,
   "metadata": {},
   "outputs": [],
   "source": [
    "def remove_same_products(row):\n",
    "    if row['productid_x'] in row['productid_y']:\n",
    "        return None\n",
    "    else:\n",
    "        return row['productid_x']\n",
    "    "
   ]
  },
  {
   "cell_type": "code",
   "execution_count": null,
   "metadata": {},
   "outputs": [],
   "source": [
    "final_merged1['productid_x'] = final_merged1.apply(remove_same_products,axis=1)"
   ]
  },
  {
   "cell_type": "code",
   "execution_count": 97,
   "metadata": {},
   "outputs": [
    {
     "data": {
      "text/plain": [
       "24883"
      ]
     },
     "execution_count": 97,
     "metadata": {},
     "output_type": "execute_result"
    }
   ],
   "source": [
    "final_merged1.dropna()['UserId_x'].nunique()"
   ]
  },
  {
   "cell_type": "code",
   "execution_count": null,
   "metadata": {},
   "outputs": [],
   "source": [
    "final_merged1"
   ]
  },
  {
   "cell_type": "code",
   "execution_count": 76,
   "metadata": {},
   "outputs": [
    {
     "data": {
      "text/plain": [
       "(1890781, 6)"
      ]
     },
     "execution_count": 76,
     "metadata": {},
     "output_type": "execute_result"
    }
   ],
   "source": [
    "final_merged.shape"
   ]
  },
  {
   "cell_type": "code",
   "execution_count": 98,
   "metadata": {},
   "outputs": [],
   "source": [
    "final_pred = final_merged1.groupby('UserId_x')['productid_x'].unique().reset_index()"
   ]
  },
  {
   "cell_type": "code",
   "execution_count": 99,
   "metadata": {},
   "outputs": [
    {
     "data": {
      "text/html": [
       "<div>\n",
       "<style scoped>\n",
       "    .dataframe tbody tr th:only-of-type {\n",
       "        vertical-align: middle;\n",
       "    }\n",
       "\n",
       "    .dataframe tbody tr th {\n",
       "        vertical-align: top;\n",
       "    }\n",
       "\n",
       "    .dataframe thead th {\n",
       "        text-align: right;\n",
       "    }\n",
       "</style>\n",
       "<table border=\"1\" class=\"dataframe\">\n",
       "  <thead>\n",
       "    <tr style=\"text-align: right;\">\n",
       "      <th></th>\n",
       "      <th>UserId_x</th>\n",
       "      <th>productid_x</th>\n",
       "    </tr>\n",
       "  </thead>\n",
       "  <tbody>\n",
       "    <tr>\n",
       "      <th>0</th>\n",
       "      <td>0</td>\n",
       "      <td>[nan]</td>\n",
       "    </tr>\n",
       "    <tr>\n",
       "      <th>1</th>\n",
       "      <td>1</td>\n",
       "      <td>[nan]</td>\n",
       "    </tr>\n",
       "    <tr>\n",
       "      <th>2</th>\n",
       "      <td>2</td>\n",
       "      <td>[nan, 11714456.0, 12407198.0, 11481104.0, 1240...</td>\n",
       "    </tr>\n",
       "    <tr>\n",
       "      <th>3</th>\n",
       "      <td>3</td>\n",
       "      <td>[nan, 11659530.0, 11659780.0, 11714538.0, 1236...</td>\n",
       "    </tr>\n",
       "    <tr>\n",
       "      <th>4</th>\n",
       "      <td>4</td>\n",
       "      <td>[nan, 12407010.0, 12437314.0, 12437472.0, 1243...</td>\n",
       "    </tr>\n",
       "  </tbody>\n",
       "</table>\n",
       "</div>"
      ],
      "text/plain": [
       "   UserId_x                                        productid_x\n",
       "0         0                                              [nan]\n",
       "1         1                                              [nan]\n",
       "2         2  [nan, 11714456.0, 12407198.0, 11481104.0, 1240...\n",
       "3         3  [nan, 11659530.0, 11659780.0, 11714538.0, 1236...\n",
       "4         4  [nan, 12407010.0, 12437314.0, 12437472.0, 1243..."
      ]
     },
     "execution_count": 99,
     "metadata": {},
     "output_type": "execute_result"
    }
   ],
   "source": [
    "final_pred.head()"
   ]
  },
  {
   "cell_type": "code",
   "execution_count": null,
   "metadata": {},
   "outputs": [],
   "source": [
    "final_pred['productid_x'].apply(lambda x:[i for i in x if str(x) != 'nan'])"
   ]
  },
  {
   "cell_type": "code",
   "execution_count": 337,
   "metadata": {},
   "outputs": [
    {
     "data": {
      "text/plain": [
       "[12658512, 12407154]"
      ]
     },
     "execution_count": 337,
     "metadata": {},
     "output_type": "execute_result"
    }
   ],
   "source": [
    "top10[:2]\n",
    "     "
   ]
  },
  {
   "cell_type": "code",
   "execution_count": 338,
   "metadata": {},
   "outputs": [],
   "source": [
    "def append_list(row):\n",
    "    ct=0\n",
    "    row = list(row)\n",
    "    if len(row) < 10:\n",
    "        while(len(row)<10):\n",
    "            row.append(top10[ct])\n",
    "            ct = ct + 1\n",
    "        return row\n",
    "    else:\n",
    "        return row[:10]"
   ]
  },
  {
   "cell_type": "code",
   "execution_count": 339,
   "metadata": {},
   "outputs": [],
   "source": [
    "final_pred['productid'] = final_pred['productid'].apply(append_list)"
   ]
  },
  {
   "cell_type": "code",
   "execution_count": 340,
   "metadata": {},
   "outputs": [
    {
     "data": {
      "text/html": [
       "<div>\n",
       "<style scoped>\n",
       "    .dataframe tbody tr th:only-of-type {\n",
       "        vertical-align: middle;\n",
       "    }\n",
       "\n",
       "    .dataframe tbody tr th {\n",
       "        vertical-align: top;\n",
       "    }\n",
       "\n",
       "    .dataframe thead th {\n",
       "        text-align: right;\n",
       "    }\n",
       "</style>\n",
       "<table border=\"1\" class=\"dataframe\">\n",
       "  <thead>\n",
       "    <tr style=\"text-align: right;\">\n",
       "      <th></th>\n",
       "      <th>UserId_x</th>\n",
       "      <th>productid</th>\n",
       "    </tr>\n",
       "  </thead>\n",
       "  <tbody>\n",
       "    <tr>\n",
       "      <th>0</th>\n",
       "      <td>0</td>\n",
       "      <td>[11659624, 12658512, 12407154, 12407730, 12371...</td>\n",
       "    </tr>\n",
       "    <tr>\n",
       "      <th>1</th>\n",
       "      <td>1</td>\n",
       "      <td>[12406904, 12658512, 12407154, 12407730, 12371...</td>\n",
       "    </tr>\n",
       "    <tr>\n",
       "      <th>2</th>\n",
       "      <td>2</td>\n",
       "      <td>[11660064, 11481104, 12407198, 11714456, 12407...</td>\n",
       "    </tr>\n",
       "    <tr>\n",
       "      <th>3</th>\n",
       "      <td>3</td>\n",
       "      <td>[12360440, 12371354, 12407298, 12407522, 12407...</td>\n",
       "    </tr>\n",
       "    <tr>\n",
       "      <th>4</th>\n",
       "      <td>4</td>\n",
       "      <td>[11659934, 12437468, 12407010, 12437314, 12437...</td>\n",
       "    </tr>\n",
       "  </tbody>\n",
       "</table>\n",
       "</div>"
      ],
      "text/plain": [
       "   UserId_x                                          productid\n",
       "0         0  [11659624, 12658512, 12407154, 12407730, 12371...\n",
       "1         1  [12406904, 12658512, 12407154, 12407730, 12371...\n",
       "2         2  [11660064, 11481104, 12407198, 11714456, 12407...\n",
       "3         3  [12360440, 12371354, 12407298, 12407522, 12407...\n",
       "4         4  [11659934, 12437468, 12407010, 12437314, 12437..."
      ]
     },
     "execution_count": 340,
     "metadata": {},
     "output_type": "execute_result"
    }
   ],
   "source": [
    "final_pred.head()"
   ]
  },
  {
   "cell_type": "code",
   "execution_count": 196,
   "metadata": {},
   "outputs": [
    {
     "data": {
      "text/html": [
       "<div>\n",
       "<style scoped>\n",
       "    .dataframe tbody tr th:only-of-type {\n",
       "        vertical-align: middle;\n",
       "    }\n",
       "\n",
       "    .dataframe tbody tr th {\n",
       "        vertical-align: top;\n",
       "    }\n",
       "\n",
       "    .dataframe thead th {\n",
       "        text-align: right;\n",
       "    }\n",
       "</style>\n",
       "<table border=\"1\" class=\"dataframe\">\n",
       "  <thead>\n",
       "    <tr style=\"text-align: right;\">\n",
       "      <th></th>\n",
       "      <th>UserId_x</th>\n",
       "      <th>productid</th>\n",
       "    </tr>\n",
       "  </thead>\n",
       "  <tbody>\n",
       "    <tr>\n",
       "      <th>0</th>\n",
       "      <td>0</td>\n",
       "      <td>[11659624, 12658512, 12407154, 12407730, 12371...</td>\n",
       "    </tr>\n",
       "    <tr>\n",
       "      <th>1</th>\n",
       "      <td>1</td>\n",
       "      <td>[12406904, 12658512, 12407154, 12407730, 12371...</td>\n",
       "    </tr>\n",
       "    <tr>\n",
       "      <th>2</th>\n",
       "      <td>2</td>\n",
       "      <td>[11660064, 11481104, 12407198, 11714456, 12371...</td>\n",
       "    </tr>\n",
       "    <tr>\n",
       "      <th>3</th>\n",
       "      <td>3</td>\n",
       "      <td>[12360440, 12371354, 12407298, 12407522, 12407...</td>\n",
       "    </tr>\n",
       "    <tr>\n",
       "      <th>4</th>\n",
       "      <td>4</td>\n",
       "      <td>[11659934, 12437468, 12407010, 11361056, 12360...</td>\n",
       "    </tr>\n",
       "  </tbody>\n",
       "</table>\n",
       "</div>"
      ],
      "text/plain": [
       "   UserId_x                                          productid\n",
       "0         0  [11659624, 12658512, 12407154, 12407730, 12371...\n",
       "1         1  [12406904, 12658512, 12407154, 12407730, 12371...\n",
       "2         2  [11660064, 11481104, 12407198, 11714456, 12371...\n",
       "3         3  [12360440, 12371354, 12407298, 12407522, 12407...\n",
       "4         4  [11659934, 12437468, 12407010, 11361056, 12360..."
      ]
     },
     "execution_count": 196,
     "metadata": {},
     "output_type": "execute_result"
    }
   ],
   "source": [
    "final_pred.head()"
   ]
  },
  {
   "cell_type": "code",
   "execution_count": null,
   "metadata": {},
   "outputs": [],
   "source": []
  },
  {
   "cell_type": "code",
   "execution_count": 197,
   "metadata": {},
   "outputs": [
    {
     "data": {
      "text/plain": [
       "[12658512,\n",
       " 12407154,\n",
       " 12407730,\n",
       " 12371378,\n",
       " 11659624,\n",
       " 12407400,\n",
       " 12406904,\n",
       " 12407742,\n",
       " 12407398,\n",
       " 12360424]"
      ]
     },
     "execution_count": 197,
     "metadata": {},
     "output_type": "execute_result"
    }
   ],
   "source": [
    "top10"
   ]
  },
  {
   "cell_type": "code",
   "execution_count": 76,
   "metadata": {},
   "outputs": [
    {
     "data": {
      "text/html": [
       "<div>\n",
       "<style scoped>\n",
       "    .dataframe tbody tr th:only-of-type {\n",
       "        vertical-align: middle;\n",
       "    }\n",
       "\n",
       "    .dataframe tbody tr th {\n",
       "        vertical-align: top;\n",
       "    }\n",
       "\n",
       "    .dataframe thead th {\n",
       "        text-align: right;\n",
       "    }\n",
       "</style>\n",
       "<table border=\"1\" class=\"dataframe\">\n",
       "  <thead>\n",
       "    <tr style=\"text-align: right;\">\n",
       "      <th></th>\n",
       "      <th>UserId</th>\n",
       "      <th>product_list</th>\n",
       "    </tr>\n",
       "  </thead>\n",
       "  <tbody>\n",
       "    <tr>\n",
       "      <th>0</th>\n",
       "      <td>2</td>\n",
       "      <td>[11660064, 13653526, 13653524, 12658512, 12407...</td>\n",
       "    </tr>\n",
       "    <tr>\n",
       "      <th>1</th>\n",
       "      <td>28</td>\n",
       "      <td>[11659838, 12360404, 12407652, 12407706, 13039...</td>\n",
       "    </tr>\n",
       "    <tr>\n",
       "      <th>2</th>\n",
       "      <td>36</td>\n",
       "      <td>[11460916, 12360448, 12407648, 11360860, 11480...</td>\n",
       "    </tr>\n",
       "    <tr>\n",
       "      <th>3</th>\n",
       "      <td>38</td>\n",
       "      <td>[11659712, 11659798, 12406972, 11659808, 12407...</td>\n",
       "    </tr>\n",
       "    <tr>\n",
       "      <th>4</th>\n",
       "      <td>41</td>\n",
       "      <td>[11659236, 11659232, 12658512, 12407154, 12407...</td>\n",
       "    </tr>\n",
       "  </tbody>\n",
       "</table>\n",
       "</div>"
      ],
      "text/plain": [
       "   UserId                                       product_list\n",
       "0       2  [11660064, 13653526, 13653524, 12658512, 12407...\n",
       "1      28  [11659838, 12360404, 12407652, 12407706, 13039...\n",
       "2      36  [11460916, 12360448, 12407648, 11360860, 11480...\n",
       "3      38  [11659712, 11659798, 12406972, 11659808, 12407...\n",
       "4      41  [11659236, 11659232, 12658512, 12407154, 12407..."
      ]
     },
     "execution_count": 76,
     "metadata": {},
     "output_type": "execute_result"
    }
   ],
   "source": [
    "pd.read_csv('capillary_nearest_neighbour.csv').head()"
   ]
  },
  {
   "cell_type": "code",
   "execution_count": 341,
   "metadata": {},
   "outputs": [],
   "source": [
    "final_pred = final_pred.rename({'UserId_x':'UserId','productid':'product_list'},axis=1)"
   ]
  },
  {
   "cell_type": "code",
   "execution_count": 342,
   "metadata": {},
   "outputs": [],
   "source": [
    "final_pred.merge(test, on= 'UserId', how='inner').to_csv('capillary_nearest_neighbour_image128_encode_cosine_.csv',index=False)\n",
    "\n",
    "\n"
   ]
  },
  {
   "cell_type": "code",
   "execution_count": 251,
   "metadata": {},
   "outputs": [],
   "source": [
    "#final_pred.to_csv('capillary_nearest_neighbour.csv',index=False)"
   ]
  },
  {
   "cell_type": "code",
   "execution_count": 252,
   "metadata": {},
   "outputs": [
    {
     "data": {
      "text/html": [
       "<div>\n",
       "<style scoped>\n",
       "    .dataframe tbody tr th:only-of-type {\n",
       "        vertical-align: middle;\n",
       "    }\n",
       "\n",
       "    .dataframe tbody tr th {\n",
       "        vertical-align: top;\n",
       "    }\n",
       "\n",
       "    .dataframe thead th {\n",
       "        text-align: right;\n",
       "    }\n",
       "</style>\n",
       "<table border=\"1\" class=\"dataframe\">\n",
       "  <thead>\n",
       "    <tr style=\"text-align: right;\">\n",
       "      <th></th>\n",
       "      <th>UserId</th>\n",
       "      <th>product_list</th>\n",
       "    </tr>\n",
       "  </thead>\n",
       "  <tbody>\n",
       "    <tr>\n",
       "      <th>0</th>\n",
       "      <td>2</td>\n",
       "      <td>[12658382, 12658382, 12658382, 12658382, 12658...</td>\n",
       "    </tr>\n",
       "    <tr>\n",
       "      <th>1</th>\n",
       "      <td>28</td>\n",
       "      <td>[12658382, 12658382, 12658382, 12658382, 12658...</td>\n",
       "    </tr>\n",
       "    <tr>\n",
       "      <th>2</th>\n",
       "      <td>36</td>\n",
       "      <td>[12658382, 12658382, 12658382, 12658382, 12658...</td>\n",
       "    </tr>\n",
       "    <tr>\n",
       "      <th>3</th>\n",
       "      <td>38</td>\n",
       "      <td>[12658382, 12658382, 12658382, 12658382, 12658...</td>\n",
       "    </tr>\n",
       "    <tr>\n",
       "      <th>4</th>\n",
       "      <td>41</td>\n",
       "      <td>[12658382, 12658382, 12658382, 12658382, 12658...</td>\n",
       "    </tr>\n",
       "  </tbody>\n",
       "</table>\n",
       "</div>"
      ],
      "text/plain": [
       "   UserId                                       product_list\n",
       "0       2  [12658382, 12658382, 12658382, 12658382, 12658...\n",
       "1      28  [12658382, 12658382, 12658382, 12658382, 12658...\n",
       "2      36  [12658382, 12658382, 12658382, 12658382, 12658...\n",
       "3      38  [12658382, 12658382, 12658382, 12658382, 12658...\n",
       "4      41  [12658382, 12658382, 12658382, 12658382, 12658..."
      ]
     },
     "execution_count": 252,
     "metadata": {},
     "output_type": "execute_result"
    }
   ],
   "source": [
    "sample.head()"
   ]
  },
  {
   "cell_type": "code",
   "execution_count": 112,
   "metadata": {},
   "outputs": [],
   "source": [
    "#collab_pred = total_df.apply(lambda x: algo.predict(x[0],x[1]),axis=1)"
   ]
  },
  {
   "cell_type": "code",
   "execution_count": 113,
   "metadata": {},
   "outputs": [],
   "source": [
    "# reader = Reader(rating_scale=(0.0, 1.0))\n",
    "# data = Dataset.load_from_df(train_agg[['UserId', 'productid', 'Quantity']], reader)\n",
    "# data.split(n_folds=3) # 5-fold cross validation\n",
    "# algo = SVD(5) # matrix factorization using 10 latent factors\n",
    "# evaluate(algo, data, measures=['MAE']) # check validation scores"
   ]
  },
  {
   "cell_type": "code",
   "execution_count": 114,
   "metadata": {},
   "outputs": [],
   "source": [
    "# trainset = data.build_full_trainset() # train on full training set\n",
    "# algo.train(trainset)"
   ]
  },
  {
   "cell_type": "code",
   "execution_count": null,
   "metadata": {},
   "outputs": [],
   "source": []
  },
  {
   "cell_type": "code",
   "execution_count": 33,
   "metadata": {},
   "outputs": [
    {
     "data": {
      "text/plain": [
       "count    132551.000000\n",
       "mean          1.013670\n",
       "std           0.152367\n",
       "min           1.000000\n",
       "25%           1.000000\n",
       "50%           1.000000\n",
       "75%           1.000000\n",
       "max          12.000000\n",
       "Name: Quantity, dtype: float64"
      ]
     },
     "execution_count": 33,
     "metadata": {},
     "output_type": "execute_result"
    }
   ],
   "source": [
    "train['Quantity'].describe()"
   ]
  },
  {
   "cell_type": "code",
   "execution_count": 20,
   "metadata": {},
   "outputs": [
    {
     "data": {
      "text/plain": [
       "12658512    881\n",
       "12407154    640\n",
       "12407730    521\n",
       "12371378    468\n",
       "11659624    390\n",
       "12407400    382\n",
       "12406904    378\n",
       "12407742    372\n",
       "12407398    370\n",
       "12360424    363\n",
       "12406886    362\n",
       "11659236    356\n",
       "12360426    354\n",
       "12407382    352\n",
       "12360438    337\n",
       "13039848    322\n",
       "12657692    321\n",
       "12407132    318\n",
       "12407042    317\n",
       "11659626    314\n",
       "12658406    313\n",
       "12371376    312\n",
       "12973004    312\n",
       "11659538    308\n",
       "12696914    293\n",
       "12657532    293\n",
       "12406888    292\n",
       "13039516    278\n",
       "12407390    272\n",
       "13038648    271\n",
       "           ... \n",
       "11147300      1\n",
       "12437214      1\n",
       "12436412      1\n",
       "11149974      1\n",
       "13039402      1\n",
       "12437044      1\n",
       "11714468      1\n",
       "13039356      1\n",
       "13650136      1\n",
       "12936684      1\n",
       "13039006      1\n",
       "12936556      1\n",
       "13039612      1\n",
       "13650264      1\n",
       "12436542      1\n",
       "12406960      1\n",
       "11360904      1\n",
       "11150146      1\n",
       "12423436      1\n",
       "11481030      1\n",
       "11481106      1\n",
       "12407646      1\n",
       "12423446      1\n",
       "12936664      1\n",
       "12423476      1\n",
       "11460984      1\n",
       "13653556      1\n",
       "12445186      1\n",
       "12436742      1\n",
       "11659280      1\n",
       "Name: productid, Length: 3026, dtype: int64"
      ]
     },
     "execution_count": 20,
     "metadata": {},
     "output_type": "execute_result"
    }
   ],
   "source": [
    "train['productid'].value_counts()"
   ]
  },
  {
   "cell_type": "code",
   "execution_count": 18,
   "metadata": {},
   "outputs": [
    {
     "data": {
      "text/plain": [
       "26784    42819\n",
       "23020      332\n",
       "2110       244\n",
       "4420       206\n",
       "19078      194\n",
       "12964      190\n",
       "9697       182\n",
       "2777       179\n",
       "11566      174\n",
       "6620       174\n",
       "22390      172\n",
       "23447      161\n",
       "10839      155\n",
       "16313      149\n",
       "23221      149\n",
       "1699       141\n",
       "16585      140\n",
       "26866      138\n",
       "18368      127\n",
       "21548      108\n",
       "13650      107\n",
       "2067       107\n",
       "22761       95\n",
       "9230        95\n",
       "8998        86\n",
       "13457       85\n",
       "21361       84\n",
       "1874        83\n",
       "6104        82\n",
       "6801        82\n",
       "         ...  \n",
       "2116         1\n",
       "2372         1\n",
       "14658        1\n",
       "8513         1\n",
       "20687        1\n",
       "16589        1\n",
       "18636        1\n",
       "6342         1\n",
       "197          1\n",
       "2244         1\n",
       "14530        1\n",
       "18508        1\n",
       "24649        1\n",
       "6214         1\n",
       "12355        1\n",
       "16067        1\n",
       "14402        1\n",
       "24527        1\n",
       "14274        1\n",
       "24399        1\n",
       "18252        1\n",
       "5958         1\n",
       "3909         1\n",
       "1860         1\n",
       "16195        1\n",
       "14146        1\n",
       "20173        1\n",
       "26312        1\n",
       "3781         1\n",
       "0            1\n",
       "Name: UserId, Length: 27778, dtype: int64"
      ]
     },
     "execution_count": 18,
     "metadata": {},
     "output_type": "execute_result"
    }
   ],
   "source": [
    "train['UserId'].value_counts()"
   ]
  },
  {
   "cell_type": "raw",
   "metadata": {},
   "source": []
  }
 ],
 "metadata": {
  "kernelspec": {
   "display_name": "Python 3",
   "language": "python",
   "name": "python3"
  },
  "language_info": {
   "codemirror_mode": {
    "name": "ipython",
    "version": 3
   },
   "file_extension": ".py",
   "mimetype": "text/x-python",
   "name": "python",
   "nbconvert_exporter": "python",
   "pygments_lexer": "ipython3",
   "version": "3.7.0"
  }
 },
 "nbformat": 4,
 "nbformat_minor": 2
}
